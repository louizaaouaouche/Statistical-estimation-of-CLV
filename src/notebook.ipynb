{
  "cells": [
    {
      "cell_type": "markdown",
      "metadata": {
        "id": "Zn_e0jl7zVEN"
      },
      "source": [
        "## On boarding : "
      ]
    },
    {
      "cell_type": "markdown",
      "metadata": {
        "id": "ES1XDSLehnCW"
      },
      "source": [
        "### Data Generator"
      ]
    },
    {
      "cell_type": "markdown",
      "metadata": {
        "id": "CJ0F-1kJkycl"
      },
      "source": [
        "##### PARETO "
      ]
    },
    {
      "cell_type": "code",
      "execution_count": null,
      "metadata": {
        "id": "yN_mkdbkltoS"
      },
      "outputs": [],
      "source": [
        "# imports\n",
        "import numpy as np\n",
        "import pandas as pd\n",
        "import matplotlib.pyplot as plt\n",
        "import seaborn as sns"
      ]
    },
    {
      "cell_type": "code",
      "execution_count": null,
      "metadata": {
        "id": "LbIillu716q1"
      },
      "outputs": [],
      "source": [
        "# GENERATOR WITH TWO PARETO DISTRIBUTION\n",
        "\n",
        "# Parameters\n",
        "n = 1000\n",
        "DureeObs = 12*4\n",
        "\n",
        "moyenne1 = 4  # Mean in the first group\n",
        "shape1 = 0.1  # Small shape: close to exponential distribution\n",
        "\n",
        "moyenne2 = 9  # Mean in the second group\n",
        "shape2 = 0.4  # Larger shape: heavy-tailed distribution\n",
        "\n",
        "ratio_classe = 0.3  # Proportion of clients in the first group in the dataset\n",
        "\n",
        "# Expectation across both groups\n",
        "CLV = ratio_classe*moyenne1+(1-ratio_classe)*moyenne2\n",
        "\n",
        "# Data generation\n",
        "location1 = 0\n",
        "scale = moyenne1*(1-shape1)-location1\n",
        "T1 = np.random.gamma(shape1, scale, n)\n",
        "\n",
        "location2 = 0\n",
        "scale = moyenne2*(1-shape2)-location2\n",
        "T2 = np.random.gamma(shape2, scale, n)\n",
        "\n",
        "ber = np.random.rand(n) > ratio_classe\n",
        "\n",
        "T = (1-ber)*T1 + ber*T2\n",
        "\n",
        "Duree_depuis_souscription = DureeObs * np.random.rand(n)\n",
        "Y = T*(T<Duree_depuis_souscription)\n",
        "#Y = np.where(T<Duree_depuis_souscription, T, np.nan)\n",
        "\n",
        "\n",
        "# The data is now (Y, Duree_depuis_souscription)"
      ]
    },
    {
      "cell_type": "code",
      "execution_count": null,
      "metadata": {
        "id": "oIDkssNMtUEZ"
      },
      "outputs": [],
      "source": [
        "# GENERATOR WITH ONLY ONE PARETO DISTRIBUTION\n",
        "\n",
        "# Parameters\n",
        "n = 1000\n",
        "DureeObs = 12*4\n",
        "\n",
        "moyenne1 = 4  # Mean in the first group\n",
        "shape1 = 0.1  # Small shape: close to exponential distribution\n",
        "\n",
        "#moyenne2 = 9  # Mean in the second group\n",
        "#shape2 = 0.4  # Larger shape: heavy-tailed distribution\n",
        "\n",
        "#ratio_classe = 0.3  # Proportion of clients in the first group in the dataset\n",
        "\n",
        "# Expectation across both groups\n",
        "CLV = moyenne1 #+(1-ratio_classe)*moyenne2\n",
        "\n",
        "# Data generation\n",
        "location1 = 0   # Que fait location et que fait shape\n",
        "scale = moyenne1*(1-shape1)-location1\n",
        "T1 = np.random.gamma(shape1, scale, n)\n",
        "\n",
        "\n",
        "# location2 = 0\n",
        "# scale = moyenne2*(1-shape2)-location2\n",
        "# T2 = np.random.gamma(shape2, scale, n)\n",
        "\n",
        "# ber = np.random.rand(n) > ratio_classe  \n",
        "\n",
        "# T = (1-ber)*T1 + ber*T2\n",
        "\n",
        "Duree_depuis_souscription = DureeObs * np.random.rand(n) # Q\n",
        "Y = T*(T<=Duree_depuis_souscription) +  Duree_depuis_souscription*(T>Duree_depuis_souscription)\n",
        "#Y = np.where(T<Duree_depuis_souscription, T, np.nan)\n",
        "\n",
        "# The data is now (Y, Duree_depuis_souscription)"
      ]
    },
    {
      "cell_type": "code",
      "execution_count": null,
      "metadata": {
        "id": "1FgwHndXhtmU"
      },
      "outputs": [],
      "source": [
        "df = pd.DataFrame({'Y': Y, 'DUREE_SOUSCRIPTION':Duree_depuis_souscription}, columns=['Y', 'DUREE_SOUSCRIPTION'])"
      ]
    },
    {
      "cell_type": "code",
      "execution_count": null,
      "metadata": {
        "colab": {
          "base_uri": "https://localhost:8080/",
          "height": 423
        },
        "id": "PBHqXTcyifX0",
        "outputId": "166df696-7d15-4d5b-be64-a6f2d3d85851"
      },
      "outputs": [
        {
          "data": {
            "text/html": [
              "\n",
              "  <div id=\"df-8f604ee2-8ee0-4de6-bb65-e3dd4e972f9e\">\n",
              "    <div class=\"colab-df-container\">\n",
              "      <div>\n",
              "<style scoped>\n",
              "    .dataframe tbody tr th:only-of-type {\n",
              "        vertical-align: middle;\n",
              "    }\n",
              "\n",
              "    .dataframe tbody tr th {\n",
              "        vertical-align: top;\n",
              "    }\n",
              "\n",
              "    .dataframe thead th {\n",
              "        text-align: right;\n",
              "    }\n",
              "</style>\n",
              "<table border=\"1\" class=\"dataframe\">\n",
              "  <thead>\n",
              "    <tr style=\"text-align: right;\">\n",
              "      <th></th>\n",
              "      <th>Y</th>\n",
              "      <th>DUREE_SOUSCRIPTION</th>\n",
              "    </tr>\n",
              "  </thead>\n",
              "  <tbody>\n",
              "    <tr>\n",
              "      <th>0</th>\n",
              "      <td>1.413540</td>\n",
              "      <td>45.652002</td>\n",
              "    </tr>\n",
              "    <tr>\n",
              "      <th>1</th>\n",
              "      <td>2.783485</td>\n",
              "      <td>37.564284</td>\n",
              "    </tr>\n",
              "    <tr>\n",
              "      <th>2</th>\n",
              "      <td>13.101404</td>\n",
              "      <td>22.324623</td>\n",
              "    </tr>\n",
              "    <tr>\n",
              "      <th>3</th>\n",
              "      <td>1.314163</td>\n",
              "      <td>18.294584</td>\n",
              "    </tr>\n",
              "    <tr>\n",
              "      <th>4</th>\n",
              "      <td>0.008050</td>\n",
              "      <td>37.836667</td>\n",
              "    </tr>\n",
              "    <tr>\n",
              "      <th>...</th>\n",
              "      <td>...</td>\n",
              "      <td>...</td>\n",
              "    </tr>\n",
              "    <tr>\n",
              "      <th>995</th>\n",
              "      <td>1.127229</td>\n",
              "      <td>45.318791</td>\n",
              "    </tr>\n",
              "    <tr>\n",
              "      <th>996</th>\n",
              "      <td>0.092594</td>\n",
              "      <td>22.044323</td>\n",
              "    </tr>\n",
              "    <tr>\n",
              "      <th>997</th>\n",
              "      <td>1.727893</td>\n",
              "      <td>18.558795</td>\n",
              "    </tr>\n",
              "    <tr>\n",
              "      <th>998</th>\n",
              "      <td>0.275214</td>\n",
              "      <td>46.794009</td>\n",
              "    </tr>\n",
              "    <tr>\n",
              "      <th>999</th>\n",
              "      <td>2.206993</td>\n",
              "      <td>11.062864</td>\n",
              "    </tr>\n",
              "  </tbody>\n",
              "</table>\n",
              "<p>1000 rows × 2 columns</p>\n",
              "</div>\n",
              "      <button class=\"colab-df-convert\" onclick=\"convertToInteractive('df-8f604ee2-8ee0-4de6-bb65-e3dd4e972f9e')\"\n",
              "              title=\"Convert this dataframe to an interactive table.\"\n",
              "              style=\"display:none;\">\n",
              "        \n",
              "  <svg xmlns=\"http://www.w3.org/2000/svg\" height=\"24px\"viewBox=\"0 0 24 24\"\n",
              "       width=\"24px\">\n",
              "    <path d=\"M0 0h24v24H0V0z\" fill=\"none\"/>\n",
              "    <path d=\"M18.56 5.44l.94 2.06.94-2.06 2.06-.94-2.06-.94-.94-2.06-.94 2.06-2.06.94zm-11 1L8.5 8.5l.94-2.06 2.06-.94-2.06-.94L8.5 2.5l-.94 2.06-2.06.94zm10 10l.94 2.06.94-2.06 2.06-.94-2.06-.94-.94-2.06-.94 2.06-2.06.94z\"/><path d=\"M17.41 7.96l-1.37-1.37c-.4-.4-.92-.59-1.43-.59-.52 0-1.04.2-1.43.59L10.3 9.45l-7.72 7.72c-.78.78-.78 2.05 0 2.83L4 21.41c.39.39.9.59 1.41.59.51 0 1.02-.2 1.41-.59l7.78-7.78 2.81-2.81c.8-.78.8-2.07 0-2.86zM5.41 20L4 18.59l7.72-7.72 1.47 1.35L5.41 20z\"/>\n",
              "  </svg>\n",
              "      </button>\n",
              "      \n",
              "  <style>\n",
              "    .colab-df-container {\n",
              "      display:flex;\n",
              "      flex-wrap:wrap;\n",
              "      gap: 12px;\n",
              "    }\n",
              "\n",
              "    .colab-df-convert {\n",
              "      background-color: #E8F0FE;\n",
              "      border: none;\n",
              "      border-radius: 50%;\n",
              "      cursor: pointer;\n",
              "      display: none;\n",
              "      fill: #1967D2;\n",
              "      height: 32px;\n",
              "      padding: 0 0 0 0;\n",
              "      width: 32px;\n",
              "    }\n",
              "\n",
              "    .colab-df-convert:hover {\n",
              "      background-color: #E2EBFA;\n",
              "      box-shadow: 0px 1px 2px rgba(60, 64, 67, 0.3), 0px 1px 3px 1px rgba(60, 64, 67, 0.15);\n",
              "      fill: #174EA6;\n",
              "    }\n",
              "\n",
              "    [theme=dark] .colab-df-convert {\n",
              "      background-color: #3B4455;\n",
              "      fill: #D2E3FC;\n",
              "    }\n",
              "\n",
              "    [theme=dark] .colab-df-convert:hover {\n",
              "      background-color: #434B5C;\n",
              "      box-shadow: 0px 1px 3px 1px rgba(0, 0, 0, 0.15);\n",
              "      filter: drop-shadow(0px 1px 2px rgba(0, 0, 0, 0.3));\n",
              "      fill: #FFFFFF;\n",
              "    }\n",
              "  </style>\n",
              "\n",
              "      <script>\n",
              "        const buttonEl =\n",
              "          document.querySelector('#df-8f604ee2-8ee0-4de6-bb65-e3dd4e972f9e button.colab-df-convert');\n",
              "        buttonEl.style.display =\n",
              "          google.colab.kernel.accessAllowed ? 'block' : 'none';\n",
              "\n",
              "        async function convertToInteractive(key) {\n",
              "          const element = document.querySelector('#df-8f604ee2-8ee0-4de6-bb65-e3dd4e972f9e');\n",
              "          const dataTable =\n",
              "            await google.colab.kernel.invokeFunction('convertToInteractive',\n",
              "                                                     [key], {});\n",
              "          if (!dataTable) return;\n",
              "\n",
              "          const docLinkHtml = 'Like what you see? Visit the ' +\n",
              "            '<a target=\"_blank\" href=https://colab.research.google.com/notebooks/data_table.ipynb>data table notebook</a>'\n",
              "            + ' to learn more about interactive tables.';\n",
              "          element.innerHTML = '';\n",
              "          dataTable['output_type'] = 'display_data';\n",
              "          await google.colab.output.renderOutput(dataTable, element);\n",
              "          const docLink = document.createElement('div');\n",
              "          docLink.innerHTML = docLinkHtml;\n",
              "          element.appendChild(docLink);\n",
              "        }\n",
              "      </script>\n",
              "    </div>\n",
              "  </div>\n",
              "  "
            ],
            "text/plain": [
              "             Y  DUREE_SOUSCRIPTION\n",
              "0     1.413540           45.652002\n",
              "1     2.783485           37.564284\n",
              "2    13.101404           22.324623\n",
              "3     1.314163           18.294584\n",
              "4     0.008050           37.836667\n",
              "..         ...                 ...\n",
              "995   1.127229           45.318791\n",
              "996   0.092594           22.044323\n",
              "997   1.727893           18.558795\n",
              "998   0.275214           46.794009\n",
              "999   2.206993           11.062864\n",
              "\n",
              "[1000 rows x 2 columns]"
            ]
          },
          "execution_count": 61,
          "metadata": {},
          "output_type": "execute_result"
        }
      ],
      "source": [
        "df"
      ]
    },
    {
      "cell_type": "code",
      "execution_count": null,
      "metadata": {
        "colab": {
          "base_uri": "https://localhost:8080/",
          "height": 300
        },
        "id": "tsM867gbhW9s",
        "outputId": "333aca20-ac33-4157-f8e8-f82b44187ba6"
      },
      "outputs": [
        {
          "data": {
            "text/html": [
              "\n",
              "  <div id=\"df-c030b973-aaf0-4ebd-a0d2-39b80573e996\">\n",
              "    <div class=\"colab-df-container\">\n",
              "      <div>\n",
              "<style scoped>\n",
              "    .dataframe tbody tr th:only-of-type {\n",
              "        vertical-align: middle;\n",
              "    }\n",
              "\n",
              "    .dataframe tbody tr th {\n",
              "        vertical-align: top;\n",
              "    }\n",
              "\n",
              "    .dataframe thead th {\n",
              "        text-align: right;\n",
              "    }\n",
              "</style>\n",
              "<table border=\"1\" class=\"dataframe\">\n",
              "  <thead>\n",
              "    <tr style=\"text-align: right;\">\n",
              "      <th></th>\n",
              "      <th>Y</th>\n",
              "      <th>DUREE_SOUSCRIPTION</th>\n",
              "    </tr>\n",
              "  </thead>\n",
              "  <tbody>\n",
              "    <tr>\n",
              "      <th>count</th>\n",
              "      <td>1.000000e+03</td>\n",
              "      <td>1000.000000</td>\n",
              "    </tr>\n",
              "    <tr>\n",
              "      <th>mean</th>\n",
              "      <td>1.422533e+00</td>\n",
              "      <td>23.502933</td>\n",
              "    </tr>\n",
              "    <tr>\n",
              "      <th>std</th>\n",
              "      <td>2.584672e+00</td>\n",
              "      <td>14.062312</td>\n",
              "    </tr>\n",
              "    <tr>\n",
              "      <th>min</th>\n",
              "      <td>2.589943e-19</td>\n",
              "      <td>0.027859</td>\n",
              "    </tr>\n",
              "    <tr>\n",
              "      <th>25%</th>\n",
              "      <td>1.872262e-02</td>\n",
              "      <td>11.713960</td>\n",
              "    </tr>\n",
              "    <tr>\n",
              "      <th>50%</th>\n",
              "      <td>3.247697e-01</td>\n",
              "      <td>23.070177</td>\n",
              "    </tr>\n",
              "    <tr>\n",
              "      <th>75%</th>\n",
              "      <td>1.622010e+00</td>\n",
              "      <td>35.260487</td>\n",
              "    </tr>\n",
              "    <tr>\n",
              "      <th>max</th>\n",
              "      <td>2.735410e+01</td>\n",
              "      <td>47.892791</td>\n",
              "    </tr>\n",
              "  </tbody>\n",
              "</table>\n",
              "</div>\n",
              "      <button class=\"colab-df-convert\" onclick=\"convertToInteractive('df-c030b973-aaf0-4ebd-a0d2-39b80573e996')\"\n",
              "              title=\"Convert this dataframe to an interactive table.\"\n",
              "              style=\"display:none;\">\n",
              "        \n",
              "  <svg xmlns=\"http://www.w3.org/2000/svg\" height=\"24px\"viewBox=\"0 0 24 24\"\n",
              "       width=\"24px\">\n",
              "    <path d=\"M0 0h24v24H0V0z\" fill=\"none\"/>\n",
              "    <path d=\"M18.56 5.44l.94 2.06.94-2.06 2.06-.94-2.06-.94-.94-2.06-.94 2.06-2.06.94zm-11 1L8.5 8.5l.94-2.06 2.06-.94-2.06-.94L8.5 2.5l-.94 2.06-2.06.94zm10 10l.94 2.06.94-2.06 2.06-.94-2.06-.94-.94-2.06-.94 2.06-2.06.94z\"/><path d=\"M17.41 7.96l-1.37-1.37c-.4-.4-.92-.59-1.43-.59-.52 0-1.04.2-1.43.59L10.3 9.45l-7.72 7.72c-.78.78-.78 2.05 0 2.83L4 21.41c.39.39.9.59 1.41.59.51 0 1.02-.2 1.41-.59l7.78-7.78 2.81-2.81c.8-.78.8-2.07 0-2.86zM5.41 20L4 18.59l7.72-7.72 1.47 1.35L5.41 20z\"/>\n",
              "  </svg>\n",
              "      </button>\n",
              "      \n",
              "  <style>\n",
              "    .colab-df-container {\n",
              "      display:flex;\n",
              "      flex-wrap:wrap;\n",
              "      gap: 12px;\n",
              "    }\n",
              "\n",
              "    .colab-df-convert {\n",
              "      background-color: #E8F0FE;\n",
              "      border: none;\n",
              "      border-radius: 50%;\n",
              "      cursor: pointer;\n",
              "      display: none;\n",
              "      fill: #1967D2;\n",
              "      height: 32px;\n",
              "      padding: 0 0 0 0;\n",
              "      width: 32px;\n",
              "    }\n",
              "\n",
              "    .colab-df-convert:hover {\n",
              "      background-color: #E2EBFA;\n",
              "      box-shadow: 0px 1px 2px rgba(60, 64, 67, 0.3), 0px 1px 3px 1px rgba(60, 64, 67, 0.15);\n",
              "      fill: #174EA6;\n",
              "    }\n",
              "\n",
              "    [theme=dark] .colab-df-convert {\n",
              "      background-color: #3B4455;\n",
              "      fill: #D2E3FC;\n",
              "    }\n",
              "\n",
              "    [theme=dark] .colab-df-convert:hover {\n",
              "      background-color: #434B5C;\n",
              "      box-shadow: 0px 1px 3px 1px rgba(0, 0, 0, 0.15);\n",
              "      filter: drop-shadow(0px 1px 2px rgba(0, 0, 0, 0.3));\n",
              "      fill: #FFFFFF;\n",
              "    }\n",
              "  </style>\n",
              "\n",
              "      <script>\n",
              "        const buttonEl =\n",
              "          document.querySelector('#df-c030b973-aaf0-4ebd-a0d2-39b80573e996 button.colab-df-convert');\n",
              "        buttonEl.style.display =\n",
              "          google.colab.kernel.accessAllowed ? 'block' : 'none';\n",
              "\n",
              "        async function convertToInteractive(key) {\n",
              "          const element = document.querySelector('#df-c030b973-aaf0-4ebd-a0d2-39b80573e996');\n",
              "          const dataTable =\n",
              "            await google.colab.kernel.invokeFunction('convertToInteractive',\n",
              "                                                     [key], {});\n",
              "          if (!dataTable) return;\n",
              "\n",
              "          const docLinkHtml = 'Like what you see? Visit the ' +\n",
              "            '<a target=\"_blank\" href=https://colab.research.google.com/notebooks/data_table.ipynb>data table notebook</a>'\n",
              "            + ' to learn more about interactive tables.';\n",
              "          element.innerHTML = '';\n",
              "          dataTable['output_type'] = 'display_data';\n",
              "          await google.colab.output.renderOutput(dataTable, element);\n",
              "          const docLink = document.createElement('div');\n",
              "          docLink.innerHTML = docLinkHtml;\n",
              "          element.appendChild(docLink);\n",
              "        }\n",
              "      </script>\n",
              "    </div>\n",
              "  </div>\n",
              "  "
            ],
            "text/plain": [
              "                  Y  DUREE_SOUSCRIPTION\n",
              "count  1.000000e+03         1000.000000\n",
              "mean   1.422533e+00           23.502933\n",
              "std    2.584672e+00           14.062312\n",
              "min    2.589943e-19            0.027859\n",
              "25%    1.872262e-02           11.713960\n",
              "50%    3.247697e-01           23.070177\n",
              "75%    1.622010e+00           35.260487\n",
              "max    2.735410e+01           47.892791"
            ]
          },
          "execution_count": 62,
          "metadata": {},
          "output_type": "execute_result"
        }
      ],
      "source": [
        "df.describe()"
      ]
    },
    {
      "cell_type": "code",
      "execution_count": null,
      "metadata": {
        "colab": {
          "base_uri": "https://localhost:8080/"
        },
        "id": "xOv6BBqs3gZn",
        "outputId": "cffd25c4-ed3c-4270-b9a9-744ef4e38b58"
      },
      "outputs": [
        {
          "data": {
            "text/plain": [
              "Y                     0\n",
              "DUREE_SOUSCRIPTION    0\n",
              "dtype: int64"
            ]
          },
          "execution_count": 63,
          "metadata": {},
          "output_type": "execute_result"
        }
      ],
      "source": [
        "# null values\n",
        "df.isnull().sum()"
      ]
    },
    {
      "cell_type": "code",
      "execution_count": null,
      "metadata": {
        "colab": {
          "base_uri": "https://localhost:8080/",
          "height": 472
        },
        "id": "J8fTXPig4ASm",
        "outputId": "d6cd73d1-3dfc-4e4d-b765-6f068ade644f"
      },
      "outputs": [
        {
          "data": {
            "image/png": "[encoded data removed]",
            "text/plain": [
              "<Figure size 640x480 with 1 Axes>"
            ]
          },
          "metadata": {},
          "output_type": "display_data"
        }
      ],
      "source": [
        "sns.histplot(Y, bins=10, kde = True)\n",
        "plt.xlabel('Y')\n",
        "plt.ylabel('Frequency')\n",
        "plt.title('Distribution of Y')\n",
        "plt.show()"
      ]
    },
    {
      "cell_type": "markdown",
      "metadata": {
        "id": "gc7YTXoMkq88"
      },
      "source": [
        "#### Parametric estimator"
      ]
    },
    {
      "cell_type": "code",
      "execution_count": null,
      "metadata": {
        "id": "u-Wt3HoYkqL-"
      },
      "outputs": [],
      "source": [
        "# Define the estimator function\n",
        "#\n",
        "def clv_geom(Y, DS):\n",
        "    np.where(~np.isnan(Y))[0]  \n",
        "    N = np.where(np.isnan(Y))[0]\n",
        "    return (np.sum(Y[A]) + np.sum(DS[N]))/len(A)"
      ]
    },
    {
      "cell_type": "code",
      "execution_count": null,
      "metadata": {
        "id": "3PxpFNSNrwvr"
      },
      "outputs": [],
      "source": [
        "# Define the estimator function\n",
        "def clv_pareto(Y, DS):\n",
        "    D = len(Y[Y<Duree_depuis_souscription])\n",
        "    denom = 1- (np.sum(np.log(Y))/D)\n",
        "    return 1 / denom"
      ]
    },
    {
      "cell_type": "code",
      "execution_count": null,
      "metadata": {
        "id": "qogPpQqu4B-x"
      },
      "outputs": [],
      "source": [
        "# Define the estimator function\n",
        "def CLV_pareto_IC(Y, DS):\n",
        "    D = len(Y[Y<Duree_depuis_souscription])\n",
        "    denom = 1- (np.sum(np.log(Y))/D)\n",
        "    return 1 / denom"
      ]
    },
    {
      "cell_type": "code",
      "execution_count": null,
      "metadata": {
        "colab": {
          "base_uri": "https://localhost:8080/"
        },
        "id": "AwQ8sQgv2MGg",
        "outputId": "7ddcc713-d644-4f53-dbca-e1bb6b334193"
      },
      "outputs": [
        {
          "name": "stdout",
          "output_type": "stream",
          "text": [
            "CLV HAT : 0.2339926925450832\n",
            "CLV : 4\n"
          ]
        }
      ],
      "source": [
        "print(\"CLV HAT :\",clv_pareto(Y,Duree_depuis_souscription))\n",
        "print(\"CLV :\", CLV)"
      ]
    },
    {
      "cell_type": "code",
      "execution_count": null,
      "metadata": {
        "colab": {
          "base_uri": "https://localhost:8080/"
        },
        "id": "HBCWt7uckpGm",
        "outputId": "5cfd965d-8d43-4976-d076-9498ad542097"
      },
      "outputs": [
        {
          "name": "stdout",
          "output_type": "stream",
          "text": [
            "CLV HAT : 1.3774894185058326\n",
            "CLV : 7.5\n"
          ]
        }
      ],
      "source": [
        "print(\"CLV HAT :\",clv_geom(Y,Duree_depuis_souscription))\n",
        "print(\"CLV :\", CLV)"
      ]
    },
    {
      "cell_type": "markdown",
      "metadata": {
        "id": "sFvGPhr57X3-"
      },
      "source": [
        "##### Confidence interval"
      ]
    },
    {
      "cell_type": "code",
      "execution_count": null,
      "metadata": {
        "colab": {
          "base_uri": "https://localhost:8080/"
        },
        "id": "tiybdFCT7WzI",
        "outputId": "54718b2e-ef05-4384-e7d5-d7651b9353b4"
      },
      "outputs": [
        {
          "name": "stdout",
          "output_type": "stream",
          "text": [
            "CLV hat:  1.3774894185058326\n",
            "95% confidence interval: [ 1.2302577200171103 , 1.5336063953860986 ]\n"
          ]
        }
      ],
      "source": [
        "# Perform bootstrap sampling to estimate confidence interval\n",
        "B = 200  # Number of bootstrap samples\n",
        "bootstrap_samples = np.random.choice(n, size=(B, n), replace=True)\n",
        "bootstrap_estimators = np.zeros(B)\n",
        "for b in range(B):\n",
        "    Y_b = Y[bootstrap_samples[b]]\n",
        "    DS_b = Duree_depuis_souscription[bootstrap_samples[b]]\n",
        "    bootstrap_estimators[b] = clv_hat(Y_b, DS_b)\n",
        "\n",
        "# Compute confidence interval\n",
        "alpha = 0.05  # Significance level\n",
        "lower = np.percentile(bootstrap_estimators, 100*(alpha/2))\n",
        "upper = np.percentile(bootstrap_estimators, 100*(1-alpha/2))\n",
        "\n",
        "print(\"CLV hat: \", clv_hat(Y, Duree_depuis_souscription))\n",
        "print(\"95% confidence interval: [\", lower, \",\", upper, \"]\")"
      ]
    },
    {
      "cell_type": "code",
      "execution_count": null,
      "metadata": {
        "colab": {
          "base_uri": "https://localhost:8080/"
        },
        "id": "FFiAGoN7F-VA",
        "outputId": "a64f0c65-6cdc-47b1-83c5-6c0444de79f3"
      },
      "outputs": [
        {
          "name": "stdout",
          "output_type": "stream",
          "text": [
            "VAR(CLV hat):  0.006728476060608045\n"
          ]
        }
      ],
      "source": [
        "print(\"VAR(CLV hat): \", bootstrap_estimators.std()**2)"
      ]
    },
    {
      "cell_type": "code",
      "execution_count": null,
      "metadata": {
        "colab": {
          "base_uri": "https://localhost:8080/",
          "height": 430
        },
        "id": "gKVuqMfRB84m",
        "outputId": "de053a14-5b6b-4a79-9382-fec9f7167ca2"
      },
      "outputs": [
        {
          "data": {
            "image/png": "[encoded data removed]",
            "text/plain": [
              "<Figure size 640x480 with 1 Axes>"
            ]
          },
          "metadata": {},
          "output_type": "display_data"
        }
      ],
      "source": [
        "import seaborn as sns\n",
        "\n",
        "# Plot the bar chart\n",
        "sns.histplot(bootstrap_estimators, bins=30, kde=True)\n",
        "\n",
        "# Show the plot\n",
        "plt.show()\n",
        "\n"
      ]
    },
    {
      "cell_type": "markdown",
      "metadata": {
        "id": "rXX7mcpXj709"
      },
      "source": [
        "#### Geometric"
      ]
    },
    {
      "cell_type": "code",
      "execution_count": null,
      "metadata": {
        "id": "sol8lUuNj10Z"
      },
      "outputs": [],
      "source": [
        "# Parameters\n",
        "n = 1000\n",
        "DureeObs = 12*4\n",
        "\n",
        "moyenne1 = 4  # Mean in the first group\n",
        "p1 = 0.2  # Probability of success in each trial, for a geometric distribution\n",
        "\n",
        "moyenne2 = 9  # Mean in the second group\n",
        "p2 = 0.6  # Probability of success in each trial, for a geometric distribution\n",
        "\n",
        "ratio_classe = 0.3  # Proportion of clients in the first group in the dataset\n",
        "\n",
        "# Expectation across both groups\n",
        "CLV = ratio_classe*moyenne1+(1-ratio_classe)*moyenne2\n",
        "\n",
        "# Data generation\n",
        "T1 = np.random.geometric(p1, n)/p1 - 1  # Subtract 1 to shift distribution\n",
        "T1 = T1 * moyenne1/np.mean(T1)  # Rescale to match mean\n",
        "\n",
        "T2 = np.random.geometric(p2, n)/p2 - 1  # Subtract 1 to shift distribution\n",
        "T2 = T2 * moyenne2/np.mean(T2)  # Rescale to match mean\n",
        "\n",
        "ber = np.random.rand(n) > ratio_classe\n",
        "\n",
        "T = (1-ber)*T1 + ber*T2\n",
        "\n",
        "Duree_depuis_souscription = DureeObs * np.random.rand(n)\n",
        "Y = T*(T<Duree_depuis_souscription)\n",
        "#Y = np.where(T<Duree_depuis_souscription, T, np.nan)\n",
        "\n",
        "# The data is now (Y, Duree_depuis_souscription)\n"
      ]
    },
    {
      "cell_type": "code",
      "execution_count": null,
      "metadata": {
        "id": "23QVnWRtj_U7"
      },
      "outputs": [],
      "source": [
        "df2 = pd.DataFrame({'Y': Y, 'DUREE_SOUSCRIPTION':Duree_depuis_souscription}, columns=['Y', 'DUREE_SOUSCRIPTION'])"
      ]
    },
    {
      "cell_type": "code",
      "execution_count": null,
      "metadata": {
        "colab": {
          "base_uri": "https://localhost:8080/"
        },
        "id": "nGU8NQ7gkFEC",
        "outputId": "929c2cd2-bb32-415c-c322-730a15061f51"
      },
      "outputs": [
        {
          "data": {
            "text/html": [
              "\n",
              "  <div id=\"df-20881ac5-8cc9-4774-a496-c1f6b30b5aac\">\n",
              "    <div class=\"colab-df-container\">\n",
              "      <div>\n",
              "<style scoped>\n",
              "    .dataframe tbody tr th:only-of-type {\n",
              "        vertical-align: middle;\n",
              "    }\n",
              "\n",
              "    .dataframe tbody tr th {\n",
              "        vertical-align: top;\n",
              "    }\n",
              "\n",
              "    .dataframe thead th {\n",
              "        text-align: right;\n",
              "    }\n",
              "</style>\n",
              "<table border=\"1\" class=\"dataframe\">\n",
              "  <thead>\n",
              "    <tr style=\"text-align: right;\">\n",
              "      <th></th>\n",
              "      <th>Y</th>\n",
              "      <th>DUREE_SOUSCRIPTION</th>\n",
              "    </tr>\n",
              "  </thead>\n",
              "  <tbody>\n",
              "    <tr>\n",
              "      <th>count</th>\n",
              "      <td>1000.000000</td>\n",
              "      <td>1000.000000</td>\n",
              "    </tr>\n",
              "    <tr>\n",
              "      <th>mean</th>\n",
              "      <td>4.986021</td>\n",
              "      <td>24.150503</td>\n",
              "    </tr>\n",
              "    <tr>\n",
              "      <th>std</th>\n",
              "      <td>5.688145</td>\n",
              "      <td>13.724657</td>\n",
              "    </tr>\n",
              "    <tr>\n",
              "      <th>min</th>\n",
              "      <td>0.000000</td>\n",
              "      <td>0.014142</td>\n",
              "    </tr>\n",
              "    <tr>\n",
              "      <th>25%</th>\n",
              "      <td>2.402402</td>\n",
              "      <td>12.004992</td>\n",
              "    </tr>\n",
              "    <tr>\n",
              "      <th>50%</th>\n",
              "      <td>3.225806</td>\n",
              "      <td>23.779379</td>\n",
              "    </tr>\n",
              "    <tr>\n",
              "      <th>75%</th>\n",
              "      <td>4.976405</td>\n",
              "      <td>36.024120</td>\n",
              "    </tr>\n",
              "    <tr>\n",
              "      <th>max</th>\n",
              "      <td>43.548387</td>\n",
              "      <td>47.977824</td>\n",
              "    </tr>\n",
              "  </tbody>\n",
              "</table>\n",
              "</div>\n",
              "      <button class=\"colab-df-convert\" onclick=\"convertToInteractive('df-20881ac5-8cc9-4774-a496-c1f6b30b5aac')\"\n",
              "              title=\"Convert this dataframe to an interactive table.\"\n",
              "              style=\"display:none;\">\n",
              "        \n",
              "  <svg xmlns=\"http://www.w3.org/2000/svg\" height=\"24px\"viewBox=\"0 0 24 24\"\n",
              "       width=\"24px\">\n",
              "    <path d=\"M0 0h24v24H0V0z\" fill=\"none\"/>\n",
              "    <path d=\"M18.56 5.44l.94 2.06.94-2.06 2.06-.94-2.06-.94-.94-2.06-.94 2.06-2.06.94zm-11 1L8.5 8.5l.94-2.06 2.06-.94-2.06-.94L8.5 2.5l-.94 2.06-2.06.94zm10 10l.94 2.06.94-2.06 2.06-.94-2.06-.94-.94-2.06-.94 2.06-2.06.94z\"/><path d=\"M17.41 7.96l-1.37-1.37c-.4-.4-.92-.59-1.43-.59-.52 0-1.04.2-1.43.59L10.3 9.45l-7.72 7.72c-.78.78-.78 2.05 0 2.83L4 21.41c.39.39.9.59 1.41.59.51 0 1.02-.2 1.41-.59l7.78-7.78 2.81-2.81c.8-.78.8-2.07 0-2.86zM5.41 20L4 18.59l7.72-7.72 1.47 1.35L5.41 20z\"/>\n",
              "  </svg>\n",
              "      </button>\n",
              "      \n",
              "  <style>\n",
              "    .colab-df-container {\n",
              "      display:flex;\n",
              "      flex-wrap:wrap;\n",
              "      gap: 12px;\n",
              "    }\n",
              "\n",
              "    .colab-df-convert {\n",
              "      background-color: #E8F0FE;\n",
              "      border: none;\n",
              "      border-radius: 50%;\n",
              "      cursor: pointer;\n",
              "      display: none;\n",
              "      fill: #1967D2;\n",
              "      height: 32px;\n",
              "      padding: 0 0 0 0;\n",
              "      width: 32px;\n",
              "    }\n",
              "\n",
              "    .colab-df-convert:hover {\n",
              "      background-color: #E2EBFA;\n",
              "      box-shadow: 0px 1px 2px rgba(60, 64, 67, 0.3), 0px 1px 3px 1px rgba(60, 64, 67, 0.15);\n",
              "      fill: #174EA6;\n",
              "    }\n",
              "\n",
              "    [theme=dark] .colab-df-convert {\n",
              "      background-color: #3B4455;\n",
              "      fill: #D2E3FC;\n",
              "    }\n",
              "\n",
              "    [theme=dark] .colab-df-convert:hover {\n",
              "      background-color: #434B5C;\n",
              "      box-shadow: 0px 1px 3px 1px rgba(0, 0, 0, 0.15);\n",
              "      filter: drop-shadow(0px 1px 2px rgba(0, 0, 0, 0.3));\n",
              "      fill: #FFFFFF;\n",
              "    }\n",
              "  </style>\n",
              "\n",
              "      <script>\n",
              "        const buttonEl =\n",
              "          document.querySelector('#df-20881ac5-8cc9-4774-a496-c1f6b30b5aac button.colab-df-convert');\n",
              "        buttonEl.style.display =\n",
              "          google.colab.kernel.accessAllowed ? 'block' : 'none';\n",
              "\n",
              "        async function convertToInteractive(key) {\n",
              "          const element = document.querySelector('#df-20881ac5-8cc9-4774-a496-c1f6b30b5aac');\n",
              "          const dataTable =\n",
              "            await google.colab.kernel.invokeFunction('convertToInteractive',\n",
              "                                                     [key], {});\n",
              "          if (!dataTable) return;\n",
              "\n",
              "          const docLinkHtml = 'Like what you see? Visit the ' +\n",
              "            '<a target=\"_blank\" href=https://colab.research.google.com/notebooks/data_table.ipynb>data table notebook</a>'\n",
              "            + ' to learn more about interactive tables.';\n",
              "          element.innerHTML = '';\n",
              "          dataTable['output_type'] = 'display_data';\n",
              "          await google.colab.output.renderOutput(dataTable, element);\n",
              "          const docLink = document.createElement('div');\n",
              "          docLink.innerHTML = docLinkHtml;\n",
              "          element.appendChild(docLink);\n",
              "        }\n",
              "      </script>\n",
              "    </div>\n",
              "  </div>\n",
              "  "
            ],
            "text/plain": [
              "                 Y  DUREE_SOUSCRIPTION\n",
              "count  1000.000000         1000.000000\n",
              "mean      4.986021           24.150503\n",
              "std       5.688145           13.724657\n",
              "min       0.000000            0.014142\n",
              "25%       2.402402           12.004992\n",
              "50%       3.225806           23.779379\n",
              "75%       4.976405           36.024120\n",
              "max      43.548387           47.977824"
            ]
          },
          "execution_count": 15,
          "metadata": {},
          "output_type": "execute_result"
        }
      ],
      "source": [
        "df2.describe()"
      ]
    },
    {
      "cell_type": "code",
      "execution_count": null,
      "metadata": {
        "colab": {
          "base_uri": "https://localhost:8080/"
        },
        "id": "HcpIh6e4kTYN",
        "outputId": "e85f1d66-d1f1-40e1-96eb-af5791560a15"
      },
      "outputs": [
        {
          "name": "stdout",
          "output_type": "stream",
          "text": [
            "CLV HAT : 4.9860208134401685\n",
            "CLV : 7.5\n"
          ]
        }
      ],
      "source": [
        "print(\"CLV HAT :\",clv_hat(Y,Duree_depuis_souscription))\n",
        "print(\"CLV :\", CLV)"
      ]
    },
    {
      "cell_type": "code",
      "execution_count": null,
      "metadata": {
        "colab": {
          "base_uri": "https://localhost:8080/"
        },
        "id": "SnUoWDqbkazU",
        "outputId": "5850d01c-f4a0-4c24-fc54-2014e766dd18"
      },
      "outputs": [
        {
          "name": "stdout",
          "output_type": "stream",
          "text": [
            "CLV hat:  4.9860208134401685\n",
            "95% confidence interval: [ 4.59417187348639 , 5.352494879672298 ]\n"
          ]
        }
      ],
      "source": [
        "# Perform bootstrap sampling to estimate confidence interval\n",
        "B = 200  # Number of bootstrap samples\n",
        "bootstrap_samples = np.random.choice(n, size=(B, n), replace=True)\n",
        "bootstrap_estimators = np.zeros(B)\n",
        "for b in range(B):\n",
        "    Y_b = Y[bootstrap_samples[b]]\n",
        "    DS_b = Duree_depuis_souscription[bootstrap_samples[b]]\n",
        "    bootstrap_estimators[b] = clv_hat(Y_b, DS_b)\n",
        "\n",
        "# Compute confidence interval\n",
        "alpha = 0.05  # Significance level\n",
        "lower = np.percentile(bootstrap_estimators, 100*(alpha/2))\n",
        "upper = np.percentile(bootstrap_estimators, 100*(1-alpha/2))\n",
        "\n",
        "print(\"CLV hat: \", clv_hat(Y, Duree_depuis_souscription))\n",
        "print(\"95% confidence interval: [\", lower, \",\", upper, \"]\")"
      ]
    },
    {
      "cell_type": "code",
      "execution_count": null,
      "metadata": {
        "colab": {
          "base_uri": "https://localhost:8080/"
        },
        "id": "1GQBV018kiMr",
        "outputId": "0f27e71f-d70c-4d8b-be0c-5cd4589720d7"
      },
      "outputs": [
        {
          "data": {
            "image/png": "[encoded data removed]",
            "text/plain": [
              "<Figure size 640x480 with 1 Axes>"
            ]
          },
          "metadata": {},
          "output_type": "display_data"
        }
      ],
      "source": [
        "# Plot the bar chart\n",
        "sns.histplot(bootstrap_estimators, bins=30, kde=True)\n",
        "\n",
        "# Show the plot\n",
        "plt.show()\n"
      ]
    },
    {
      "cell_type": "markdown",
      "metadata": {
        "id": "FPhEfAO3MzGx"
      },
      "source": [
        "### Quick trial of scikit learn survival analysis package"
      ]
    },
    {
      "cell_type": "markdown",
      "metadata": {
        "id": "3DmtX4cWNM4Y"
      },
      "source": [
        "[Survival analysis](https://scikit-survival.readthedocs.io/en/stable/user_guide/00-introduction.html#What-is-Survival-Analysis?)"
      ]
    },
    {
      "cell_type": "code",
      "execution_count": null,
      "metadata": {
        "colab": {
          "base_uri": "https://localhost:8080/"
        },
        "id": "LZ-XajwkGuXI",
        "outputId": "81989c71-7e25-420d-c378-befefe216eb1"
      },
      "outputs": [
        {
          "name": "stdout",
          "output_type": "stream",
          "text": [
            "Looking in indexes: https://pypi.org/simple, https://us-python.pkg.dev/colab-wheels/public/simple/\n",
            "Collecting scikit-survival\n",
            "  Downloading scikit_survival-0.20.0-cp39-cp39-manylinux_2_17_x86_64.manylinux2014_x86_64.whl (3.2 MB)\n",
            "\u001b[2K     \u001b[90m━━━━━━━━━━━━━━━━━━━━━━━━━━━━━━━━━━━━━━━━\u001b[0m \u001b[32m3.2/3.2 MB\u001b[0m \u001b[31m18.3 MB/s\u001b[0m eta \u001b[36m0:00:00\u001b[0m\n",
            "\u001b[?25hRequirement already satisfied: pandas>=1.0.5 in /usr/local/lib/python3.9/dist-packages (from scikit-survival) (1.4.4)\n",
            "Requirement already satisfied: numpy in /usr/local/lib/python3.9/dist-packages (from scikit-survival) (1.22.4)\n",
            "Requirement already satisfied: numexpr in /usr/local/lib/python3.9/dist-packages (from scikit-survival) (2.8.4)\n",
            "Requirement already satisfied: osqp!=0.6.0,!=0.6.1 in /usr/local/lib/python3.9/dist-packages (from scikit-survival) (0.6.2.post0)\n",
            "Requirement already satisfied: joblib in /usr/local/lib/python3.9/dist-packages (from scikit-survival) (1.1.1)\n",
            "Requirement already satisfied: ecos in /usr/local/lib/python3.9/dist-packages (from scikit-survival) (2.0.12)\n",
            "Requirement already satisfied: scikit-learn<1.3,>=1.2.0 in /usr/local/lib/python3.9/dist-packages (from scikit-survival) (1.2.2)\n",
            "Requirement already satisfied: scipy>=1.3.2 in /usr/local/lib/python3.9/dist-packages (from scikit-survival) (1.10.1)\n",
            "Requirement already satisfied: qdldl in /usr/local/lib/python3.9/dist-packages (from osqp!=0.6.0,!=0.6.1->scikit-survival) (0.1.5.post3)\n",
            "Requirement already satisfied: pytz>=2020.1 in /usr/local/lib/python3.9/dist-packages (from pandas>=1.0.5->scikit-survival) (2022.7.1)\n",
            "Requirement already satisfied: python-dateutil>=2.8.1 in /usr/local/lib/python3.9/dist-packages (from pandas>=1.0.5->scikit-survival) (2.8.2)\n",
            "Requirement already satisfied: threadpoolctl>=2.0.0 in /usr/local/lib/python3.9/dist-packages (from scikit-learn<1.3,>=1.2.0->scikit-survival) (3.1.0)\n",
            "Requirement already satisfied: six>=1.5 in /usr/local/lib/python3.9/dist-packages (from python-dateutil>=2.8.1->pandas>=1.0.5->scikit-survival) (1.16.0)\n",
            "Installing collected packages: scikit-survival\n",
            "Successfully installed scikit-survival-0.20.0\n"
          ]
        }
      ],
      "source": [
        "!pip install scikit-survival  "
      ]
    },
    {
      "cell_type": "code",
      "execution_count": null,
      "metadata": {
        "id": "XZAwcSIKwLhO"
      },
      "outputs": [],
      "source": [
        "#imports\n",
        "import pandas as pd\n",
        "import numpy as np\n",
        "import matplotlib.pyplot as plt"
      ]
    },
    {
      "cell_type": "code",
      "execution_count": null,
      "metadata": {
        "id": "TEozToq8GL8Q"
      },
      "outputs": [],
      "source": [
        "from sksurv.datasets import load_aids"
      ]
    },
    {
      "cell_type": "code",
      "execution_count": null,
      "metadata": {
        "id": "nejZ5SLT862B"
      },
      "outputs": [],
      "source": [
        "# read the dataset\n",
        "# ex other type of data : bank information source kaggle : https://www.kaggle.com/datasets/sakshigoyal7/credit-card-customers?resource=download\n",
        "\n",
        "\"\"\"\n",
        "AIDS Clinical Trial dataset\n",
        "The dataset has 1,151 samples and 11 features. The dataset has 2 endpoints:\n",
        ".AIDS defining event, which occurred for 96 patients (8.3%)\n",
        ".Death, which occurred for 26 patients (2.3%)\n",
        "\"\"\"\n",
        "\n",
        "# data_x : The measurements for each patient.\n",
        "data_x, data_y = load_aids()"
      ]
    },
    {
      "cell_type": "code",
      "execution_count": null,
      "metadata": {
        "colab": {
          "base_uri": "https://localhost:8080/",
          "height": 143
        },
        "id": "bmyi5jwcHj-S",
        "outputId": "c5a87d4b-89c2-453f-d42d-55c9c75880d3"
      },
      "outputs": [
        {
          "data": {
            "text/html": [
              "\n",
              "  <div id=\"df-49851214-f63a-4854-94c8-904f791f4f00\">\n",
              "    <div class=\"colab-df-container\">\n",
              "      <div>\n",
              "<style scoped>\n",
              "    .dataframe tbody tr th:only-of-type {\n",
              "        vertical-align: middle;\n",
              "    }\n",
              "\n",
              "    .dataframe tbody tr th {\n",
              "        vertical-align: top;\n",
              "    }\n",
              "\n",
              "    .dataframe thead th {\n",
              "        text-align: right;\n",
              "    }\n",
              "</style>\n",
              "<table border=\"1\" class=\"dataframe\">\n",
              "  <thead>\n",
              "    <tr style=\"text-align: right;\">\n",
              "      <th></th>\n",
              "      <th>age</th>\n",
              "      <th>cd4</th>\n",
              "      <th>hemophil</th>\n",
              "      <th>ivdrug</th>\n",
              "      <th>karnof</th>\n",
              "      <th>priorzdv</th>\n",
              "      <th>raceth</th>\n",
              "      <th>sex</th>\n",
              "      <th>strat2</th>\n",
              "      <th>tx</th>\n",
              "      <th>txgrp</th>\n",
              "    </tr>\n",
              "  </thead>\n",
              "  <tbody>\n",
              "    <tr>\n",
              "      <th>0</th>\n",
              "      <td>34.0</td>\n",
              "      <td>169.0</td>\n",
              "      <td>0</td>\n",
              "      <td>1</td>\n",
              "      <td>100</td>\n",
              "      <td>39.0</td>\n",
              "      <td>1</td>\n",
              "      <td>1</td>\n",
              "      <td>1</td>\n",
              "      <td>0</td>\n",
              "      <td>1</td>\n",
              "    </tr>\n",
              "    <tr>\n",
              "      <th>1</th>\n",
              "      <td>34.0</td>\n",
              "      <td>149.5</td>\n",
              "      <td>0</td>\n",
              "      <td>1</td>\n",
              "      <td>90</td>\n",
              "      <td>15.0</td>\n",
              "      <td>2</td>\n",
              "      <td>2</td>\n",
              "      <td>1</td>\n",
              "      <td>0</td>\n",
              "      <td>1</td>\n",
              "    </tr>\n",
              "    <tr>\n",
              "      <th>2</th>\n",
              "      <td>20.0</td>\n",
              "      <td>23.5</td>\n",
              "      <td>1</td>\n",
              "      <td>1</td>\n",
              "      <td>100</td>\n",
              "      <td>9.0</td>\n",
              "      <td>1</td>\n",
              "      <td>1</td>\n",
              "      <td>0</td>\n",
              "      <td>1</td>\n",
              "      <td>2</td>\n",
              "    </tr>\n",
              "  </tbody>\n",
              "</table>\n",
              "</div>\n",
              "      <button class=\"colab-df-convert\" onclick=\"convertToInteractive('df-49851214-f63a-4854-94c8-904f791f4f00')\"\n",
              "              title=\"Convert this dataframe to an interactive table.\"\n",
              "              style=\"display:none;\">\n",
              "        \n",
              "  <svg xmlns=\"http://www.w3.org/2000/svg\" height=\"24px\"viewBox=\"0 0 24 24\"\n",
              "       width=\"24px\">\n",
              "    <path d=\"M0 0h24v24H0V0z\" fill=\"none\"/>\n",
              "    <path d=\"M18.56 5.44l.94 2.06.94-2.06 2.06-.94-2.06-.94-.94-2.06-.94 2.06-2.06.94zm-11 1L8.5 8.5l.94-2.06 2.06-.94-2.06-.94L8.5 2.5l-.94 2.06-2.06.94zm10 10l.94 2.06.94-2.06 2.06-.94-2.06-.94-.94-2.06-.94 2.06-2.06.94z\"/><path d=\"M17.41 7.96l-1.37-1.37c-.4-.4-.92-.59-1.43-.59-.52 0-1.04.2-1.43.59L10.3 9.45l-7.72 7.72c-.78.78-.78 2.05 0 2.83L4 21.41c.39.39.9.59 1.41.59.51 0 1.02-.2 1.41-.59l7.78-7.78 2.81-2.81c.8-.78.8-2.07 0-2.86zM5.41 20L4 18.59l7.72-7.72 1.47 1.35L5.41 20z\"/>\n",
              "  </svg>\n",
              "      </button>\n",
              "      \n",
              "  <style>\n",
              "    .colab-df-container {\n",
              "      display:flex;\n",
              "      flex-wrap:wrap;\n",
              "      gap: 12px;\n",
              "    }\n",
              "\n",
              "    .colab-df-convert {\n",
              "      background-color: #E8F0FE;\n",
              "      border: none;\n",
              "      border-radius: 50%;\n",
              "      cursor: pointer;\n",
              "      display: none;\n",
              "      fill: #1967D2;\n",
              "      height: 32px;\n",
              "      padding: 0 0 0 0;\n",
              "      width: 32px;\n",
              "    }\n",
              "\n",
              "    .colab-df-convert:hover {\n",
              "      background-color: #E2EBFA;\n",
              "      box-shadow: 0px 1px 2px rgba(60, 64, 67, 0.3), 0px 1px 3px 1px rgba(60, 64, 67, 0.15);\n",
              "      fill: #174EA6;\n",
              "    }\n",
              "\n",
              "    [theme=dark] .colab-df-convert {\n",
              "      background-color: #3B4455;\n",
              "      fill: #D2E3FC;\n",
              "    }\n",
              "\n",
              "    [theme=dark] .colab-df-convert:hover {\n",
              "      background-color: #434B5C;\n",
              "      box-shadow: 0px 1px 3px 1px rgba(0, 0, 0, 0.15);\n",
              "      filter: drop-shadow(0px 1px 2px rgba(0, 0, 0, 0.3));\n",
              "      fill: #FFFFFF;\n",
              "    }\n",
              "  </style>\n",
              "\n",
              "      <script>\n",
              "        const buttonEl =\n",
              "          document.querySelector('#df-49851214-f63a-4854-94c8-904f791f4f00 button.colab-df-convert');\n",
              "        buttonEl.style.display =\n",
              "          google.colab.kernel.accessAllowed ? 'block' : 'none';\n",
              "\n",
              "        async function convertToInteractive(key) {\n",
              "          const element = document.querySelector('#df-49851214-f63a-4854-94c8-904f791f4f00');\n",
              "          const dataTable =\n",
              "            await google.colab.kernel.invokeFunction('convertToInteractive',\n",
              "                                                     [key], {});\n",
              "          if (!dataTable) return;\n",
              "\n",
              "          const docLinkHtml = 'Like what you see? Visit the ' +\n",
              "            '<a target=\"_blank\" href=https://colab.research.google.com/notebooks/data_table.ipynb>data table notebook</a>'\n",
              "            + ' to learn more about interactive tables.';\n",
              "          element.innerHTML = '';\n",
              "          dataTable['output_type'] = 'display_data';\n",
              "          await google.colab.output.renderOutput(dataTable, element);\n",
              "          const docLink = document.createElement('div');\n",
              "          docLink.innerHTML = docLinkHtml;\n",
              "          element.appendChild(docLink);\n",
              "        }\n",
              "      </script>\n",
              "    </div>\n",
              "  </div>\n",
              "  "
            ],
            "text/plain": [
              "    age    cd4 hemophil ivdrug karnof  priorzdv raceth sex strat2 tx txgrp\n",
              "0  34.0  169.0        0      1    100      39.0      1   1      1  0     1\n",
              "1  34.0  149.5        0      1     90      15.0      2   2      1  0     1\n",
              "2  20.0   23.5        1      1    100       9.0      1   1      0  1     2"
            ]
          },
          "execution_count": 23,
          "metadata": {},
          "output_type": "execute_result"
        }
      ],
      "source": [
        "data_x.head(3)"
      ]
    },
    {
      "cell_type": "markdown",
      "metadata": {
        "id": "SWfQ3wXTHKIj"
      },
      "source": [
        "e.tdm: boolean indicating whether the endpoint has been reached or the event time is right censored.\n",
        "\n",
        "t.tdm: time to distant metastasis (days)"
      ]
    },
    {
      "cell_type": "code",
      "execution_count": null,
      "metadata": {
        "colab": {
          "base_uri": "https://localhost:8080/",
          "height": 206
        },
        "id": "7RRSKU4gGqrr",
        "outputId": "ed61a915-e773-4f69-9fb1-aa037f4cae13"
      },
      "outputs": [
        {
          "data": {
            "text/html": [
              "\n",
              "  <div id=\"df-ff47a8e2-ebbe-4932-8ad5-1e8214926e58\">\n",
              "    <div class=\"colab-df-container\">\n",
              "      <div>\n",
              "<style scoped>\n",
              "    .dataframe tbody tr th:only-of-type {\n",
              "        vertical-align: middle;\n",
              "    }\n",
              "\n",
              "    .dataframe tbody tr th {\n",
              "        vertical-align: top;\n",
              "    }\n",
              "\n",
              "    .dataframe thead th {\n",
              "        text-align: right;\n",
              "    }\n",
              "</style>\n",
              "<table border=\"1\" class=\"dataframe\">\n",
              "  <thead>\n",
              "    <tr style=\"text-align: right;\">\n",
              "      <th></th>\n",
              "      <th>censor</th>\n",
              "      <th>time</th>\n",
              "    </tr>\n",
              "  </thead>\n",
              "  <tbody>\n",
              "    <tr>\n",
              "      <th>1</th>\n",
              "      <td>False</td>\n",
              "      <td>285.0</td>\n",
              "    </tr>\n",
              "    <tr>\n",
              "      <th>2</th>\n",
              "      <td>False</td>\n",
              "      <td>285.0</td>\n",
              "    </tr>\n",
              "    <tr>\n",
              "      <th>3</th>\n",
              "      <td>False</td>\n",
              "      <td>214.0</td>\n",
              "    </tr>\n",
              "    <tr>\n",
              "      <th>4</th>\n",
              "      <td>True</td>\n",
              "      <td>206.0</td>\n",
              "    </tr>\n",
              "    <tr>\n",
              "      <th>5</th>\n",
              "      <td>False</td>\n",
              "      <td>224.0</td>\n",
              "    </tr>\n",
              "  </tbody>\n",
              "</table>\n",
              "</div>\n",
              "      <button class=\"colab-df-convert\" onclick=\"convertToInteractive('df-ff47a8e2-ebbe-4932-8ad5-1e8214926e58')\"\n",
              "              title=\"Convert this dataframe to an interactive table.\"\n",
              "              style=\"display:none;\">\n",
              "        \n",
              "  <svg xmlns=\"http://www.w3.org/2000/svg\" height=\"24px\"viewBox=\"0 0 24 24\"\n",
              "       width=\"24px\">\n",
              "    <path d=\"M0 0h24v24H0V0z\" fill=\"none\"/>\n",
              "    <path d=\"M18.56 5.44l.94 2.06.94-2.06 2.06-.94-2.06-.94-.94-2.06-.94 2.06-2.06.94zm-11 1L8.5 8.5l.94-2.06 2.06-.94-2.06-.94L8.5 2.5l-.94 2.06-2.06.94zm10 10l.94 2.06.94-2.06 2.06-.94-2.06-.94-.94-2.06-.94 2.06-2.06.94z\"/><path d=\"M17.41 7.96l-1.37-1.37c-.4-.4-.92-.59-1.43-.59-.52 0-1.04.2-1.43.59L10.3 9.45l-7.72 7.72c-.78.78-.78 2.05 0 2.83L4 21.41c.39.39.9.59 1.41.59.51 0 1.02-.2 1.41-.59l7.78-7.78 2.81-2.81c.8-.78.8-2.07 0-2.86zM5.41 20L4 18.59l7.72-7.72 1.47 1.35L5.41 20z\"/>\n",
              "  </svg>\n",
              "      </button>\n",
              "      \n",
              "  <style>\n",
              "    .colab-df-container {\n",
              "      display:flex;\n",
              "      flex-wrap:wrap;\n",
              "      gap: 12px;\n",
              "    }\n",
              "\n",
              "    .colab-df-convert {\n",
              "      background-color: #E8F0FE;\n",
              "      border: none;\n",
              "      border-radius: 50%;\n",
              "      cursor: pointer;\n",
              "      display: none;\n",
              "      fill: #1967D2;\n",
              "      height: 32px;\n",
              "      padding: 0 0 0 0;\n",
              "      width: 32px;\n",
              "    }\n",
              "\n",
              "    .colab-df-convert:hover {\n",
              "      background-color: #E2EBFA;\n",
              "      box-shadow: 0px 1px 2px rgba(60, 64, 67, 0.3), 0px 1px 3px 1px rgba(60, 64, 67, 0.15);\n",
              "      fill: #174EA6;\n",
              "    }\n",
              "\n",
              "    [theme=dark] .colab-df-convert {\n",
              "      background-color: #3B4455;\n",
              "      fill: #D2E3FC;\n",
              "    }\n",
              "\n",
              "    [theme=dark] .colab-df-convert:hover {\n",
              "      background-color: #434B5C;\n",
              "      box-shadow: 0px 1px 3px 1px rgba(0, 0, 0, 0.15);\n",
              "      filter: drop-shadow(0px 1px 2px rgba(0, 0, 0, 0.3));\n",
              "      fill: #FFFFFF;\n",
              "    }\n",
              "  </style>\n",
              "\n",
              "      <script>\n",
              "        const buttonEl =\n",
              "          document.querySelector('#df-ff47a8e2-ebbe-4932-8ad5-1e8214926e58 button.colab-df-convert');\n",
              "        buttonEl.style.display =\n",
              "          google.colab.kernel.accessAllowed ? 'block' : 'none';\n",
              "\n",
              "        async function convertToInteractive(key) {\n",
              "          const element = document.querySelector('#df-ff47a8e2-ebbe-4932-8ad5-1e8214926e58');\n",
              "          const dataTable =\n",
              "            await google.colab.kernel.invokeFunction('convertToInteractive',\n",
              "                                                     [key], {});\n",
              "          if (!dataTable) return;\n",
              "\n",
              "          const docLinkHtml = 'Like what you see? Visit the ' +\n",
              "            '<a target=\"_blank\" href=https://colab.research.google.com/notebooks/data_table.ipynb>data table notebook</a>'\n",
              "            + ' to learn more about interactive tables.';\n",
              "          element.innerHTML = '';\n",
              "          dataTable['output_type'] = 'display_data';\n",
              "          await google.colab.output.renderOutput(dataTable, element);\n",
              "          const docLink = document.createElement('div');\n",
              "          docLink.innerHTML = docLinkHtml;\n",
              "          element.appendChild(docLink);\n",
              "        }\n",
              "      </script>\n",
              "    </div>\n",
              "  </div>\n",
              "  "
            ],
            "text/plain": [
              "   censor   time\n",
              "1   False  285.0\n",
              "2   False  285.0\n",
              "3   False  214.0\n",
              "4    True  206.0\n",
              "5   False  224.0"
            ]
          },
          "execution_count": 24,
          "metadata": {},
          "output_type": "execute_result"
        }
      ],
      "source": [
        "pd.DataFrame.from_records(data_y[[11, 5, 32, 13, 23]], index=range(1, 6))"
      ]
    },
    {
      "cell_type": "code",
      "execution_count": null,
      "metadata": {
        "colab": {
          "base_uri": "https://localhost:8080/",
          "height": 467
        },
        "id": "Rvy8rT2cHE3Q",
        "outputId": "5b2ad5d0-5668-4cb1-bc6e-bd4eea522adb"
      },
      "outputs": [
        {
          "data": {
            "text/plain": [
              "Text(0.5, 0, 'time $t$')"
            ]
          },
          "execution_count": 25,
          "metadata": {},
          "output_type": "execute_result"
        },
        {
          "data": {
            "image/png": "[encoded data removed]",
            "text/plain": [
              "<Figure size 640x480 with 1 Axes>"
            ]
          },
          "metadata": {},
          "output_type": "display_data"
        }
      ],
      "source": [
        "%matplotlib inline\n",
        "from sksurv.nonparametric import kaplan_meier_estimator\n",
        "\n",
        "time, survival_prob = kaplan_meier_estimator(data_y[\"censor\"], data_y[\"time\"])\n",
        "plt.step(time, survival_prob, where=\"post\")\n",
        "plt.ylabel(\"probability of survival $\\hat{S}(t)$\")\n",
        "plt.xlabel(\"time $t$\")"
      ]
    },
    {
      "cell_type": "code",
      "execution_count": null,
      "metadata": {
        "id": "oHKBIDnkU4mp"
      },
      "outputs": [],
      "source": [
        "survival_times = np.array([5, 3, 2, 4, 7, 6, 5, 1, 8, 4, 3, 5, 6])\n",
        "event_indicators = np.array([1, 1, 0, 1, 1, 1, 1, 0, 1, 1, 0, 1, 1])\n",
        "event_indicators_bool = [x==1 for x in event_indicators]"
      ]
    },
    {
      "cell_type": "code",
      "execution_count": null,
      "metadata": {
        "colab": {
          "base_uri": "https://localhost:8080/",
          "height": 467
        },
        "id": "YOKtnn3Lx2NR",
        "outputId": "ff9490ee-a6ba-4430-c890-d3620a0401a3"
      },
      "outputs": [
        {
          "data": {
            "text/plain": [
              "Text(0.5, 0, 'time $t$')"
            ]
          },
          "execution_count": 27,
          "metadata": {},
          "output_type": "execute_result"
        },
        {
          "data": {
            "image/png": "[encoded data removed]",
            "text/plain": [
              "<Figure size 640x480 with 1 Axes>"
            ]
          },
          "metadata": {},
          "output_type": "display_data"
        }
      ],
      "source": [
        "t , s = kaplan_meier_estimator(event_indicators_bool, survival_times )\n",
        "plt.plot(t, s)\n",
        "plt.ylabel(\"probability of survival $\\hat{S}(t)$\")\n",
        "plt.xlabel(\"time $t$\")"
      ]
    },
    {
      "cell_type": "markdown",
      "metadata": {
        "id": "1Jvxq-yDe1SO"
      },
      "source": [
        "Survival function properties:\n",
        "$$\\hat S(t) = \\prod_{t_i \\leq t} \\frac{n_i - d_i}{n_i} = \\prod_{t_i \\leq t} 1 - \\frac{d_i}{n_i} =\\prod_{t_i \\leq t} 1 - \\frac{\\text{number of events that happened at time }t_i }{\\text{number of individuals known to have survived up to time }t_i } = \\prod_{t_i \\leq t} p_{t_i} $$\n",
        "\n",
        "Another form:\n",
        "$$\\hat S(t) = \\hat S(t-1)p_t$$\n"
      ]
    },
    {
      "cell_type": "code",
      "execution_count": null,
      "metadata": {
        "id": "yh4KKbtDyWWy"
      },
      "outputs": [],
      "source": [
        "def kaplan_meier_estm(event_indicators , survival_times ):\n",
        "    \"\"\"\n",
        "    Fits the Kaplan-Meier survival curve to the input event indicators and survival times.\n",
        "\n",
        "    Parameters:\n",
        "    survival_times (np array): time from study inclusion to event (death, relapse, etc.)\n",
        "    event_indicators (binary np array): the event of interest that occurs during the follow-up time (e.g., mortality, relapse, etc.)\n",
        "\n",
        "    Returns:\n",
        "    s (np array): estimated survival probabilities at each time point\n",
        "    t (np array): unique times at which the estimated survival probabilities change.\n",
        "    \"\"\"\n",
        "\n",
        "    # length of dataset\n",
        "    n = len(survival_times)\n",
        "\n",
        "    # compute unique survival times\n",
        "    t = np.unique(survival_times)\n",
        "    m = len(t)\n",
        "\n",
        "    # array that store the survival probabilities\n",
        "    s = np.ones(m)\n",
        "\n",
        "    # array that store the number of events\n",
        "    d = np.zeros(m)\n",
        "\n",
        "    for i in range(m):\n",
        "        # Count the number of events that occur (event indicator = 1) at time i\n",
        "        d[i] = np.sum((survival_times == t[i]) & event_indicators)\n",
        "\n",
        "        # compute the survival probability at time i\n",
        "        n_i = n - sum(d[:i]) # - d\n",
        "        s[i] = s[max(0, i-1)] * (1 - d[i] / n_i)\n",
        "    return t, s\n"
      ]
    },
    {
      "cell_type": "code",
      "execution_count": null,
      "metadata": {
        "colab": {
          "base_uri": "https://localhost:8080/",
          "height": 524
        },
        "id": "xSLoDkLB1cjo",
        "outputId": "0109bc08-b9bf-4e50-f065-6ff85f4e1943"
      },
      "outputs": [
        {
          "name": "stdout",
          "output_type": "stream",
          "text": [
            "Difference with KME of sklearn t: [0 0 0 0 0 0 0 0]\n",
            "Difference with KME of sklearn s: [ 0.          0.         -0.01398601 -0.06216006 -0.13442113 -0.18259518\n",
            " -0.20668221 -0.23076923]\n"
          ]
        },
        {
          "data": {
            "image/png": "[encoded data removed]",
            "text/plain": [
              "<Figure size 640x480 with 1 Axes>"
            ]
          },
          "metadata": {},
          "output_type": "display_data"
        }
      ],
      "source": [
        "# Example usage\n",
        "\n",
        "t_new, s_new = kaplan_meier_estm(event_indicators , survival_times)\n",
        "print(\"Difference with KME of sklearn t:\",t-t_new)\n",
        "print(\"Difference with KME of sklearn s:\",s-s_new)\n",
        "plt.plot(t_new, s_new)\n",
        "plt.xlabel(\"Time\")\n",
        "plt.ylabel(\"Survival probability\")\n",
        "plt.title(\"Kaplan-Meier Survival Curve\")\n",
        "plt.show()"
      ]
    },
    {
      "cell_type": "code",
      "execution_count": null,
      "metadata": {
        "id": "2nGIg3ZmUJjR"
      },
      "outputs": [],
      "source": [
        "#problem : difference of 0.2 on the probabilities ... choice of the formula? \n",
        "#next: fonction fit - selon un clustering ? predict - métriques? ??"
      ]
    },
    {
      "cell_type": "markdown",
      "metadata": {
        "id": "ZmGkCe1bztpk"
      },
      "source": [
        "### Dataset"
      ]
    },
    {
      "cell_type": "markdown",
      "metadata": {
        "id": "R2jUVsP-z8y9"
      },
      "source": [
        "Since there's not access to the real data, the first step to do is to find/construct a dataset where the CLV can measurable/predictable. One can need to have some features such as: \n",
        "* Personal information : occupation, salary, gender, age, marital status, Geolocalisation (Country/town ...etc)\n",
        "* Date of entry to company/study\n",
        "* Date of leaving (can be empty if the element didn't quit yet)\n",
        "* Information related to the person as a client : number & types of products , communication email/call ..."
      ]
    }
  ],
  "metadata": {
    "colab": {
      "collapsed_sections": [
        "rXX7mcpXj709"
      ],
      "provenance": []
    },
    "kernelspec": {
      "display_name": "Python 3",
      "name": "python3"
    },
    "language_info": {
      "name": "python"
    }
  },
  "nbformat": 4,
  "nbformat_minor": 0
}
