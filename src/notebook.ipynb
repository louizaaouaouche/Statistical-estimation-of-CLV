{
  "cells": [
    {
      "cell_type": "code",
      "execution_count": 1,
      "metadata": {
        "id": "PFBoUFoWaOvt"
      },
      "outputs": [],
      "source": [
        "# imports\n",
        "import numpy as np\n",
        "import pandas as pd\n",
        "import matplotlib.pyplot as plt\n",
        "import seaborn as sns\n",
        "import random"
      ]
    },
    {
      "cell_type": "markdown",
      "metadata": {
        "id": "ti0XAl_MVP8F"
      },
      "source": [
        "# Probabilistic / statistic models"
      ]
    },
    {
      "cell_type": "markdown",
      "metadata": {
        "id": "zagtCvB8VP8G"
      },
      "source": [
        "The first part of the project consists in studying basic estimators supposing that the data follows a given distribution such as the exponential one."
      ]
    },
    {
      "cell_type": "markdown",
      "metadata": {
        "id": "FcV9izFdaHg-"
      },
      "source": [
        "##### EXPONENTIAL GENERATOR - without censored data "
      ]
    },
    {
      "cell_type": "markdown",
      "metadata": {
        "id": "CwJypTHAVP8H"
      },
      "source": [
        "This data generator is based on exponential distribution but it is going to be used for a geometric estimator."
      ]
    },
    {
      "cell_type": "code",
      "source": [
        "def bootstrap(data1, data2):\n",
        "  sample1 = []\n",
        "  sample2 = []\n",
        "  for i in range(len(data1)):\n",
        "    rand_int = random.randint(0,len(data1)-1) \n",
        "    sample1.append(data1[rand_int])\n",
        "    sample2.append(data2[rand_int])\n",
        "  return sample1, sample2"
      ],
      "metadata": {
        "id": "BE5eq-5i1UcU"
      },
      "execution_count": 92,
      "outputs": []
    },
    {
      "cell_type": "code",
      "execution_count": 2,
      "metadata": {
        "id": "KqJp6IuaaGcp"
      },
      "outputs": [],
      "source": [
        "def generate_exponential_perfect(mean, size):\n",
        "    \"\"\"\n",
        "    Generates random numbers following an exponential distribution\n",
        "\n",
        "    Args:\n",
        "        mean (float): The mean of the distribution.\n",
        "        size (int): The number of random numbers to generate.\n",
        "\n",
        "    Returns:\n",
        "        An array of random numbers following an exponential distribution\n",
        "        with the given mean.\n",
        "    \"\"\"\n",
        "    return np.random.exponential(scale=mean, size=size)"
      ]
    },
    {
      "cell_type": "code",
      "execution_count": 3,
      "metadata": {
        "colab": {
          "base_uri": "https://localhost:8080/",
          "height": 448
        },
        "id": "Sd4CdH53aGZ3",
        "outputId": "0e9541f1-a52f-4691-e5c2-084f5e1b2baa"
      },
      "outputs": [
        {
          "output_type": "execute_result",
          "data": {
            "text/plain": [
              "<Axes: ylabel='Count'>"
            ]
          },
          "metadata": {},
          "execution_count": 3
        },
        {
          "output_type": "display_data",
          "data": {
            "text/plain": [
              "<Figure size 640x480 with 1 Axes>"
            ],
            "image/png": "[encoded data removed]"
          },
          "metadata": {}
        }
      ],
      "source": [
        "# testing the generator\n",
        "mean = 10\n",
        "size= 10000\n",
        "Y = generate_exponential_perfect(mean, size)\n",
        "sns.histplot(Y, kde = True)"
      ]
    },
    {
      "cell_type": "markdown",
      "metadata": {
        "id": "poA6eBduVP8J"
      },
      "source": [
        "##### geometric estimator"
      ]
    },
    {
      "cell_type": "code",
      "execution_count": 4,
      "metadata": {
        "id": "cug7sl0PVP8J"
      },
      "outputs": [],
      "source": [
        "def geom_clv_estimator(T):\n",
        "    \"\"\"\n",
        "    Function to calculate the geometric clv estimator\n",
        "    \n",
        "    Parameters:\n",
        "    T (list or array): list or array of numerical values\n",
        "    \n",
        "    Returns:\n",
        "    float: the geometric clv estimator of the values in T\n",
        "    \"\"\"\n",
        "    return np.sum(T)/len(T)"
      ]
    },
    {
      "cell_type": "code",
      "execution_count": 45,
      "metadata": {
        "id": "Mq0CSn1nVP8J"
      },
      "outputs": [],
      "source": [
        "mean = 10\n",
        "size= 100000\n",
        "n = 100000 # number of generations\n",
        "\n",
        "clv_geom = []\n",
        "\n",
        "for i in range(n):\n",
        "    clv_geom.append(geom_clv_estimator(generate_exponential_perfect(mean, size)))\n",
        "\n",
        "clv_geom_avg = np.mean(clv_geom)\n",
        "clv_geom_errors = np.array(clv_geom) - mean"
      ]
    },
    {
      "cell_type": "code",
      "execution_count": 46,
      "metadata": {
        "colab": {
          "base_uri": "https://localhost:8080/",
          "height": 470
        },
        "id": "gU8c7PLqVP8K",
        "outputId": "92e60fbd-e0b9-463b-d10d-4b25401c9d77"
      },
      "outputs": [
        {
          "output_type": "execute_result",
          "data": {
            "text/plain": [
              "Text(0.5, 1.0, 'Distribution of CLV errors for all samples')"
            ]
          },
          "metadata": {},
          "execution_count": 46
        },
        {
          "output_type": "display_data",
          "data": {
            "text/plain": [
              "<Figure size 640x480 with 1 Axes>"
            ],
            "image/png": "[encoded data removed]"
          },
          "metadata": {}
        }
      ],
      "source": [
        "sns.histplot(clv_geom_errors, kde = True).set_title(\"Distribution of CLV errors for all samples\")"
      ]
    },
    {
      "cell_type": "markdown",
      "metadata": {
        "id": "uKnuN_gQVP8K"
      },
      "source": [
        "As expected the error is normally distributed. For all the samples $Y_i$ for $i\\in \\{1,...,n\\}$ the prediction error $(prediction_i - expectation_i)$ folllows a gaussian distribution with mean 0.\n"
      ]
    },
    {
      "cell_type": "code",
      "execution_count": 47,
      "metadata": {
        "colab": {
          "base_uri": "https://localhost:8080/"
        },
        "id": "W6erVNxUVP8K",
        "outputId": "15960d59-02ad-4123-ba54-2ca8bf1c61ae"
      },
      "outputs": [
        {
          "output_type": "stream",
          "name": "stdout",
          "text": [
            "CONVERGENCE :\n",
            " \t size of each dataset =100000 \n",
            " \t number of datasets =100000 \n",
            " \t Average CLV real = 9.999901 \n",
            " \t CLV thoery = 10, \n",
            " \t Std = 0.031573\n"
          ]
        }
      ],
      "source": [
        "print(\"CONVERGENCE :\\n \\t size of each dataset =%d \\n \\t number of datasets =%d \\n \\t Average CLV real = %f \\n \\t CLV thoery = %d \\n \\t Std = %f\" % (size, n,clv_geom_avg ,mean, np.std(clv_geom)))"
      ]
    },
    {
      "cell_type": "markdown",
      "metadata": {
        "id": "5pjgZ31LVP8L"
      },
      "source": [
        "##### EXPONENTIAL GENERATOR (with censored data)"
      ]
    },
    {
      "cell_type": "code",
      "execution_count": 8,
      "metadata": {
        "id": "yiDsZ2BVVP8L"
      },
      "outputs": [],
      "source": [
        "def generate_exponential(mean, size , obs_duration):\n",
        "    T = np.random.exponential(scale=mean, size=size)\n",
        "    ancient = obs_duration * np.random.rand(size) # uniform distribution\n",
        "    Y = T*(T<=ancient) +  ancient*(T>ancient)\n",
        "    return Y , ancient"
      ]
    },
    {
      "cell_type": "code",
      "execution_count": 56,
      "metadata": {
        "id": "Ft8DyJf7aGXa",
        "colab": {
          "base_uri": "https://localhost:8080/",
          "height": 448
        },
        "outputId": "23f95763-0725-4749-8c4a-4afaefc756d3"
      },
      "outputs": [
        {
          "output_type": "execute_result",
          "data": {
            "text/plain": [
              "<Axes: ylabel='Count'>"
            ]
          },
          "metadata": {},
          "execution_count": 56
        },
        {
          "output_type": "display_data",
          "data": {
            "text/plain": [
              "<Figure size 640x480 with 1 Axes>"
            ],
            "image/png": "[encoded data removed]"
          },
          "metadata": {}
        }
      ],
      "source": [
        "mean = 10\n",
        "size= 100000\n",
        "DureeObs = 12*2\n",
        "Y, ancient = generate_exponential(mean, size, DureeObs)\n",
        "sns.histplot(Y, kde = True)\n"
      ]
    },
    {
      "cell_type": "code",
      "execution_count": 10,
      "metadata": {
        "colab": {
          "base_uri": "https://localhost:8080/"
        },
        "id": "Saitp9TdVP8M",
        "outputId": "6f939090-c70d-47e0-ff4a-e11d13eef34f"
      },
      "outputs": [
        {
          "output_type": "execute_result",
          "data": {
            "text/plain": [
              "3745"
            ]
          },
          "metadata": {},
          "execution_count": 10
        }
      ],
      "source": [
        "len(np.where(Y==ancient)[0])"
      ]
    },
    {
      "cell_type": "markdown",
      "metadata": {
        "id": "yhLNVOsCVP8M"
      },
      "source": [
        "##### geometric estimator"
      ]
    },
    {
      "cell_type": "code",
      "source": [
        "def CI_clv(a,Y,ancient):\n",
        "    len_A = len(np.where(Y!=ancient)[0])\n",
        "    lower = np.sum(Y)/(len_A + a * np.sqrt(len_A))\n",
        "    upper = np.sum(Y)/(len_A + - a * np.sqrt(len_A))\n",
        "    \n",
        "    return lower, upper"
      ],
      "metadata": {
        "id": "Nhrcn0FZv6il"
      },
      "execution_count": null,
      "outputs": []
    },
    {
      "cell_type": "code",
      "execution_count": 48,
      "metadata": {
        "id": "uwPf6zDCVP8M"
      },
      "outputs": [],
      "source": [
        "def exp_clv_estimator(Y , ancient):\n",
        "    A = np.where(Y!=ancient)[0] # available data : T_i < a_i\n",
        "    return np.sum(Y) /len(A)"
      ]
    },
    {
      "cell_type": "code",
      "execution_count": 70,
      "metadata": {
        "id": "4nhp8pwcVP8N"
      },
      "outputs": [],
      "source": [
        "mean = 10\n",
        "size= 100\n",
        "n = 100000 # number of generations\n",
        "\n",
        "clv_exp = []\n",
        "lower = []\n",
        "upper = []\n",
        "for i in range(n):\n",
        "    Y_new, ancient_new = generate_exponential(mean, size,DureeObs )\n",
        "    clv_exp.append(exp_clv_estimator(Y_new, ancient_new))\n",
        "    lower.append(CI_clv(1.96, Y_new, ancient_new)[0])\n",
        "    upper.append(CI_clv(1.96, Y_new, ancient_new)[1])\n",
        "    \n",
        "clv_exp_avg = np.mean(clv_exp)\n",
        "clv_exp_errors = np.array(clv_exp) - mean"
      ]
    },
    {
      "cell_type": "code",
      "source": [
        "clv_exp"
      ],
      "metadata": {
        "colab": {
          "base_uri": "https://localhost:8080/"
        },
        "id": "XHFzkgBMlNbw",
        "outputId": "ce514a44-549b-4f13-85e6-93e4176f8b53"
      },
      "execution_count": 66,
      "outputs": [
        {
          "output_type": "execute_result",
          "data": {
            "text/plain": [
              "[9.992853768548112,\n",
              " 9.978669854191004,\n",
              " 9.969696821500417,\n",
              " 9.969936571530212,\n",
              " 9.982332933656545,\n",
              " 10.038991857479315,\n",
              " 10.062843971400069,\n",
              " 10.059055126264315,\n",
              " 9.975745843054161,\n",
              " 10.02406028853937,\n",
              " 9.965400248032893,\n",
              " 9.951429749954105,\n",
              " 9.988839716420152,\n",
              " 10.00522618847329,\n",
              " 10.064334817886877,\n",
              " 9.968531364593613,\n",
              " 10.035844242341286,\n",
              " 9.96263633585347,\n",
              " 9.987264088978437,\n",
              " 10.022245117172233,\n",
              " 10.014994911902164,\n",
              " 9.959636919239573,\n",
              " 10.095168933992673,\n",
              " 9.982059751091972,\n",
              " 10.029529770849573,\n",
              " 10.082393769774157,\n",
              " 9.959343102720357,\n",
              " 9.999370828291243,\n",
              " 10.051999660589692,\n",
              " 10.00472872652923,\n",
              " 9.957841542150804,\n",
              " 9.987676648093377,\n",
              " 9.904978473746041,\n",
              " 10.013053007876584,\n",
              " 9.99868045588249,\n",
              " 9.99236529626682,\n",
              " 9.973156406181685,\n",
              " 10.021444162426077,\n",
              " 9.956332439699256,\n",
              " 10.047028161131482,\n",
              " 10.013841505680277,\n",
              " 10.083214333602315,\n",
              " 10.028491563432341,\n",
              " 9.983532425628987,\n",
              " 9.980025577137608,\n",
              " 9.967719235543692,\n",
              " 9.989724941804825,\n",
              " 10.008697450064105,\n",
              " 10.00924528651641,\n",
              " 10.025626665006248,\n",
              " 9.966050736783243,\n",
              " 10.041243695750028,\n",
              " 10.024808925136076,\n",
              " 9.926018472291972,\n",
              " 9.972055127845506,\n",
              " 9.990553545676502,\n",
              " 9.966099634293949,\n",
              " 9.976711422617221,\n",
              " 9.996276360376498,\n",
              " 9.98764752499504,\n",
              " 10.05618708310682,\n",
              " 9.971585748726914,\n",
              " 10.02571050284068,\n",
              " 9.948518480537459,\n",
              " 9.974747487248795,\n",
              " 9.978419504465498,\n",
              " 9.954029186740925,\n",
              " 9.982202314451175,\n",
              " 9.989973282527298,\n",
              " 10.061581121479538,\n",
              " 10.053957673195752,\n",
              " 10.005147556069744,\n",
              " 10.008806898766581,\n",
              " 9.92139162572136,\n",
              " 9.935685344553663,\n",
              " 9.98789813077625,\n",
              " 10.032787750332544,\n",
              " 10.002567362569899,\n",
              " 10.00303770075459,\n",
              " 10.032238995605244,\n",
              " 10.046114947660453,\n",
              " 10.027077262012256,\n",
              " 10.010649432252874,\n",
              " 10.0229602092505,\n",
              " 9.998891338006361,\n",
              " 9.98632619619122,\n",
              " 9.988118179485973,\n",
              " 10.01508955211747,\n",
              " 9.988396326176133,\n",
              " 10.010521910352637,\n",
              " 10.014132294342792,\n",
              " 9.982616328506714,\n",
              " 10.04456161360727,\n",
              " 9.995883877115217,\n",
              " 10.081133913772883,\n",
              " 9.989347042253913,\n",
              " 9.943441892010908,\n",
              " 9.958254475176837,\n",
              " 9.992364552775161,\n",
              " 10.06152892148752,\n",
              " 10.000339131834446,\n",
              " 10.001921505579682,\n",
              " 9.961742835971709,\n",
              " 9.988305832898687,\n",
              " 10.033475768378143,\n",
              " 10.045482535700884,\n",
              " 10.03544359044497,\n",
              " 9.96639909038469,\n",
              " 10.076295157589614,\n",
              " 10.037268196137253,\n",
              " 9.93823903409375,\n",
              " 10.011918628984784,\n",
              " 10.021336925806116,\n",
              " 10.026732387069348,\n",
              " 9.978635145439654,\n",
              " 9.989551338415316,\n",
              " 9.891774688092179,\n",
              " 10.08089728044177,\n",
              " 9.952372069192824,\n",
              " 9.996367568192367,\n",
              " 9.965194217275807,\n",
              " 10.024859527702842,\n",
              " 9.983284645788492,\n",
              " 9.970008151306883,\n",
              " 10.02029064027068,\n",
              " 9.993035528880421,\n",
              " 9.979818439792915,\n",
              " 10.009805800347909,\n",
              " 10.004679104633208,\n",
              " 10.018521336893333,\n",
              " 9.982431877995767,\n",
              " 10.032576123260437,\n",
              " 9.97812604455576,\n",
              " 9.961454317655972,\n",
              " 10.007842783554267,\n",
              " 9.92488253932389,\n",
              " 10.00103316418348,\n",
              " 9.970278267023486,\n",
              " 9.964192628252391,\n",
              " 9.99930815758715,\n",
              " 9.970465458843163,\n",
              " 10.006971421405009,\n",
              " 10.02713870528798,\n",
              " 9.928912079382433,\n",
              " 9.99738931778197,\n",
              " 10.053076099014026,\n",
              " 9.991868079711898,\n",
              " 9.979664052182812,\n",
              " 9.97582911503379,\n",
              " 9.96338663259875,\n",
              " 10.047239786062223,\n",
              " 9.956854813251669,\n",
              " 9.97717250717193,\n",
              " 10.01674713344842,\n",
              " 10.011990560011554,\n",
              " 9.892239340031532,\n",
              " 10.048430583750587,\n",
              " 10.005108491747926,\n",
              " 10.061562039076815,\n",
              " 9.968441308220072,\n",
              " 10.013217933828393,\n",
              " 10.001068234129669,\n",
              " 9.980522542519248,\n",
              " 10.0427710513307,\n",
              " 10.00379458218646,\n",
              " 9.993083343418853,\n",
              " 9.941410084575608,\n",
              " 10.036865900058537,\n",
              " 9.963509889211968,\n",
              " 9.963552148980996,\n",
              " 9.979266688052535,\n",
              " 9.991616362835217,\n",
              " 9.955625407239753,\n",
              " 10.009112673099288,\n",
              " 9.967095511822277,\n",
              " 10.054463105873076,\n",
              " 9.97752918626965,\n",
              " 9.952453800348607,\n",
              " 9.98221630346124,\n",
              " 10.09583003099508,\n",
              " 9.999239230367676,\n",
              " 10.007262920880182,\n",
              " 9.943490092335145,\n",
              " 9.96249074156713,\n",
              " 10.017419860867475,\n",
              " 9.977713507598642,\n",
              " 9.957301370132477,\n",
              " 10.002384166191963,\n",
              " 9.955584711934286,\n",
              " 10.055531947886088,\n",
              " 9.949596698166015,\n",
              " 10.011212779987572,\n",
              " 9.994133434393376,\n",
              " 9.978837123358954,\n",
              " 9.961147035217579,\n",
              " 9.958873933970358,\n",
              " 10.036384017077015,\n",
              " 9.999807431164829,\n",
              " 9.996367311293515,\n",
              " 9.99234868804261,\n",
              " 10.005978587399893,\n",
              " 9.96074583799718,\n",
              " 10.001689784977248,\n",
              " 9.980866618294202,\n",
              " 9.986202707521151,\n",
              " 10.01576523076223,\n",
              " 9.996209883161374,\n",
              " 9.951708459356155,\n",
              " 9.992926824799913,\n",
              " 10.025277761890173,\n",
              " 10.054031971808378,\n",
              " 9.969171356190401,\n",
              " 9.974328142831121,\n",
              " 10.038963292877424,\n",
              " 9.960366314778494,\n",
              " 10.089432874493442,\n",
              " 10.038994617985573,\n",
              " 9.965852046228246,\n",
              " 10.015290772506287,\n",
              " 10.007800448547744,\n",
              " 9.964753506683332,\n",
              " 9.967192759183275,\n",
              " 10.034178752722104,\n",
              " 9.935277650115037,\n",
              " 10.037017085481889,\n",
              " 9.973449288309707,\n",
              " 10.046977415066427,\n",
              " 10.005920603313694,\n",
              " 10.035091642075137,\n",
              " 9.976476354118674,\n",
              " 10.01079794623655,\n",
              " 9.993458513813748,\n",
              " 10.015778700187193,\n",
              " 10.03726639492845,\n",
              " 10.04058446561516,\n",
              " 10.010595219562509,\n",
              " 9.991587517354295,\n",
              " 10.009264276675758,\n",
              " 10.007468777783853,\n",
              " 10.014637418185991,\n",
              " 10.061126750328462,\n",
              " 9.977676479942872,\n",
              " 9.99181683521187,\n",
              " 10.025025307645212,\n",
              " 10.045594046215214,\n",
              " 9.950827408865555,\n",
              " 10.006826235445939,\n",
              " 9.994262398795408,\n",
              " 10.00956250606222,\n",
              " 10.015433816129105,\n",
              " 10.016535042710638,\n",
              " 9.910091510687222,\n",
              " 9.972965851722504,\n",
              " 10.035311344969575,\n",
              " 10.004160818021015,\n",
              " 9.9646778871885,\n",
              " 10.012318226966638,\n",
              " 9.9696611631865,\n",
              " 9.941996219924459,\n",
              " 10.088101021719583,\n",
              " 10.037387448844077,\n",
              " 9.968155940662047,\n",
              " 9.963758048891368,\n",
              " 9.89723425709018,\n",
              " 10.048986113703705,\n",
              " 9.999423390064345,\n",
              " 9.993858540832715,\n",
              " 10.009399595674639,\n",
              " 10.015713742929536,\n",
              " 10.035125142012726,\n",
              " 10.070963520440431,\n",
              " 10.042766716787533,\n",
              " 10.013964825255876,\n",
              " 9.977804027873818,\n",
              " 10.006307284330983,\n",
              " 10.007198608882621,\n",
              " 10.012003309253757,\n",
              " 10.078483710282669,\n",
              " 9.969131447000022,\n",
              " 10.03971379345107,\n",
              " 10.018920137696764,\n",
              " 10.00866375634154,\n",
              " 9.983187407532682,\n",
              " 10.019407030752216,\n",
              " 9.963950595903434,\n",
              " 10.068344463728298,\n",
              " 9.988656245051638,\n",
              " 9.998069960186113,\n",
              " 9.989906839657442,\n",
              " 10.085783366598697,\n",
              " 10.013526763355882,\n",
              " 10.006517536918953,\n",
              " 10.026455846943561,\n",
              " 9.949261556922952,\n",
              " 9.971611490746827,\n",
              " 9.952664097802625,\n",
              " 9.965544092410214,\n",
              " 9.956028447895166,\n",
              " 9.996968804805253,\n",
              " 9.963555666362357,\n",
              " 10.026913386724084,\n",
              " 10.020133040708945,\n",
              " 10.04395940384962,\n",
              " 10.020315104522064,\n",
              " 9.983141663372223,\n",
              " 9.938476052584528,\n",
              " 10.004474738095771,\n",
              " 9.938588147326971,\n",
              " 9.983211907873764,\n",
              " 10.009196285159206,\n",
              " 9.962461465109552,\n",
              " 9.950904997577092,\n",
              " 9.949053065589414,\n",
              " 9.985059106267776,\n",
              " 9.952958403677398,\n",
              " 10.043800701120713,\n",
              " 9.979770494421585,\n",
              " 10.059928208773048,\n",
              " 10.029088169479584,\n",
              " 9.960640121513453,\n",
              " 10.013178705775376,\n",
              " 9.956251713287905,\n",
              " 10.035658557627583,\n",
              " 10.059423392405956,\n",
              " 9.979236626012167,\n",
              " 10.002698007620836,\n",
              " 9.95170083109385,\n",
              " 9.99126820702994,\n",
              " 9.949794411989032,\n",
              " 9.958605993489298,\n",
              " 9.995592218277745,\n",
              " 9.947899673867177,\n",
              " 9.986355214398522,\n",
              " 9.99328937440724,\n",
              " 10.005943660231969,\n",
              " 9.959716258292106,\n",
              " 9.973635055956558,\n",
              " 9.970690781475623,\n",
              " 9.970438869707209,\n",
              " 10.066779297918533,\n",
              " 9.983676943783447,\n",
              " 10.001672112278166,\n",
              " 10.01881802190595,\n",
              " 10.002884253469736,\n",
              " 10.069364382320984,\n",
              " 9.989123295931776,\n",
              " 9.98241845020151,\n",
              " 9.9478801008387,\n",
              " 10.038477497138965,\n",
              " 10.011027561942303,\n",
              " 9.998977490883005,\n",
              " 10.032840805561374,\n",
              " 10.009695082250177,\n",
              " 9.991601501073053,\n",
              " 9.972268741219544,\n",
              " 9.979553049650315,\n",
              " 9.919439701003638,\n",
              " 10.01409253057235,\n",
              " 10.006788944746775,\n",
              " 10.012065343012218,\n",
              " 10.015313658418094,\n",
              " 10.061858813448124,\n",
              " 9.973428653117212,\n",
              " 10.00178251093847,\n",
              " 9.984447717554849,\n",
              " 9.985770589676518,\n",
              " 9.958359707749947,\n",
              " 10.028425654593093,\n",
              " 9.974869248206819,\n",
              " 9.978795151089818,\n",
              " 9.966114186937595,\n",
              " 9.995934025747582,\n",
              " 9.950232321517893,\n",
              " 10.001173919788723,\n",
              " 9.993614784044768,\n",
              " 10.03978506075622,\n",
              " 9.940899431408749,\n",
              " 9.987797360305477,\n",
              " 10.035529449962322,\n",
              " 9.976099714472797,\n",
              " 9.953826528161427,\n",
              " 9.971838628745981,\n",
              " 9.99903895048256,\n",
              " 10.000848610675511,\n",
              " 9.919237561456557,\n",
              " 9.97872806086675,\n",
              " 10.028368702124467,\n",
              " 9.964416211466817,\n",
              " 9.982091237739153,\n",
              " 9.99379894175939,\n",
              " 10.027844059154127,\n",
              " 10.054834164297434,\n",
              " 10.00606222558406,\n",
              " 9.950040057222632,\n",
              " 10.029773588291691,\n",
              " 10.005562888866212,\n",
              " 9.984735737763769,\n",
              " 10.044426890437157,\n",
              " 9.999470437019333,\n",
              " 9.950216941033931,\n",
              " 9.975342294059159,\n",
              " 10.009199986979294,\n",
              " 9.994367315350399,\n",
              " 10.04675583661113,\n",
              " 9.96829977756766,\n",
              " 9.984009091594833,\n",
              " 9.999868004199827,\n",
              " 10.016451836286091,\n",
              " 9.992960133306749,\n",
              " 9.974785284626273,\n",
              " 10.008701317926011,\n",
              " 10.061496594693525,\n",
              " 9.961593846774255,\n",
              " 10.042206128186274,\n",
              " 10.059570356480984,\n",
              " 9.971841502108287,\n",
              " 9.971037597144168,\n",
              " 10.038538503104727,\n",
              " 9.958687101092412,\n",
              " 10.04314654308612,\n",
              " 10.001002217701652,\n",
              " 10.004045023661066,\n",
              " 10.032244874963032,\n",
              " 9.940470707296573,\n",
              " 9.997900648826056,\n",
              " 10.030087001577193,\n",
              " 9.993721524458731,\n",
              " 10.022023547479538,\n",
              " 9.992072433252595,\n",
              " 10.041339869608072,\n",
              " 9.98219992668069,\n",
              " 10.038211119405835,\n",
              " 10.005687882143732,\n",
              " 9.986158828742647,\n",
              " 10.059633328674497,\n",
              " 9.997866861602066,\n",
              " 9.966804878950457,\n",
              " 10.027442723087585,\n",
              " 10.092758747540236,\n",
              " 9.97902085448681,\n",
              " 9.916118799525174,\n",
              " 9.99046057104705,\n",
              " 9.92471718855767,\n",
              " 10.017091816934133,\n",
              " 10.036944548457875,\n",
              " 9.971620264086525,\n",
              " 9.924725551029443,\n",
              " 10.014651922430689,\n",
              " 9.97960748090198,\n",
              " 9.984005950346795,\n",
              " 9.928052742229239,\n",
              " 10.007947619706647,\n",
              " 10.020887047877055,\n",
              " 10.055891585221168,\n",
              " 9.996106005546755,\n",
              " 9.991307929119163,\n",
              " 9.974070898321745,\n",
              " 10.036444628269551,\n",
              " 10.01567194504141,\n",
              " 10.031478804659061,\n",
              " 10.033187087245878,\n",
              " 10.012785035116867,\n",
              " 9.99426677097008,\n",
              " 10.003974362428425,\n",
              " 10.011414497726761,\n",
              " 9.982361080038979,\n",
              " 9.986074934332866,\n",
              " 10.017808434960736,\n",
              " 10.059301011025836,\n",
              " 9.998334312977345,\n",
              " 9.972884637676918,\n",
              " 10.008196263922553,\n",
              " 9.935096930408717,\n",
              " 9.97420717289159,\n",
              " 10.02286816761025,\n",
              " 9.963014299928028,\n",
              " 9.93932995836529,\n",
              " 9.995707737679979,\n",
              " 9.992113335715342,\n",
              " 10.010145598314564,\n",
              " 9.99117168176974,\n",
              " 9.981037407166845,\n",
              " 9.99362197717652,\n",
              " 9.973220198245842,\n",
              " 9.995115403295989,\n",
              " 10.000755189760755,\n",
              " 9.953090470605234,\n",
              " 9.96141160035355,\n",
              " 10.027804932319565,\n",
              " 10.034873928223265,\n",
              " 10.022996561064739,\n",
              " 10.009577285540342,\n",
              " 9.959958512467297,\n",
              " 10.035720476189686,\n",
              " 9.989371247317463,\n",
              " 9.982199041303911,\n",
              " 10.019988380361315,\n",
              " 10.031336492240296,\n",
              " 10.030859203182889,\n",
              " 10.007401358246462,\n",
              " 9.990119834912822,\n",
              " 9.988904144269105,\n",
              " 10.036337903574688,\n",
              " 10.009788710524548,\n",
              " 9.990728279777027,\n",
              " 9.981415453517478,\n",
              " 9.950183289316845,\n",
              " 9.975459976934316,\n",
              " 9.983406168629733,\n",
              " 9.989843292356529,\n",
              " 9.926848297672128,\n",
              " 9.989066371484432,\n",
              " 9.977253555070359,\n",
              " 10.020943781642618,\n",
              " 10.019107472970985,\n",
              " 9.961196421749932,\n",
              " 10.027415950185011,\n",
              " 10.020947138474481,\n",
              " 10.02531609384549,\n",
              " 10.052511937473245,\n",
              " 9.96913087495942,\n",
              " 9.952013102892966,\n",
              " 9.985038680933474,\n",
              " 9.94152411237967,\n",
              " 10.007410526239704,\n",
              " 10.044978508209358,\n",
              " 9.994975311377626,\n",
              " 10.022885279632327,\n",
              " 9.963044261876439,\n",
              " 10.000521823782178,\n",
              " 9.964352547548069,\n",
              " 9.923529545983472,\n",
              " 10.053023082480967,\n",
              " 9.981196283526456,\n",
              " 9.962313844821077,\n",
              " 9.9794324986764,\n",
              " 9.95262822129087,\n",
              " 9.893627406453781,\n",
              " 9.960764394966134,\n",
              " 9.979702822899435,\n",
              " 9.961762781892336,\n",
              " 10.042007781198633,\n",
              " 10.023655160569842,\n",
              " 9.942702146137513,\n",
              " 9.94182778399469,\n",
              " 10.024197681667333,\n",
              " 10.026591926492396,\n",
              " 10.020105473294779,\n",
              " 9.978842457306408,\n",
              " 9.999997199469798,\n",
              " 10.010551651991404,\n",
              " 10.010132640195435,\n",
              " 10.022649662532201,\n",
              " 9.98238924892008,\n",
              " 10.031176422785338,\n",
              " 9.979916472305858,\n",
              " 10.000702356779783,\n",
              " 10.012091094045468,\n",
              " 9.960502577008013,\n",
              " 9.995436571230067,\n",
              " 10.02719828722448,\n",
              " 10.008234949905574,\n",
              " 10.041605340635222,\n",
              " 10.025183282684853,\n",
              " 10.021305370474561,\n",
              " 10.010015596297908,\n",
              " 10.049752450895241,\n",
              " 9.9969055796835,\n",
              " 10.016238589360555,\n",
              " 10.038843677436715,\n",
              " 10.028166385590538,\n",
              " 10.040342606254999,\n",
              " 9.943381100384073,\n",
              " 10.044030912258323,\n",
              " 9.998124290266299,\n",
              " 10.013968201901982,\n",
              " 10.076961001650847,\n",
              " 9.940036012263082,\n",
              " 10.026024125282458,\n",
              " 9.963728520804219,\n",
              " 10.032477884833149,\n",
              " 9.975697173224159,\n",
              " 10.028489752517613,\n",
              " 10.0073667261358,\n",
              " 9.926347941119793,\n",
              " 10.038475402199948,\n",
              " 9.982050028454509,\n",
              " 9.935407840940028,\n",
              " 9.932853589365248,\n",
              " 9.99339424661272,\n",
              " 10.000983600410162,\n",
              " 9.961254224530014,\n",
              " 9.952066157241525,\n",
              " 9.988025631282468,\n",
              " 10.008810121182137,\n",
              " 9.97894459470294,\n",
              " 9.973300949332597,\n",
              " 10.014151729220211,\n",
              " 9.988850740930927,\n",
              " 10.011671052545596,\n",
              " 10.039205526311331,\n",
              " 9.942046555416075,\n",
              " 9.995896702920804,\n",
              " 10.05238489253988,\n",
              " 10.001111694979832,\n",
              " 10.038763329729523,\n",
              " 9.950513958338451,\n",
              " 9.994892062454474,\n",
              " 10.042288224867406,\n",
              " 9.94479027853839,\n",
              " 9.96324173406786,\n",
              " 9.97970534556199,\n",
              " 9.992758021003624,\n",
              " 10.004628643914529,\n",
              " 10.007675292632475,\n",
              " 10.022160400623408,\n",
              " 9.970603194066237,\n",
              " 10.01201083416018,\n",
              " 10.016342785568545,\n",
              " 9.98005896518779,\n",
              " 10.016258872061863,\n",
              " 10.014658000991616,\n",
              " 10.004113324418864,\n",
              " 9.953190662542335,\n",
              " 10.066305643334337,\n",
              " 10.005923237761653,\n",
              " 9.93604738741119,\n",
              " 9.972487019765234,\n",
              " 9.964128875685965,\n",
              " 9.995476336859925,\n",
              " 9.977575533646922,\n",
              " 10.027456813048111,\n",
              " 10.037069904105236,\n",
              " 9.984134341505188,\n",
              " 9.9676521520255,\n",
              " 10.0835576781603,\n",
              " 10.013552478632347,\n",
              " 9.97556608740905,\n",
              " 9.943978179035852,\n",
              " 9.92500293732425,\n",
              " 10.090763666691412,\n",
              " 9.984746443440946,\n",
              " 10.003628805106626,\n",
              " 9.974168071930446,\n",
              " 9.977089388299738,\n",
              " 9.985299103306671,\n",
              " 10.03321660912884,\n",
              " 10.03055965552217,\n",
              " 10.043491887212259,\n",
              " 10.00874716282008,\n",
              " 10.003137294127955,\n",
              " 10.007585580542525,\n",
              " 9.964473671483116,\n",
              " 10.033680381696536,\n",
              " 10.023960874573495,\n",
              " 10.036842128846509,\n",
              " 9.984822486690721,\n",
              " 10.041207022497165,\n",
              " 10.023139726348601,\n",
              " 10.048821274191129,\n",
              " 10.011172159122822,\n",
              " 10.041652774402133,\n",
              " 9.970915850392368,\n",
              " 10.016442025706109,\n",
              " 9.977955572545522,\n",
              " 10.041778710929743,\n",
              " 9.987559694399938,\n",
              " 9.995818072715263,\n",
              " 10.027482985093986,\n",
              " 9.964919533572731,\n",
              " 10.015032230058823,\n",
              " 9.977035982195885,\n",
              " 10.057294633406014,\n",
              " 10.074088477549294,\n",
              " 10.047274810362866,\n",
              " 10.049485015302475,\n",
              " 9.98297680925398,\n",
              " 10.043820132839182,\n",
              " 9.933276768733677,\n",
              " 9.9876760082401,\n",
              " 9.935308372900419,\n",
              " 10.064392722270913,\n",
              " 10.034034006541471,\n",
              " 9.986799593640324,\n",
              " 9.978543282964052,\n",
              " 10.015719376951347,\n",
              " 10.005461265574887,\n",
              " 9.99675182034415,\n",
              " 9.985667149287483,\n",
              " 10.076337955543055,\n",
              " 9.950443705782329,\n",
              " 9.971236892193726,\n",
              " 10.000863317035684,\n",
              " 10.075206186557738,\n",
              " 9.977897583254485,\n",
              " 10.025726814884377,\n",
              " 10.027236992247543,\n",
              " 10.003846142828206,\n",
              " 10.015316586042212,\n",
              " 10.012149305939161,\n",
              " 10.05132077278646,\n",
              " 10.078370230703127,\n",
              " 9.974982635583359,\n",
              " 10.016779150079508,\n",
              " 9.975097425614697,\n",
              " 10.00972968777716,\n",
              " 9.96868613051953,\n",
              " 10.04787157588546,\n",
              " 9.987957271249686,\n",
              " 9.962631088501796,\n",
              " 10.004992640248604,\n",
              " 10.044593763506287,\n",
              " 9.945976475611,\n",
              " 10.007872686795796,\n",
              " 10.008050175946703,\n",
              " 9.954499148354916,\n",
              " 9.955954591571626,\n",
              " 9.990589950353526,\n",
              " 10.00464925362861,\n",
              " 10.10412961206728,\n",
              " 10.022025137895133,\n",
              " 9.974417737166627,\n",
              " 9.993899735876612,\n",
              " 9.971992241973137,\n",
              " 9.965472431213652,\n",
              " 9.963200401441242,\n",
              " 9.988498982783243,\n",
              " 9.949454707004314,\n",
              " 9.996518667294563,\n",
              " 9.956444214664414,\n",
              " 9.989189219238453,\n",
              " 10.00218464496771,\n",
              " 9.9717669087472,\n",
              " 9.991893139943604,\n",
              " 9.988565194972201,\n",
              " 9.952133785368748,\n",
              " 10.005241140515146,\n",
              " 9.970943471272497,\n",
              " 10.01519502304432,\n",
              " 9.992201434036804,\n",
              " 10.053085639986435,\n",
              " 10.013699191657185,\n",
              " 10.007528994266808,\n",
              " 9.979651832812639,\n",
              " 10.034947979033959,\n",
              " 10.049493978265872,\n",
              " 10.019024536421824,\n",
              " 9.94559432751949,\n",
              " 10.0093240576725,\n",
              " 10.056305642466624,\n",
              " 9.930325724500898,\n",
              " 10.050666913293231,\n",
              " 9.94350882931674,\n",
              " 10.016878780770503,\n",
              " 10.004424148942622,\n",
              " 10.034388505826076,\n",
              " 10.05535641726879,\n",
              " 9.96316198547664,\n",
              " 10.008628259938526,\n",
              " 9.973369180488572,\n",
              " 9.996070868496854,\n",
              " 9.98303734634129,\n",
              " 10.014299448139752,\n",
              " 9.95450640569958,\n",
              " 10.039315676393274,\n",
              " 9.990885324079672,\n",
              " 10.001745602555621,\n",
              " 10.021780175474637,\n",
              " 10.010955268834104,\n",
              " 10.041180333354514,\n",
              " 10.029920232135302,\n",
              " 9.96968077573815,\n",
              " 10.000666317711682,\n",
              " 10.069274548135754,\n",
              " 9.94925537831702,\n",
              " 9.97169067138922,\n",
              " 10.004811765763414,\n",
              " 9.967645040026301,\n",
              " 10.025707314619076,\n",
              " 9.951955798597401,\n",
              " 9.999887778247759,\n",
              " 9.967313056500481,\n",
              " 10.099174482963411,\n",
              " 10.031563285810599,\n",
              " 10.012020927638778,\n",
              " 9.996972661083223,\n",
              " 10.035039456075747,\n",
              " 10.033696739538389,\n",
              " 10.04549114304824,\n",
              " 10.014977292755615,\n",
              " 10.05383790014199,\n",
              " 10.012118357766301,\n",
              " 9.99382707023863,\n",
              " 9.961068655343935,\n",
              " 10.007727693790144,\n",
              " 10.04164149087002,\n",
              " 9.949486392005161,\n",
              " 10.047342484418875,\n",
              " 9.995777843186273,\n",
              " 10.01365647645024,\n",
              " 9.984641431255094,\n",
              " 10.033785215013282,\n",
              " 10.038586373121685,\n",
              " 10.046934645227337,\n",
              " 9.992798349882774,\n",
              " 10.039950584389487,\n",
              " 10.074907023143794,\n",
              " 10.017970482139908,\n",
              " 9.962534447753105,\n",
              " 10.007474725462055,\n",
              " 10.000835170043207,\n",
              " 10.01463492395929,\n",
              " 10.042394253044737,\n",
              " 10.05730594463781,\n",
              " 9.99940766704143,\n",
              " 9.990836644088665,\n",
              " 9.97801045302848,\n",
              " 10.030967248816236,\n",
              " 9.996361439273684,\n",
              " 10.018476530848275,\n",
              " 9.931430827776436,\n",
              " 10.007029860748831,\n",
              " 10.002133320574634,\n",
              " 9.972101583665749,\n",
              " 10.029530941299008,\n",
              " 10.014175398181479,\n",
              " 10.01650747391228,\n",
              " 9.969021851063484,\n",
              " 10.005807634136872,\n",
              " 10.022062435731488,\n",
              " 9.998259329094669,\n",
              " 9.95464354596496,\n",
              " 10.07887184000004,\n",
              " 10.019447370550317,\n",
              " 10.020903860327738,\n",
              " 9.989868532171313,\n",
              " 10.02584388917083,\n",
              " 10.049579676539837,\n",
              " 10.012078505351404,\n",
              " 10.03798899436853,\n",
              " 10.058182159198138,\n",
              " 10.002370527960572,\n",
              " 9.980925473825135,\n",
              " 9.994497036883827,\n",
              " 9.997278153601945,\n",
              " 9.992109897932503,\n",
              " 10.040275901976699,\n",
              " 10.004381410910296,\n",
              " 10.050719465738338,\n",
              " 10.003323652156768,\n",
              " 10.025584984239057,\n",
              " 9.982008742737765,\n",
              " 10.004440212250275,\n",
              " 10.033319623838892,\n",
              " 10.006794536533095,\n",
              " 10.04422100103599,\n",
              " 10.031128905540783,\n",
              " 9.99792988278334,\n",
              " 9.918129455557633,\n",
              " 10.015218404781365,\n",
              " 9.987036992682034,\n",
              " 10.03620918031859,\n",
              " 10.010776798731936,\n",
              " 9.979977475842198,\n",
              " 10.065313540236245,\n",
              " 9.965202661564511,\n",
              " 10.020534048237346,\n",
              " 10.005743848100073,\n",
              " 9.979077500739544,\n",
              " 9.959699599440222,\n",
              " 10.009576586045371,\n",
              " 9.987698729066702,\n",
              " 9.962051979216099,\n",
              " 10.029801567526425,\n",
              " 10.017107604682485,\n",
              " 9.966783491766533,\n",
              " 9.905583640967324,\n",
              " 9.981160686721536,\n",
              " 10.003291475278543,\n",
              " 9.95340833175129,\n",
              " 9.994984355021375,\n",
              " 9.989153313576248,\n",
              " 10.02013301165232,\n",
              " 10.046251377807629,\n",
              " 9.943904676786085,\n",
              " 10.004803937547674,\n",
              " 9.937605150597527,\n",
              " 9.997445199851931,\n",
              " 9.971870513183545,\n",
              " 10.007948773127632,\n",
              " 9.958526696661238,\n",
              " 9.970224381212176,\n",
              " 9.982057056971037,\n",
              " 10.063216063564457,\n",
              " 10.0143342886308,\n",
              " 10.012122325329583,\n",
              " 9.988423500268597,\n",
              " 10.015746719350515,\n",
              " 9.93358084421624,\n",
              " 10.030916530984843,\n",
              " 10.013782871147978,\n",
              " 9.96374501759134,\n",
              " 9.979390422190262,\n",
              " 9.982164445976146,\n",
              " 10.06080240207376,\n",
              " 9.996984489367298,\n",
              " 10.008634266796449,\n",
              " 9.99908199815049,\n",
              " 10.030730862518526,\n",
              " 10.008701050794713,\n",
              " 9.973190103458787,\n",
              " 10.071168446751049,\n",
              " 9.981681815329967,\n",
              " 10.025789942531544,\n",
              " 10.036704970932504,\n",
              " 10.00199799055344,\n",
              " 10.009352109978725,\n",
              " 10.071097149492127,\n",
              " 9.98418856966292,\n",
              " 9.985026399730838,\n",
              " 9.937425871003642,\n",
              " 10.003386346000557,\n",
              " 9.989244163818148,\n",
              " 10.026889344414112,\n",
              " 10.001291517626642,\n",
              " 9.991498898869215,\n",
              " 9.998935730673944,\n",
              " 9.94848345159085,\n",
              " 9.962468219181194,\n",
              " 9.963477777909954,\n",
              " 10.056612117631405,\n",
              " 10.03261988387423,\n",
              " 10.004625532959558,\n",
              " 9.99604603815664,\n",
              " 9.992387100010562,\n",
              " 9.94774121710999,\n",
              " 9.938773711510839,\n",
              " 9.943474886159615,\n",
              " 10.026749166325168,\n",
              " 10.02688928631439,\n",
              " 9.94358698410004,\n",
              " 9.992327130792777,\n",
              " 9.99786555663072,\n",
              " 9.996087307500627,\n",
              " 9.934467979171233,\n",
              " 10.08232967288519,\n",
              " 9.997660527038153,\n",
              " 10.042949417296054,\n",
              " 9.96866283253987,\n",
              " 10.043608645885813,\n",
              " 10.05945854443561,\n",
              " 9.996418879324601,\n",
              " 10.01422629751261,\n",
              " 10.014041663026651,\n",
              " 10.013157064222817,\n",
              " 9.920439313604536,\n",
              " 9.966451512654578,\n",
              " 9.979788575166396,\n",
              " 9.994178118974324,\n",
              " 10.03093765282456,\n",
              " 10.005291253701365,\n",
              " 10.025437364888507,\n",
              " 9.96482212781669,\n",
              " 9.962221148417964,\n",
              " 10.04270290173297,\n",
              " 10.015812779143907,\n",
              " 9.983479335724972,\n",
              " 9.97461906997854,\n",
              " 9.979118057664923,\n",
              " 9.975407675863092,\n",
              " 10.039205840500902,\n",
              " 10.025231279239023,\n",
              " 10.015734547043408,\n",
              " 10.017683394029474,\n",
              " 10.07198859085414,\n",
              " 9.988120669793123,\n",
              " 10.002642936922552,\n",
              " 10.049931570330624,\n",
              " 9.981459403194869,\n",
              " 10.009838752848513,\n",
              " 10.035690820062676,\n",
              " 9.982824424350557,\n",
              " 9.944659240516318,\n",
              " 9.99516738059775,\n",
              " 9.977237360994899,\n",
              " 10.00378681946861,\n",
              " 10.063173797258804,\n",
              " 9.961548592227073,\n",
              " 10.063114839147838,\n",
              " 10.019260694675191,\n",
              " 9.958516916019448,\n",
              " 9.963340606525987,\n",
              " 9.99535194671451,\n",
              " 10.00675597102477,\n",
              " 10.037747300774683,\n",
              " 9.993988730518119,\n",
              " 9.969013775340798,\n",
              " 10.054736427520933,\n",
              " 10.008588816435813,\n",
              " 9.956313080468075,\n",
              " ...]"
            ]
          },
          "metadata": {},
          "execution_count": 66
        }
      ]
    },
    {
      "cell_type": "code",
      "execution_count": 51,
      "metadata": {
        "colab": {
          "base_uri": "https://localhost:8080/",
          "height": 470
        },
        "id": "lFwOHfpBVP8N",
        "outputId": "ea5fd309-e432-4ace-8029-60763d299278"
      },
      "outputs": [
        {
          "output_type": "execute_result",
          "data": {
            "text/plain": [
              "Text(0.5, 1.0, 'Distribution of CLV for all samples')"
            ]
          },
          "metadata": {},
          "execution_count": 51
        },
        {
          "output_type": "display_data",
          "data": {
            "text/plain": [
              "<Figure size 640x480 with 1 Axes>"
            ],
            "image/png": "[encoded data removed]"
          },
          "metadata": {}
        }
      ],
      "source": [
        "sns.histplot(clv_exp_errors, kde = True).set_title(\"Distribution of CLV for all samples\")"
      ]
    },
    {
      "cell_type": "code",
      "source": [
        "sns.histplot(lower, kde = True).set_title(\"Distribution of IC\"),sns.histplot(upper, kde = True).set_title(\"Distribution of IC\")"
      ],
      "metadata": {
        "colab": {
          "base_uri": "https://localhost:8080/",
          "height": 470
        },
        "id": "HJi1-3OnwEHQ",
        "outputId": "15ca9648-5acf-4bf1-899b-71c2555be417"
      },
      "execution_count": 73,
      "outputs": [
        {
          "output_type": "execute_result",
          "data": {
            "text/plain": [
              "(Text(0.5, 1.0, 'Distribution of IC'), Text(0.5, 1.0, 'Distribution of IC'))"
            ]
          },
          "metadata": {},
          "execution_count": 73
        },
        {
          "output_type": "display_data",
          "data": {
            "text/plain": [
              "<Figure size 640x480 with 1 Axes>"
            ],
            "image/png": "[encoded data removed]"
          },
          "metadata": {}
        }
      ]
    },
    {
      "cell_type": "markdown",
      "source": [
        "The error is still normally distributed and the standart deviation is higher. \n",
        "(As censored data are normally distributed, they have no impact on the error distribution. Censored data increase the std of the error)"
      ],
      "metadata": {
        "id": "DIwj1tPkkzXg"
      }
    },
    {
      "cell_type": "code",
      "execution_count": 53,
      "metadata": {
        "colab": {
          "base_uri": "https://localhost:8080/"
        },
        "id": "NKVMHQmRVP8N",
        "outputId": "0324451b-eaf7-4b11-8c4d-d01bf6b56b4b"
      },
      "outputs": [
        {
          "output_type": "stream",
          "name": "stdout",
          "text": [
            "CONVERGENCE :\n",
            " \t size of each dataset =100000 \n",
            " \t number of datasets =100000 \n",
            " \t Average CLV real = 10.000123 \n",
            " \t CLV thoery = 10 \n",
            " \t Std = 0.035518\n"
          ]
        }
      ],
      "source": [
        "print(\"CONVERGENCE :\\n \\t size of each dataset =%d \\n \\t number of datasets =%d \\n \\t Average CLV real = %f \\n \\t CLV thoery = %d \\n \\t Std = %f\" % (size, n,clv_exp_avg,mean, np.std(clv_exp)))"
      ]
    },
    {
      "cell_type": "markdown",
      "metadata": {
        "id": "CJ0F-1kJkycl"
      },
      "source": [
        "###### Confidence interval"
      ]
    },
    {
      "cell_type": "code",
      "source": [
        "def confidence_lvl(lower_bound, upper_bound, estimators):\n",
        "  in_IC=0\n",
        "  for x in estimators : \n",
        "    if (x<upper_bound and x>lower_bound) : in_IC +=1\n",
        "  return (in_IC / len(estimators))*100"
      ],
      "metadata": {
        "id": "5d_r7aogqOZk"
      },
      "execution_count": 63,
      "outputs": []
    },
    {
      "cell_type": "code",
      "source": [
        "confidence_lvl(np.mean(lower), np.mean(upper), clv_exp)"
      ],
      "metadata": {
        "colab": {
          "base_uri": "https://localhost:8080/"
        },
        "id": "ktETrLRqr0GE",
        "outputId": "8f9999b2-c260-43e5-c465-c459e0ce214a"
      },
      "execution_count": 74,
      "outputs": [
        {
          "output_type": "execute_result",
          "data": {
            "text/plain": [
              "94.461"
            ]
          },
          "metadata": {},
          "execution_count": 74
        }
      ]
    },
    {
      "cell_type": "markdown",
      "source": [
        "The estimator is 95% in the IC interval. That confirms the theory."
      ],
      "metadata": {
        "id": "41ggHTgCxX1Y"
      }
    },
    {
      "cell_type": "code",
      "source": [
        "mean = 10\n",
        "size= 100\n",
        "n = 100000 # number of generations\n",
        "\n",
        "clv_exp = []\n",
        "lower = []\n",
        "upper = []\n",
        "for i in range(n):\n",
        "    Y_new, ancient_new = bootstrap(Y, ancient)\n",
        "    clv_exp.append(exp_clv_estimator(Y_new, ancient_new))\n",
        "    lower.append(CI_clv(1.96, Y_new, ancient_new)[0])\n",
        "    upper.append(CI_clv(1.96, Y_new, ancient_new)[1])\n",
        "    \n",
        "clv_exp_avg = np.mean(clv_exp)\n",
        "clv_exp_errors = np.array(clv_exp) - mean"
      ],
      "metadata": {
        "colab": {
          "base_uri": "https://localhost:8080/",
          "height": 408
        },
        "id": "DzkMvEJI2Fzv",
        "outputId": "f7b352fd-bd05-4faf-d600-e6c1b2a7935c"
      },
      "execution_count": 93,
      "outputs": [
        {
          "output_type": "error",
          "ename": "KeyboardInterrupt",
          "evalue": "ignored",
          "traceback": [
            "\u001b[0;31m---------------------------------------------------------------------------\u001b[0m",
            "\u001b[0;31mKeyboardInterrupt\u001b[0m                         Traceback (most recent call last)",
            "\u001b[0;32m<ipython-input-93-23ecd0264382>\u001b[0m in \u001b[0;36m<cell line: 8>\u001b[0;34m()\u001b[0m\n\u001b[1;32m     10\u001b[0m     \u001b[0mclv_exp\u001b[0m\u001b[0;34m.\u001b[0m\u001b[0mappend\u001b[0m\u001b[0;34m(\u001b[0m\u001b[0mexp_clv_estimator\u001b[0m\u001b[0;34m(\u001b[0m\u001b[0mY_new\u001b[0m\u001b[0;34m,\u001b[0m \u001b[0mancient_new\u001b[0m\u001b[0;34m)\u001b[0m\u001b[0;34m)\u001b[0m\u001b[0;34m\u001b[0m\u001b[0;34m\u001b[0m\u001b[0m\n\u001b[1;32m     11\u001b[0m     \u001b[0mlower\u001b[0m\u001b[0;34m.\u001b[0m\u001b[0mappend\u001b[0m\u001b[0;34m(\u001b[0m\u001b[0mCI_clv\u001b[0m\u001b[0;34m(\u001b[0m\u001b[0;36m1.96\u001b[0m\u001b[0;34m,\u001b[0m \u001b[0mY_new\u001b[0m\u001b[0;34m,\u001b[0m \u001b[0mancient_new\u001b[0m\u001b[0;34m)\u001b[0m\u001b[0;34m[\u001b[0m\u001b[0;36m0\u001b[0m\u001b[0;34m]\u001b[0m\u001b[0;34m)\u001b[0m\u001b[0;34m\u001b[0m\u001b[0;34m\u001b[0m\u001b[0m\n\u001b[0;32m---> 12\u001b[0;31m     \u001b[0mupper\u001b[0m\u001b[0;34m.\u001b[0m\u001b[0mappend\u001b[0m\u001b[0;34m(\u001b[0m\u001b[0mCI_clv\u001b[0m\u001b[0;34m(\u001b[0m\u001b[0;36m1.96\u001b[0m\u001b[0;34m,\u001b[0m \u001b[0mY_new\u001b[0m\u001b[0;34m,\u001b[0m \u001b[0mancient_new\u001b[0m\u001b[0;34m)\u001b[0m\u001b[0;34m[\u001b[0m\u001b[0;36m1\u001b[0m\u001b[0;34m]\u001b[0m\u001b[0;34m)\u001b[0m\u001b[0;34m\u001b[0m\u001b[0;34m\u001b[0m\u001b[0m\n\u001b[0m\u001b[1;32m     13\u001b[0m \u001b[0;34m\u001b[0m\u001b[0m\n\u001b[1;32m     14\u001b[0m \u001b[0mclv_exp_avg\u001b[0m \u001b[0;34m=\u001b[0m \u001b[0mnp\u001b[0m\u001b[0;34m.\u001b[0m\u001b[0mmean\u001b[0m\u001b[0;34m(\u001b[0m\u001b[0mclv_exp\u001b[0m\u001b[0;34m)\u001b[0m\u001b[0;34m\u001b[0m\u001b[0;34m\u001b[0m\u001b[0m\n",
            "\u001b[0;32m<ipython-input-57-20878d09e240>\u001b[0m in \u001b[0;36mCI_clv\u001b[0;34m(a, Y, ancient)\u001b[0m\n\u001b[1;32m      1\u001b[0m \u001b[0;32mdef\u001b[0m \u001b[0mCI_clv\u001b[0m\u001b[0;34m(\u001b[0m\u001b[0ma\u001b[0m\u001b[0;34m,\u001b[0m\u001b[0mY\u001b[0m\u001b[0;34m,\u001b[0m\u001b[0mancient\u001b[0m\u001b[0;34m)\u001b[0m\u001b[0;34m:\u001b[0m\u001b[0;34m\u001b[0m\u001b[0;34m\u001b[0m\u001b[0m\n\u001b[1;32m      2\u001b[0m     \u001b[0mlen_A\u001b[0m \u001b[0;34m=\u001b[0m \u001b[0mlen\u001b[0m\u001b[0;34m(\u001b[0m\u001b[0mnp\u001b[0m\u001b[0;34m.\u001b[0m\u001b[0mwhere\u001b[0m\u001b[0;34m(\u001b[0m\u001b[0mY\u001b[0m\u001b[0;34m!=\u001b[0m\u001b[0mancient\u001b[0m\u001b[0;34m)\u001b[0m\u001b[0;34m[\u001b[0m\u001b[0;36m0\u001b[0m\u001b[0;34m]\u001b[0m\u001b[0;34m)\u001b[0m\u001b[0;34m\u001b[0m\u001b[0;34m\u001b[0m\u001b[0m\n\u001b[0;32m----> 3\u001b[0;31m     \u001b[0mlower\u001b[0m \u001b[0;34m=\u001b[0m \u001b[0mnp\u001b[0m\u001b[0;34m.\u001b[0m\u001b[0msum\u001b[0m\u001b[0;34m(\u001b[0m\u001b[0mY\u001b[0m\u001b[0;34m)\u001b[0m\u001b[0;34m/\u001b[0m\u001b[0;34m(\u001b[0m\u001b[0mlen_A\u001b[0m \u001b[0;34m+\u001b[0m \u001b[0ma\u001b[0m \u001b[0;34m*\u001b[0m \u001b[0mnp\u001b[0m\u001b[0;34m.\u001b[0m\u001b[0msqrt\u001b[0m\u001b[0;34m(\u001b[0m\u001b[0mlen_A\u001b[0m\u001b[0;34m)\u001b[0m\u001b[0;34m)\u001b[0m\u001b[0;34m\u001b[0m\u001b[0;34m\u001b[0m\u001b[0m\n\u001b[0m\u001b[1;32m      4\u001b[0m     \u001b[0mupper\u001b[0m \u001b[0;34m=\u001b[0m \u001b[0mnp\u001b[0m\u001b[0;34m.\u001b[0m\u001b[0msum\u001b[0m\u001b[0;34m(\u001b[0m\u001b[0mY\u001b[0m\u001b[0;34m)\u001b[0m\u001b[0;34m/\u001b[0m\u001b[0;34m(\u001b[0m\u001b[0mlen_A\u001b[0m \u001b[0;34m+\u001b[0m \u001b[0;34m-\u001b[0m \u001b[0ma\u001b[0m \u001b[0;34m*\u001b[0m \u001b[0mnp\u001b[0m\u001b[0;34m.\u001b[0m\u001b[0msqrt\u001b[0m\u001b[0;34m(\u001b[0m\u001b[0mlen_A\u001b[0m\u001b[0;34m)\u001b[0m\u001b[0;34m)\u001b[0m\u001b[0;34m\u001b[0m\u001b[0;34m\u001b[0m\u001b[0m\n\u001b[1;32m      5\u001b[0m \u001b[0;34m\u001b[0m\u001b[0m\n",
            "\u001b[0;32m/usr/local/lib/python3.10/dist-packages/numpy/core/overrides.py\u001b[0m in \u001b[0;36msum\u001b[0;34m(*args, **kwargs)\u001b[0m\n",
            "\u001b[0;32m/usr/local/lib/python3.10/dist-packages/numpy/core/fromnumeric.py\u001b[0m in \u001b[0;36msum\u001b[0;34m(a, axis, dtype, out, keepdims, initial, where)\u001b[0m\n\u001b[1;32m   2294\u001b[0m         \u001b[0;32mreturn\u001b[0m \u001b[0mres\u001b[0m\u001b[0;34m\u001b[0m\u001b[0;34m\u001b[0m\u001b[0m\n\u001b[1;32m   2295\u001b[0m \u001b[0;34m\u001b[0m\u001b[0m\n\u001b[0;32m-> 2296\u001b[0;31m     return _wrapreduction(a, np.add, 'sum', axis, dtype, out, keepdims=keepdims,\n\u001b[0m\u001b[1;32m   2297\u001b[0m                           initial=initial, where=where)\n\u001b[1;32m   2298\u001b[0m \u001b[0;34m\u001b[0m\u001b[0m\n",
            "\u001b[0;32m/usr/local/lib/python3.10/dist-packages/numpy/core/fromnumeric.py\u001b[0m in \u001b[0;36m_wrapreduction\u001b[0;34m(obj, ufunc, method, axis, dtype, out, **kwargs)\u001b[0m\n\u001b[1;32m     84\u001b[0m                 \u001b[0;32mreturn\u001b[0m \u001b[0mreduction\u001b[0m\u001b[0;34m(\u001b[0m\u001b[0maxis\u001b[0m\u001b[0;34m=\u001b[0m\u001b[0maxis\u001b[0m\u001b[0;34m,\u001b[0m \u001b[0mout\u001b[0m\u001b[0;34m=\u001b[0m\u001b[0mout\u001b[0m\u001b[0;34m,\u001b[0m \u001b[0;34m**\u001b[0m\u001b[0mpasskwargs\u001b[0m\u001b[0;34m)\u001b[0m\u001b[0;34m\u001b[0m\u001b[0;34m\u001b[0m\u001b[0m\n\u001b[1;32m     85\u001b[0m \u001b[0;34m\u001b[0m\u001b[0m\n\u001b[0;32m---> 86\u001b[0;31m     \u001b[0;32mreturn\u001b[0m \u001b[0mufunc\u001b[0m\u001b[0;34m.\u001b[0m\u001b[0mreduce\u001b[0m\u001b[0;34m(\u001b[0m\u001b[0mobj\u001b[0m\u001b[0;34m,\u001b[0m \u001b[0maxis\u001b[0m\u001b[0;34m,\u001b[0m \u001b[0mdtype\u001b[0m\u001b[0;34m,\u001b[0m \u001b[0mout\u001b[0m\u001b[0;34m,\u001b[0m \u001b[0;34m**\u001b[0m\u001b[0mpasskwargs\u001b[0m\u001b[0;34m)\u001b[0m\u001b[0;34m\u001b[0m\u001b[0;34m\u001b[0m\u001b[0m\n\u001b[0m\u001b[1;32m     87\u001b[0m \u001b[0;34m\u001b[0m\u001b[0m\n\u001b[1;32m     88\u001b[0m \u001b[0;34m\u001b[0m\u001b[0m\n",
            "\u001b[0;31mKeyboardInterrupt\u001b[0m: "
          ]
        }
      ]
    },
    {
      "cell_type": "code",
      "source": [
        "sns.histplot(clv_exp_errors, kde = True).set_title(\"Distribution of CLV for all samples\")"
      ],
      "metadata": {
        "colab": {
          "base_uri": "https://localhost:8080/"
        },
        "id": "dh4lwhOz2Kvv",
        "outputId": "1a7df21b-647a-4dc5-e32d-6669d158ba13"
      },
      "execution_count": 86,
      "outputs": [
        {
          "output_type": "execute_result",
          "data": {
            "text/plain": [
              "array([ 6.66244686,  2.20183031,  3.86451237, ...,  6.78779593,\n",
              "       23.55755872, 14.84774688])"
            ]
          },
          "metadata": {},
          "execution_count": 86
        }
      ]
    },
    {
      "cell_type": "code",
      "source": [
        "print(\"CONVERGENCE :\\n \\t size of each dataset =%d \\n \\t number of datasets =%d \\n \\t Average CLV real = %f \\n \\t CLV thoery = %d \\n \\t Std = %f\" % (size, n,clv_exp_avg,mean, np.std(clv_exp)))"
      ],
      "metadata": {
        "colab": {
          "base_uri": "https://localhost:8080/"
        },
        "id": "TbnisWRS0Y4a",
        "outputId": "57044c1e-75a4-4a3e-a3c6-8af150d92093"
      },
      "execution_count": 83,
      "outputs": [
        {
          "output_type": "stream",
          "name": "stdout",
          "text": [
            "CPU times: user 100 ms, sys: 0 ns, total: 100 ms\n",
            "Wall time: 101 ms\n"
          ]
        },
        {
          "output_type": "execute_result",
          "data": {
            "text/plain": [
              "100000"
            ]
          },
          "metadata": {},
          "execution_count": 83
        }
      ]
    },
    {
      "cell_type": "code",
      "source": [
        "confidence_lvl(np.mean(lower), np.mean(upper), clv_exp)"
      ],
      "metadata": {
        "id": "SLJv4xke2uGI"
      },
      "execution_count": null,
      "outputs": []
    },
    {
      "cell_type": "markdown",
      "metadata": {
        "id": "Ox1oAdHaVP8O"
      },
      "source": [
        "##### PARETO "
      ]
    },
    {
      "cell_type": "code",
      "execution_count": 17,
      "metadata": {
        "id": "hjIYGJrBVP8O"
      },
      "outputs": [],
      "source": [
        "def generate_pareto(scale, size,obs_duration,shape  ):\n",
        "    T = np.random.pareto(a=shape, size=size) * scale  # shape parameter (a) set to 1.5\n",
        "    ancient = obs_duration* np.random.rand(size)  # uniform distribution\n",
        "    Y = T * (T <= ancient) + ancient * (T > ancient)\n",
        "    return Y, ancient"
      ]
    },
    {
      "cell_type": "code",
      "execution_count": 18,
      "metadata": {
        "colab": {
          "base_uri": "https://localhost:8080/",
          "height": 448
        },
        "id": "lQWe-Mh1VP8O",
        "outputId": "a8198643-c78d-4e6c-efdf-d8d0d5fdb605"
      },
      "outputs": [
        {
          "output_type": "execute_result",
          "data": {
            "text/plain": [
              "<Axes: ylabel='Count'>"
            ]
          },
          "metadata": {},
          "execution_count": 18
        },
        {
          "output_type": "display_data",
          "data": {
            "text/plain": [
              "<Figure size 640x480 with 1 Axes>"
            ],
            "image/png": "[encoded data removed]"
          },
          "metadata": {}
        }
      ],
      "source": [
        "scale = 1\n",
        "size= 1000\n",
        "DureeObs = 12*2\n",
        "shape = 1.5\n",
        "\n",
        "mean = (shape * scale) /(shape - 1 )\n",
        "\n",
        "Y ,ancient = generate_pareto(scale, size, DureeObs, shape)\n",
        "sns.histplot(Y, kde = True)"
      ]
    },
    {
      "cell_type": "code",
      "execution_count": 19,
      "metadata": {
        "colab": {
          "base_uri": "https://localhost:8080/"
        },
        "id": "4VngFxt3VP8O",
        "outputId": "c5ab22a2-7df4-4c86-fcb0-b71954eaaa00"
      },
      "outputs": [
        {
          "output_type": "execute_result",
          "data": {
            "text/plain": [
              "929"
            ]
          },
          "metadata": {},
          "execution_count": 19
        }
      ],
      "source": [
        "len(np.where(Y!=ancient)[0])"
      ]
    },
    {
      "cell_type": "code",
      "execution_count": 20,
      "metadata": {
        "colab": {
          "base_uri": "https://localhost:8080/"
        },
        "id": "splx3T3cVP8O",
        "outputId": "6b217120-334f-4510-bbe8-7c8429df2f86"
      },
      "outputs": [
        {
          "output_type": "execute_result",
          "data": {
            "text/plain": [
              "3.0"
            ]
          },
          "metadata": {},
          "execution_count": 20
        }
      ],
      "source": [
        "mean"
      ]
    },
    {
      "cell_type": "code",
      "execution_count": 21,
      "metadata": {
        "id": "r3ufj3NSVP8P"
      },
      "outputs": [],
      "source": [
        "def pareto_clv_estimator(Y, ancient):\n",
        "    len_A = len(np.where(Y!=ancient)[0])\n",
        "    denom = 1- (np.sum(np.log(Y))/len_A)\n",
        "    return 1 / denom"
      ]
    },
    {
      "cell_type": "code",
      "execution_count": 22,
      "metadata": {
        "id": "rIGw0DdaVP8P"
      },
      "outputs": [],
      "source": [
        "clv_pareto = pareto_clv_estimator(Y,ancient)\n",
        "epsilon = 0.1\n",
        "n = 1000\n",
        "max_size = 10000\n",
        "while (np.abs(clv_pareto-mean)>epsilon and (n <= max_size)) :\n",
        "    n +=1\n",
        "    Y_new, ancient_new = generate_pareto(mean, n, DureeObs,shape)\n",
        "    clv_pareto = pareto_clv_estimator(Y_new, ancient_new)\n"
      ]
    },
    {
      "cell_type": "code",
      "execution_count": 23,
      "metadata": {
        "colab": {
          "base_uri": "https://localhost:8080/"
        },
        "id": "_zgCkwsfVP8P",
        "outputId": "bbce74c5-9918-4247-ff73-d22a7d2baf56"
      },
      "outputs": [
        {
          "output_type": "stream",
          "name": "stdout",
          "text": [
            "CONVERGENCE WITH DIFFERENCE OF ε = 0.100 :\n",
            " \t size of dataset =10001 \n",
            " \t CLV real = 1.572681 \n",
            " \t CLV thoery = 3\n"
          ]
        }
      ],
      "source": [
        "print(\"CONVERGENCE WITH DIFFERENCE OF ε = %.3f :\\n \\t size of dataset =%d \\n \\t CLV real = %f \\n \\t CLV thoery = %d\" % (epsilon, n ,clv_pareto,mean))"
      ]
    },
    {
      "cell_type": "code",
      "execution_count": 24,
      "metadata": {
        "id": "LbIillu716q1"
      },
      "outputs": [],
      "source": [
        "# GENERATOR WITH TWO PARETO DISTRIBUTION\n",
        "\n",
        "# Parameters\n",
        "n = 1000\n",
        "DureeObs = 12*4\n",
        "\n",
        "moyenne1 = 4  # Mean in the first group\n",
        "shape1 = 0.1  # Small shape: close to exponential distribution\n",
        "\n",
        "moyenne2 = 9  # Mean in the second group\n",
        "shape2 = 0.4  # Larger shape: heavy-tailed distribution\n",
        "\n",
        "ratio_classe = 0.3  # Proportion of clients in the first group in the dataset\n",
        "\n",
        "# Expectation across both groups\n",
        "CLV = ratio_classe*moyenne1+(1-ratio_classe)*moyenne2\n",
        "\n",
        "# Data generation\n",
        "location1 = 0\n",
        "scale = moyenne1*(1-shape1)-location1\n",
        "T1 = np.random.gamma(shape1, scale, n)\n",
        "\n",
        "location2 = 0\n",
        "scale = moyenne2*(1-shape2)-location2\n",
        "T2 = np.random.gamma(shape2, scale, n)\n",
        "\n",
        "ber = np.random.rand(n) > ratio_classe\n",
        "\n",
        "T = (1-ber)*T1 + ber*T2\n",
        "\n",
        "Duree_depuis_souscription = DureeObs * np.random.rand(n)\n",
        "Y = T*(T<Duree_depuis_souscription)\n",
        "#Y = np.where(T<Duree_depuis_souscription, T, np.nan)\n",
        "\n",
        "\n",
        "# The data is now (Y, Duree_depuis_souscription)"
      ]
    },
    {
      "cell_type": "code",
      "execution_count": 25,
      "metadata": {
        "id": "oIDkssNMtUEZ"
      },
      "outputs": [],
      "source": [
        "# GENERATOR WITH ONLY ONE PARETO DISTRIBUTION\n",
        "\n",
        "# Parameters\n",
        "n = 1000\n",
        "DureeObs = 12*4\n",
        "\n",
        "moyenne1 = 4  # Mean in the first group\n",
        "shape1 = 0.1  # Small shape: close to exponential distribution\n",
        "\n",
        "#moyenne2 = 9  # Mean in the second group\n",
        "#shape2 = 0.4  # Larger shape: heavy-tailed distribution\n",
        "\n",
        "#ratio_classe = 0.3  # Proportion of clients in the first group in the dataset\n",
        "\n",
        "# Expectation across both groups\n",
        "CLV = moyenne1 #+(1-ratio_classe)*moyenne2\n",
        "\n",
        "# Data generation\n",
        "location1 = 0   # Que fait location et que fait shape\n",
        "scale = moyenne1*(1-shape1)-location1\n",
        "T = np.random.gamma(shape1, scale, n)\n",
        "\n",
        "\n",
        "# location2 = 0\n",
        "# scale = moyenne2*(1-shape2)-location2\n",
        "# T2 = np.random.gamma(shape2, scale, n)\n",
        "\n",
        "# ber = np.random.rand(n) > ratio_classe  \n",
        "\n",
        "# T = (1-ber)*T1 + ber*T2\n",
        "\n",
        "Duree_depuis_souscription = DureeObs * np.random.rand(n) # Q\n",
        "Y = T*(T<=Duree_depuis_souscription) +  Duree_depuis_souscription*(T>Duree_depuis_souscription)\n",
        "#Y = np.where(T<Duree_depuis_souscription, T, np.nan)\n",
        "\n",
        "# The data is now (Y, Duree_depuis_souscription)"
      ]
    },
    {
      "cell_type": "code",
      "execution_count": 26,
      "metadata": {
        "id": "1FgwHndXhtmU"
      },
      "outputs": [],
      "source": [
        "df = pd.DataFrame({'Y': Y, 'DUREE_SOUSCRIPTION':Duree_depuis_souscription}, columns=['Y', 'DUREE_SOUSCRIPTION'])"
      ]
    },
    {
      "cell_type": "code",
      "execution_count": 27,
      "metadata": {
        "colab": {
          "base_uri": "https://localhost:8080/",
          "height": 300
        },
        "id": "tsM867gbhW9s",
        "outputId": "5f1ea6fb-77e1-47bd-83bf-607a93e3ce96"
      },
      "outputs": [
        {
          "output_type": "execute_result",
          "data": {
            "text/plain": [
              "                  Y  DUREE_SOUSCRIPTION\n",
              "count  1.000000e+03         1000.000000\n",
              "mean   3.654561e-01           25.064008\n",
              "std    1.165620e+00           13.916078\n",
              "min    4.101561e-32            0.055278\n",
              "25%    2.941110e-06           12.983225\n",
              "50%    1.839222e-03           26.075357\n",
              "75%    1.074908e-01           36.887331\n",
              "max    1.514730e+01           47.898011"
            ],
            "text/html": [
              "\n",
              "  <div id=\"df-ba13320f-8607-4fc2-996b-4a57eb159b8e\">\n",
              "    <div class=\"colab-df-container\">\n",
              "      <div>\n",
              "<style scoped>\n",
              "    .dataframe tbody tr th:only-of-type {\n",
              "        vertical-align: middle;\n",
              "    }\n",
              "\n",
              "    .dataframe tbody tr th {\n",
              "        vertical-align: top;\n",
              "    }\n",
              "\n",
              "    .dataframe thead th {\n",
              "        text-align: right;\n",
              "    }\n",
              "</style>\n",
              "<table border=\"1\" class=\"dataframe\">\n",
              "  <thead>\n",
              "    <tr style=\"text-align: right;\">\n",
              "      <th></th>\n",
              "      <th>Y</th>\n",
              "      <th>DUREE_SOUSCRIPTION</th>\n",
              "    </tr>\n",
              "  </thead>\n",
              "  <tbody>\n",
              "    <tr>\n",
              "      <th>count</th>\n",
              "      <td>1.000000e+03</td>\n",
              "      <td>1000.000000</td>\n",
              "    </tr>\n",
              "    <tr>\n",
              "      <th>mean</th>\n",
              "      <td>3.654561e-01</td>\n",
              "      <td>25.064008</td>\n",
              "    </tr>\n",
              "    <tr>\n",
              "      <th>std</th>\n",
              "      <td>1.165620e+00</td>\n",
              "      <td>13.916078</td>\n",
              "    </tr>\n",
              "    <tr>\n",
              "      <th>min</th>\n",
              "      <td>4.101561e-32</td>\n",
              "      <td>0.055278</td>\n",
              "    </tr>\n",
              "    <tr>\n",
              "      <th>25%</th>\n",
              "      <td>2.941110e-06</td>\n",
              "      <td>12.983225</td>\n",
              "    </tr>\n",
              "    <tr>\n",
              "      <th>50%</th>\n",
              "      <td>1.839222e-03</td>\n",
              "      <td>26.075357</td>\n",
              "    </tr>\n",
              "    <tr>\n",
              "      <th>75%</th>\n",
              "      <td>1.074908e-01</td>\n",
              "      <td>36.887331</td>\n",
              "    </tr>\n",
              "    <tr>\n",
              "      <th>max</th>\n",
              "      <td>1.514730e+01</td>\n",
              "      <td>47.898011</td>\n",
              "    </tr>\n",
              "  </tbody>\n",
              "</table>\n",
              "</div>\n",
              "      <button class=\"colab-df-convert\" onclick=\"convertToInteractive('df-ba13320f-8607-4fc2-996b-4a57eb159b8e')\"\n",
              "              title=\"Convert this dataframe to an interactive table.\"\n",
              "              style=\"display:none;\">\n",
              "        \n",
              "  <svg xmlns=\"http://www.w3.org/2000/svg\" height=\"24px\"viewBox=\"0 0 24 24\"\n",
              "       width=\"24px\">\n",
              "    <path d=\"M0 0h24v24H0V0z\" fill=\"none\"/>\n",
              "    <path d=\"M18.56 5.44l.94 2.06.94-2.06 2.06-.94-2.06-.94-.94-2.06-.94 2.06-2.06.94zm-11 1L8.5 8.5l.94-2.06 2.06-.94-2.06-.94L8.5 2.5l-.94 2.06-2.06.94zm10 10l.94 2.06.94-2.06 2.06-.94-2.06-.94-.94-2.06-.94 2.06-2.06.94z\"/><path d=\"M17.41 7.96l-1.37-1.37c-.4-.4-.92-.59-1.43-.59-.52 0-1.04.2-1.43.59L10.3 9.45l-7.72 7.72c-.78.78-.78 2.05 0 2.83L4 21.41c.39.39.9.59 1.41.59.51 0 1.02-.2 1.41-.59l7.78-7.78 2.81-2.81c.8-.78.8-2.07 0-2.86zM5.41 20L4 18.59l7.72-7.72 1.47 1.35L5.41 20z\"/>\n",
              "  </svg>\n",
              "      </button>\n",
              "      \n",
              "  <style>\n",
              "    .colab-df-container {\n",
              "      display:flex;\n",
              "      flex-wrap:wrap;\n",
              "      gap: 12px;\n",
              "    }\n",
              "\n",
              "    .colab-df-convert {\n",
              "      background-color: #E8F0FE;\n",
              "      border: none;\n",
              "      border-radius: 50%;\n",
              "      cursor: pointer;\n",
              "      display: none;\n",
              "      fill: #1967D2;\n",
              "      height: 32px;\n",
              "      padding: 0 0 0 0;\n",
              "      width: 32px;\n",
              "    }\n",
              "\n",
              "    .colab-df-convert:hover {\n",
              "      background-color: #E2EBFA;\n",
              "      box-shadow: 0px 1px 2px rgba(60, 64, 67, 0.3), 0px 1px 3px 1px rgba(60, 64, 67, 0.15);\n",
              "      fill: #174EA6;\n",
              "    }\n",
              "\n",
              "    [theme=dark] .colab-df-convert {\n",
              "      background-color: #3B4455;\n",
              "      fill: #D2E3FC;\n",
              "    }\n",
              "\n",
              "    [theme=dark] .colab-df-convert:hover {\n",
              "      background-color: #434B5C;\n",
              "      box-shadow: 0px 1px 3px 1px rgba(0, 0, 0, 0.15);\n",
              "      filter: drop-shadow(0px 1px 2px rgba(0, 0, 0, 0.3));\n",
              "      fill: #FFFFFF;\n",
              "    }\n",
              "  </style>\n",
              "\n",
              "      <script>\n",
              "        const buttonEl =\n",
              "          document.querySelector('#df-ba13320f-8607-4fc2-996b-4a57eb159b8e button.colab-df-convert');\n",
              "        buttonEl.style.display =\n",
              "          google.colab.kernel.accessAllowed ? 'block' : 'none';\n",
              "\n",
              "        async function convertToInteractive(key) {\n",
              "          const element = document.querySelector('#df-ba13320f-8607-4fc2-996b-4a57eb159b8e');\n",
              "          const dataTable =\n",
              "            await google.colab.kernel.invokeFunction('convertToInteractive',\n",
              "                                                     [key], {});\n",
              "          if (!dataTable) return;\n",
              "\n",
              "          const docLinkHtml = 'Like what you see? Visit the ' +\n",
              "            '<a target=\"_blank\" href=https://colab.research.google.com/notebooks/data_table.ipynb>data table notebook</a>'\n",
              "            + ' to learn more about interactive tables.';\n",
              "          element.innerHTML = '';\n",
              "          dataTable['output_type'] = 'display_data';\n",
              "          await google.colab.output.renderOutput(dataTable, element);\n",
              "          const docLink = document.createElement('div');\n",
              "          docLink.innerHTML = docLinkHtml;\n",
              "          element.appendChild(docLink);\n",
              "        }\n",
              "      </script>\n",
              "    </div>\n",
              "  </div>\n",
              "  "
            ]
          },
          "metadata": {},
          "execution_count": 27
        }
      ],
      "source": [
        "df.describe()"
      ]
    },
    {
      "cell_type": "code",
      "execution_count": 28,
      "metadata": {
        "colab": {
          "base_uri": "https://localhost:8080/"
        },
        "id": "xOv6BBqs3gZn",
        "outputId": "7cb4db8a-a9dc-4614-add0-0a958be56250"
      },
      "outputs": [
        {
          "output_type": "execute_result",
          "data": {
            "text/plain": [
              "Y                     0\n",
              "DUREE_SOUSCRIPTION    0\n",
              "dtype: int64"
            ]
          },
          "metadata": {},
          "execution_count": 28
        }
      ],
      "source": [
        "# null values\n",
        "df.isnull().sum()"
      ]
    },
    {
      "cell_type": "code",
      "execution_count": 29,
      "metadata": {
        "colab": {
          "base_uri": "https://localhost:8080/",
          "height": 472
        },
        "id": "J8fTXPig4ASm",
        "outputId": "22cc0b6b-57d4-46ec-91d4-25b2839be4fc"
      },
      "outputs": [
        {
          "output_type": "display_data",
          "data": {
            "text/plain": [
              "<Figure size 640x480 with 1 Axes>"
            ],
            "image/png": "[encoded data removed]"
          },
          "metadata": {}
        }
      ],
      "source": [
        "sns.histplot(Y, bins=10, kde = True)\n",
        "plt.xlabel('Y')\n",
        "plt.ylabel('Frequency')\n",
        "plt.title('Distribution of Y')\n",
        "plt.show()"
      ]
    },
    {
      "cell_type": "markdown",
      "metadata": {
        "id": "gc7YTXoMkq88"
      },
      "source": [
        "#### Parametric estimator"
      ]
    },
    {
      "cell_type": "code",
      "execution_count": 30,
      "metadata": {
        "id": "qogPpQqu4B-x"
      },
      "outputs": [],
      "source": [
        "# Define the estimator function\n",
        "def CLV_pareto_IC(Y, DS):\n",
        "    D = len(Y[Y<Duree_depuis_souscription])\n",
        "    denom = 1- (np.sum(np.log(Y))/D)\n",
        "    return 1 / denom"
      ]
    },
    {
      "cell_type": "code",
      "execution_count": 31,
      "metadata": {
        "colab": {
          "base_uri": "https://localhost:8080/",
          "height": 188
        },
        "id": "AwQ8sQgv2MGg",
        "outputId": "9b350079-6347-482f-f098-4fab342b22cb"
      },
      "outputs": [
        {
          "output_type": "error",
          "ename": "TypeError",
          "evalue": "ignored",
          "traceback": [
            "\u001b[0;31m---------------------------------------------------------------------------\u001b[0m",
            "\u001b[0;31mTypeError\u001b[0m                                 Traceback (most recent call last)",
            "\u001b[0;32m<ipython-input-31-a5db4625f859>\u001b[0m in \u001b[0;36m<cell line: 1>\u001b[0;34m()\u001b[0m\n\u001b[0;32m----> 1\u001b[0;31m \u001b[0mprint\u001b[0m\u001b[0;34m(\u001b[0m\u001b[0;34m\"CLV HAT :\"\u001b[0m\u001b[0;34m,\u001b[0m\u001b[0mclv_pareto\u001b[0m\u001b[0;34m(\u001b[0m\u001b[0mY\u001b[0m\u001b[0;34m,\u001b[0m\u001b[0mDuree_depuis_souscription\u001b[0m\u001b[0;34m)\u001b[0m\u001b[0;34m)\u001b[0m\u001b[0;34m\u001b[0m\u001b[0;34m\u001b[0m\u001b[0m\n\u001b[0m\u001b[1;32m      2\u001b[0m \u001b[0mprint\u001b[0m\u001b[0;34m(\u001b[0m\u001b[0;34m\"CLV :\"\u001b[0m\u001b[0;34m,\u001b[0m \u001b[0mCLV\u001b[0m\u001b[0;34m)\u001b[0m\u001b[0;34m\u001b[0m\u001b[0;34m\u001b[0m\u001b[0m\n",
            "\u001b[0;31mTypeError\u001b[0m: 'numpy.float64' object is not callable"
          ]
        }
      ],
      "source": [
        "print(\"CLV HAT :\",clv_pareto(Y,Duree_depuis_souscription))\n",
        "print(\"CLV :\", CLV)"
      ]
    },
    {
      "cell_type": "code",
      "execution_count": null,
      "metadata": {
        "id": "HBCWt7uckpGm"
      },
      "outputs": [],
      "source": [
        "print(\"CLV HAT :\",clv_geom(Y,Duree_depuis_souscription))\n",
        "print(\"CLV :\", CLV)"
      ]
    },
    {
      "cell_type": "markdown",
      "metadata": {
        "id": "sFvGPhr57X3-"
      },
      "source": [
        "##### Confidence interval"
      ]
    },
    {
      "cell_type": "code",
      "execution_count": null,
      "metadata": {
        "id": "tiybdFCT7WzI"
      },
      "outputs": [],
      "source": [
        "# Perform bootstrap sampling to estimate confidence interval\n",
        "B = 200  # Number of bootstrap samples\n",
        "bootstrap_samples = np.random.choice(n, size=(B, n), replace=True)\n",
        "bootstrap_estimators = np.zeros(B)\n",
        "for b in range(B):\n",
        "    Y_b = Y[bootstrap_samples[b]]\n",
        "    DS_b = Duree_depuis_souscription[bootstrap_samples[b]]\n",
        "    bootstrap_estimators[b] = clv_hat(Y_b, DS_b)\n",
        "\n",
        "# Compute confidence interval\n",
        "alpha = 0.05  # Significance level\n",
        "lower = np.percentile(bootstrap_estimators, 100*(alpha/2))\n",
        "upper = np.percentile(bootstrap_estimators, 100*(1-alpha/2))\n",
        "\n",
        "print(\"CLV hat: \", clv_hat(Y, Duree_depuis_souscription))\n",
        "print(\"95% confidence interval: [\", lower, \",\", upper, \"]\")"
      ]
    },
    {
      "cell_type": "code",
      "execution_count": null,
      "metadata": {
        "id": "FFiAGoN7F-VA"
      },
      "outputs": [],
      "source": [
        "print(\"VAR(CLV hat): \", bootstrap_estimators.std()**2)"
      ]
    },
    {
      "cell_type": "code",
      "execution_count": null,
      "metadata": {
        "id": "gKVuqMfRB84m"
      },
      "outputs": [],
      "source": [
        "import seaborn as sns\n",
        "\n",
        "# Plot the bar chart\n",
        "sns.histplot(bootstrap_estimators, bins=30, kde=True)\n",
        "\n",
        "# Show the plot\n",
        "plt.show()\n",
        "\n"
      ]
    },
    {
      "cell_type": "markdown",
      "metadata": {
        "id": "rXX7mcpXj709"
      },
      "source": [
        "#### Geometric with Nan data"
      ]
    },
    {
      "cell_type": "code",
      "execution_count": null,
      "metadata": {
        "id": "yhcm0efeVP8R"
      },
      "outputs": [],
      "source": [
        "# Define the estimator function\n",
        "#\n",
        "def clv_geom(Y, DS):\n",
        "    np.where(~np.isnan(Y))[0]  \n",
        "    N = np.where(np.isnan(Y))[0]\n",
        "    return (np.sum(Y[A]) + np.sum(DS[N]))/len(A)"
      ]
    },
    {
      "cell_type": "code",
      "execution_count": null,
      "metadata": {
        "id": "sol8lUuNj10Z"
      },
      "outputs": [],
      "source": [
        "# Parameters\n",
        "n = 1000\n",
        "DureeObs = 12*4\n",
        "\n",
        "moyenne1 = 4  # Mean in the first group\n",
        "p1 = 0.2  # Probability of success in each trial, for a geometric distribution\n",
        "\n",
        "moyenne2 = 9  # Mean in the second group\n",
        "p2 = 0.6  # Probability of success in each trial, for a geometric distribution\n",
        "\n",
        "ratio_classe = 0.3  # Proportion of clients in the first group in the dataset\n",
        "\n",
        "# Expectation across both groups\n",
        "CLV = ratio_classe*moyenne1+(1-ratio_classe)*moyenne2\n",
        "\n",
        "# Data generation\n",
        "T1 = np.random.geometric(p1, n)/p1 - 1  # Subtract 1 to shift distribution\n",
        "T1 = T1 * moyenne1/np.mean(T1)  # Rescale to match mean\n",
        "\n",
        "T2 = np.random.geometric(p2, n)/p2 - 1  # Subtract 1 to shift distribution\n",
        "T2 = T2 * moyenne2/np.mean(T2)  # Rescale to match mean\n",
        "\n",
        "ber = np.random.rand(n) > ratio_classe\n",
        "\n",
        "T = (1-ber)*T1 + ber*T2\n",
        "\n",
        "Duree_depuis_souscription = DureeObs * np.random.rand(n)\n",
        "Y = T*(T<Duree_depuis_souscription)\n",
        "#Y = np.where(T<Duree_depuis_souscription, T, np.nan)\n",
        "\n",
        "# The data is now (Y, Duree_depuis_souscription)\n"
      ]
    },
    {
      "cell_type": "code",
      "execution_count": null,
      "metadata": {
        "id": "23QVnWRtj_U7"
      },
      "outputs": [],
      "source": [
        "df2 = pd.DataFrame({'Y': Y, 'DUREE_SOUSCRIPTION':Duree_depuis_souscription}, columns=['Y', 'DUREE_SOUSCRIPTION'])"
      ]
    },
    {
      "cell_type": "code",
      "execution_count": null,
      "metadata": {
        "id": "nGU8NQ7gkFEC"
      },
      "outputs": [],
      "source": [
        "df2.describe()"
      ]
    },
    {
      "cell_type": "code",
      "execution_count": null,
      "metadata": {
        "id": "HcpIh6e4kTYN"
      },
      "outputs": [],
      "source": [
        "print(\"CLV HAT :\",clv_hat(Y,Duree_depuis_souscription))\n",
        "print(\"CLV :\", CLV)"
      ]
    },
    {
      "cell_type": "code",
      "execution_count": null,
      "metadata": {
        "id": "SnUoWDqbkazU"
      },
      "outputs": [],
      "source": [
        "# Perform bootstrap sampling to estimate confidence interval\n",
        "B = 200  # Number of bootstrap samples\n",
        "bootstrap_samples = np.random.choice(n, size=(B, n), replace=True)\n",
        "bootstrap_estimators = np.zeros(B)\n",
        "for b in range(B):\n",
        "    Y_b = Y[bootstrap_samples[b]]\n",
        "    DS_b = Duree_depuis_souscription[bootstrap_samples[b]]\n",
        "    bootstrap_estimators[b] = clv_hat(Y_b, DS_b)\n",
        "\n",
        "# Compute confidence interval\n",
        "alpha = 0.05  # Significance level\n",
        "lower = np.percentile(bootstrap_estimators, 100*(alpha/2))\n",
        "upper = np.percentile(bootstrap_estimators, 100*(1-alpha/2))\n",
        "\n",
        "print(\"CLV hat: \", clv_hat(Y, Duree_depuis_souscription))\n",
        "print(\"95% confidence interval: [\", lower, \",\", upper, \"]\")"
      ]
    },
    {
      "cell_type": "code",
      "execution_count": null,
      "metadata": {
        "id": "1GQBV018kiMr"
      },
      "outputs": [],
      "source": [
        "# Plot the bar chart\n",
        "sns.histplot(bootstrap_estimators, bins=30, kde=True)\n",
        "\n",
        "# Show the plot\n",
        "plt.show()\n"
      ]
    },
    {
      "cell_type": "markdown",
      "metadata": {
        "id": "FPhEfAO3MzGx"
      },
      "source": [
        "### Quick trial of scikit learn survival analysis package"
      ]
    },
    {
      "cell_type": "markdown",
      "metadata": {
        "id": "3DmtX4cWNM4Y"
      },
      "source": [
        "[Survival analysis](https://scikit-survival.readthedocs.io/en/stable/user_guide/00-introduction.html#What-is-Survival-Analysis?)"
      ]
    },
    {
      "cell_type": "code",
      "execution_count": null,
      "metadata": {
        "id": "LZ-XajwkGuXI"
      },
      "outputs": [],
      "source": [
        "!pip install scikit-survival  "
      ]
    },
    {
      "cell_type": "code",
      "execution_count": null,
      "metadata": {
        "id": "XZAwcSIKwLhO"
      },
      "outputs": [],
      "source": [
        "#imports\n",
        "import pandas as pd\n",
        "import numpy as np\n",
        "import matplotlib.pyplot as plt"
      ]
    },
    {
      "cell_type": "code",
      "execution_count": null,
      "metadata": {
        "id": "TEozToq8GL8Q"
      },
      "outputs": [],
      "source": [
        "from sksurv.datasets import load_aids"
      ]
    },
    {
      "cell_type": "code",
      "execution_count": null,
      "metadata": {
        "id": "nejZ5SLT862B"
      },
      "outputs": [],
      "source": [
        "# read the dataset\n",
        "# ex other type of data : bank information source kaggle : https://www.kaggle.com/datasets/sakshigoyal7/credit-card-customers?resource=download\n",
        "\n",
        "\"\"\"\n",
        "AIDS Clinical Trial dataset\n",
        "The dataset has 1,151 samples and 11 features. The dataset has 2 endpoints:\n",
        ".AIDS defining event, which occurred for 96 patients (8.3%)\n",
        ".Death, which occurred for 26 patients (2.3%)\n",
        "\"\"\"\n",
        "\n",
        "# data_x : The measurements for each patient.\n",
        "data_x, data_y = load_aids()"
      ]
    },
    {
      "cell_type": "code",
      "execution_count": null,
      "metadata": {
        "id": "bmyi5jwcHj-S"
      },
      "outputs": [],
      "source": [
        "data_x.head(3)"
      ]
    },
    {
      "cell_type": "markdown",
      "metadata": {
        "id": "SWfQ3wXTHKIj"
      },
      "source": [
        "e.tdm: boolean indicating whether the endpoint has been reached or the event time is right censored.\n",
        "\n",
        "t.tdm: time to distant metastasis (days)"
      ]
    },
    {
      "cell_type": "code",
      "execution_count": null,
      "metadata": {
        "id": "7RRSKU4gGqrr"
      },
      "outputs": [],
      "source": [
        "pd.DataFrame.from_records(data_y[[11, 5, 32, 13, 23]], index=range(1, 6))"
      ]
    },
    {
      "cell_type": "code",
      "execution_count": null,
      "metadata": {
        "id": "Rvy8rT2cHE3Q"
      },
      "outputs": [],
      "source": [
        "%matplotlib inline\n",
        "from sksurv.nonparametric import kaplan_meier_estimator\n",
        "\n",
        "time, survival_prob = kaplan_meier_estimator(data_y[\"censor\"], data_y[\"time\"])\n",
        "plt.step(time, survival_prob, where=\"post\")\n",
        "plt.ylabel(\"probability of survival $\\hat{S}(t)$\")\n",
        "plt.xlabel(\"time $t$\")"
      ]
    },
    {
      "cell_type": "code",
      "execution_count": null,
      "metadata": {
        "id": "oHKBIDnkU4mp"
      },
      "outputs": [],
      "source": [
        "survival_times = np.array([5, 3, 2, 4, 7, 6, 5, 1, 8, 4, 3, 5, 6])\n",
        "event_indicators = np.array([1, 1, 0, 1, 1, 1, 1, 0, 1, 1, 0, 1, 1])\n",
        "event_indicators_bool = [x==1 for x in event_indicators]"
      ]
    },
    {
      "cell_type": "code",
      "execution_count": null,
      "metadata": {
        "id": "YOKtnn3Lx2NR"
      },
      "outputs": [],
      "source": [
        "t , s = kaplan_meier_estimator(event_indicators_bool, survival_times )\n",
        "plt.plot(t, s)\n",
        "plt.ylabel(\"probability of survival $\\hat{S}(t)$\")\n",
        "plt.xlabel(\"time $t$\")"
      ]
    },
    {
      "cell_type": "markdown",
      "metadata": {
        "id": "1Jvxq-yDe1SO"
      },
      "source": [
        "Survival function properties:\n",
        "$$\\hat S(t) = \\prod_{t_i \\leq t} \\frac{n_i - d_i}{n_i} = \\prod_{t_i \\leq t} 1 - \\frac{d_i}{n_i} =\\prod_{t_i \\leq t} 1 - \\frac{\\text{number of events that happened at time }t_i }{\\text{number of individuals known to have survived up to time }t_i } = \\prod_{t_i \\leq t} p_{t_i} $$\n",
        "\n",
        "Another form:\n",
        "$$\\hat S(t) = \\hat S(t-1)p_t$$\n"
      ]
    },
    {
      "cell_type": "code",
      "execution_count": null,
      "metadata": {
        "id": "yh4KKbtDyWWy"
      },
      "outputs": [],
      "source": [
        "def kaplan_meier_estm(event_indicators , survival_times ):\n",
        "    \"\"\"\n",
        "    Fits the Kaplan-Meier survival curve to the input event indicators and survival times.\n",
        "\n",
        "    Parameters:\n",
        "    survival_times (np array): time from study inclusion to event (death, relapse, etc.)\n",
        "    event_indicators (binary np array): the event of interest that occurs during the follow-up time (e.g., mortality, relapse, etc.)\n",
        "\n",
        "    Returns:\n",
        "    s (np array): estimated survival probabilities at each time point\n",
        "    t (np array): unique times at which the estimated survival probabilities change.\n",
        "    \"\"\"\n",
        "\n",
        "    # length of dataset\n",
        "    n = len(survival_times)\n",
        "\n",
        "    # compute unique survival times\n",
        "    t = np.unique(survival_times)\n",
        "    m = len(t)\n",
        "\n",
        "    # array that store the survival probabilities\n",
        "    s = np.ones(m)\n",
        "\n",
        "    # array that store the number of events\n",
        "    d = np.zeros(m)\n",
        "\n",
        "    for i in range(m):\n",
        "        # Count the number of events that occur (event indicator = 1) at time i\n",
        "        d[i] = np.sum((survival_times == t[i]) & event_indicators)\n",
        "\n",
        "        # compute the survival probability at time i\n",
        "        n_i = n - sum(d[:i]) # - d\n",
        "        s[i] = s[max(0, i-1)] * (1 - d[i] / n_i)\n",
        "    return t, s\n"
      ]
    },
    {
      "cell_type": "code",
      "execution_count": null,
      "metadata": {
        "id": "xSLoDkLB1cjo"
      },
      "outputs": [],
      "source": [
        "# Example usage\n",
        "\n",
        "t_new, s_new = kaplan_meier_estm(event_indicators , survival_times)\n",
        "print(\"Difference with KME of sklearn t:\",t-t_new)\n",
        "print(\"Difference with KME of sklearn s:\",s-s_new)\n",
        "plt.plot(t_new, s_new)\n",
        "plt.xlabel(\"Time\")\n",
        "plt.ylabel(\"Survival probability\")\n",
        "plt.title(\"Kaplan-Meier Survival Curve\")\n",
        "plt.show()"
      ]
    },
    {
      "cell_type": "code",
      "execution_count": null,
      "metadata": {
        "id": "2nGIg3ZmUJjR"
      },
      "outputs": [],
      "source": [
        "#problem : difference of 0.2 on the probabilities ... choice of the formula? \n",
        "#next: fonction fit - selon un clustering ? predict - métriques? ??"
      ]
    },
    {
      "cell_type": "markdown",
      "metadata": {
        "id": "ZmGkCe1bztpk"
      },
      "source": [
        "### Dataset"
      ]
    },
    {
      "cell_type": "markdown",
      "metadata": {
        "id": "R2jUVsP-z8y9"
      },
      "source": [
        "Since there's not access to the real data, the first step to do is to find/construct a dataset where the CLV can measurable/predictable. One can need to have some features such as: \n",
        "* Personal information : occupation, salary, gender, age, marital status, Geolocalisation (Country/town ...etc)\n",
        "* Date of entry to company/study\n",
        "* Date of leaving (can be empty if the element didn't quit yet)\n",
        "* Information related to the person as a client : number & types of products , communication email/call ..."
      ]
    }
  ],
  "metadata": {
    "colab": {
      "collapsed_sections": [
        "rXX7mcpXj709"
      ],
      "provenance": []
    },
    "kernelspec": {
      "display_name": "Python 3 (ipykernel)",
      "language": "python",
      "name": "python3"
    },
    "language_info": {
      "codemirror_mode": {
        "name": "ipython",
        "version": 3
      },
      "file_extension": ".py",
      "mimetype": "text/x-python",
      "name": "python",
      "nbconvert_exporter": "python",
      "pygments_lexer": "ipython3",
      "version": "3.9.12"
    }
  },
  "nbformat": 4,
  "nbformat_minor": 0
}