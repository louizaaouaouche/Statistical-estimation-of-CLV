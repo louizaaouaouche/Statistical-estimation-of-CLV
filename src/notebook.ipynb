{
 "cells": [
  {
   "cell_type": "markdown",
   "metadata": {},
   "source": [
    "# Customer Lifetime Value (CLV) "
   ]
  },
  {
   "cell_type": "markdown",
   "metadata": {},
   "source": [
    "**Authors :**\n",
    "* Louiza AOUAOUCHE\n",
    "* Salim ABDOU DAOURA"
   ]
  },
  {
   "cell_type": "markdown",
   "metadata": {
    "id": "zagtCvB8VP8G"
   },
   "source": [
    "**DESCRIPTION:**\n",
    "\n",
    "The project consists in studying basic estimators so as to predict the potential duration that a customer could live in a company before churning. We define it as its lifetime value. For that, we use two type of data :\n",
    "* Not censored data : means that at the moment of the measure, all the durations are known\n",
    "* Censored data (more realistic): means that, for some customers, the duration is unknown since they are still in the company. (Their lifetimes will be equal to their seniority values in the company - ancienneté in french)\n",
    "\n",
    "We use estimators based on three distributions because of their similarity with the survival function:\n",
    "* **[Geometric distribution](./geometric.ipynb)**\n",
    "* **[Exponential distribution](./exponential.ipynb)**\n",
    "* **[Pareto distribution](./pareto.ipynb)**"
   ]
  },
  {
   "cell_type": "markdown",
   "metadata": {},
   "source": [
    "Once we studied the consistency of our estimators on randomly generated data, we apply the result on real data. For that we use a dataset from the package `sksurv.datasets` called `The Veterans’ Administration Lung Cancer Trial` which is a randomized trial of two treatment regimens for lung cancer. The data set (Kalbfleisch J. and Prentice R, (1980) The Statistical Analysis of Failure Time Data. New York: Wiley) consists of 137 patients and 8 variables, which are described below:\n",
    "\n",
    "* **Treatment**: denotes the type of lung cancer treatment; standard and test drug.\n",
    "* **Celltype**: denotes the type of cell involved; squamous, small cell, adeno, large.\n",
    "* **Karnofsky_score**: is the Karnofsky score.\n",
    "* **Diag**: is the time since diagnosis in months.\n",
    "* **Age**: is the age in years.\n",
    "* **Prior_Therapy**: denotes any prior therapy; none or yes.\n",
    "* <span style=\"color:blue\">**Status**</span>: denotes the status of the patient as dead or alive; dead or alive.\n",
    "* <span style=\"color:blue\">**Survival_in_days**</span>: is the survival time in days since the treatment.\n",
    "([source](https://scikit-survival.readthedocs.io/en/stable/user_guide/00-introduction.html#The-Veterans%E2%80%99-Administration-Lung-Cancer-Trial))\n",
    "\n",
    "Our interest is to study how our estimators act on this datasets. For this we only use `Survival_in_days` and `Status` features."
   ]
  },
  {
   "cell_type": "markdown",
   "metadata": {},
   "source": [
    "# Real data"
   ]
  },
  {
   "cell_type": "code",
   "execution_count": 32,
   "metadata": {
    "id": "PFBoUFoWaOvt"
   },
   "outputs": [],
   "source": [
    "# imports\n",
    "import numpy as np\n",
    "import matplotlib.pyplot as plt\n",
    "import seaborn as sns\n",
    "import functions as f\n",
    "from sksurv.datasets import load_veterans_lung_cancer"
   ]
  },
  {
   "cell_type": "code",
   "execution_count": 3,
   "metadata": {},
   "outputs": [],
   "source": [
    "# loading the dataset\n",
    "data_x, data_y = load_veterans_lung_cancer()\n",
    "\n",
    "status = data_y['Status']\n",
    "\n",
    "Y = data_y['Survival_in_days']\n"
   ]
  },
  {
   "cell_type": "code",
   "execution_count": 8,
   "metadata": {},
   "outputs": [
    {
     "data": {
      "image/png": "[encoded data removed]",
      "text/plain": [
       "<Figure size 432x288 with 1 Axes>"
      ]
     },
     "metadata": {
      "needs_background": "light"
     },
     "output_type": "display_data"
    }
   ],
   "source": [
    "# plotting the distribution of durations\n",
    "sns.histplot(Y, color='blue', kde=True).set(title=\"Veterans lung cancer - survival durations\")\n",
    "plt.xlabel(\"Durations (days)\")\n",
    "plt.show()\n"
   ]
  },
  {
   "cell_type": "code",
   "execution_count": 9,
   "metadata": {},
   "outputs": [],
   "source": [
    "# computing \n",
    "clv_geom_c_r = f.geom_c_clv_estimator2(Y, status)\n",
    "clv_exp_c_r = f.exp_c_clv_estimator2(Y , status)\n",
    "clv_pareto_c_r = f.pareto_c_clv_estimator2(Y, status)"
   ]
  },
  {
   "cell_type": "code",
   "execution_count": 25,
   "metadata": {},
   "outputs": [
    {
     "name": "stdout",
     "output_type": "stream",
     "text": [
      "Estimator Comparison:\n",
      "Geometric CLV Estimator: 130.1796875\n",
      "Exponential CLV Estimator: 130.1796875\n",
      "Pareto CLV Estimator: -0.29575575369714924\n"
     ]
    }
   ],
   "source": [
    "# Compare the estimators\n",
    "print(\"Estimator Comparison:\")\n",
    "print(\"Geometric CLV Estimator:\", clv_geom_c_r)\n",
    "print(\"Exponential CLV Estimator:\", clv_exp_c_r)\n",
    "print(\"Pareto CLV Estimator:\", clv_pareto_c_r)"
   ]
  }
 ],
 "metadata": {
  "colab": {
   "collapsed_sections": [
    "FcV9izFdaHg-",
    "poA6eBduVP8J",
    "HF3IDPKSAkSS",
    "5pjgZ31LVP8L"
   ],
   "provenance": []
  },
  "kernelspec": {
   "display_name": "Python 3 (ipykernel)",
   "language": "python",
   "name": "python3"
  },
  "language_info": {
   "codemirror_mode": {
    "name": "ipython",
    "version": 3
   },
   "file_extension": ".py",
   "mimetype": "text/x-python",
   "name": "python",
   "nbconvert_exporter": "python",
   "pygments_lexer": "ipython3",
   "version": "3.9.12"
  }
 },
 "nbformat": 4,
 "nbformat_minor": 1
}
