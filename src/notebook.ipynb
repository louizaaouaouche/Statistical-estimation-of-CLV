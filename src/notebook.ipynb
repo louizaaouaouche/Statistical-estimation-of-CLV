{
 "cells": [
  {
   "cell_type": "code",
   "execution_count": 115,
   "metadata": {
    "id": "PFBoUFoWaOvt"
   },
   "outputs": [],
   "source": [
    "# imports\n",
    "import numpy as np\n",
    "import pandas as pd\n",
    "import matplotlib.pyplot as plt\n",
    "import seaborn as sns\n",
    "import random"
   ]
  },
  {
   "cell_type": "markdown",
   "metadata": {
    "id": "zagtCvB8VP8G"
   },
   "source": [
    "The first part of the project consists in studying basic estimators supposing that the data follows a given distribution such as the exponential one."
   ]
  },
  {
   "cell_type": "code",
   "execution_count": 116,
   "metadata": {},
   "outputs": [],
   "source": [
    "#GLOBAL CONSTANTS\n",
    "mean = 10 \n",
    "size= 10000 # size of each sample\n",
    "n = 10000 # number of samples\n",
    "DureeObs = 12*2 # duration of observation"
   ]
  },
  {
   "cell_type": "markdown",
   "metadata": {
    "id": "ti0XAl_MVP8F"
   },
   "source": [
    "# Helpers"
   ]
  },
  {
   "cell_type": "markdown",
   "metadata": {
    "id": "CwJypTHAVP8H"
   },
   "source": [
    "**Generators**"
   ]
  },
  {
   "cell_type": "code",
   "execution_count": 117,
   "metadata": {
    "id": "KqJp6IuaaGcp"
   },
   "outputs": [],
   "source": [
    "# EXPONENTIAL GENERATOR - without censored data \n",
    "def generate_exponential_perfect(mean, size):\n",
    "    \"\"\"\n",
    "    Generates random numbers following an exponential distribution\n",
    "\n",
    "    Args:\n",
    "        mean (float): The mean of the distribution.\n",
    "        size (int): The number of random numbers to generate.\n",
    "\n",
    "    Returns:\n",
    "        An array of random numbers following an exponential distribution\n",
    "        with the given mean.\n",
    "    \"\"\"\n",
    "    return np.random.exponential(scale=mean, size=size)"
   ]
  },
  {
   "cell_type": "code",
   "execution_count": 118,
   "metadata": {},
   "outputs": [],
   "source": [
    "def generate_exponential(mean, size , obs_duration):\n",
    "    \"\"\"\n",
    "    Generates random numbers following an exponential distribution with some censored data\n",
    "\n",
    "    Args:\n",
    "        mean (float): The mean of the distribution.\n",
    "        size (int): The number of random numbers to generate.\n",
    "        obs_duration (int) : Duration of observation\n",
    "\n",
    "    Returns:\n",
    "        An array of random numbers following an exponential distribution\n",
    "        with the given mean.\n",
    "    \"\"\"\n",
    "    T = np.random.exponential(scale=mean, size=size)\n",
    "    ancient = obs_duration * np.random.rand(size) # uniform distribution\n",
    "    Y = T*(T<=ancient) +  ancient*(T>ancient)\n",
    "    return Y , ancient"
   ]
  },
  {
   "cell_type": "markdown",
   "metadata": {},
   "source": [
    "**Confidence interval**"
   ]
  },
  {
   "cell_type": "code",
   "execution_count": 119,
   "metadata": {
    "id": "LDPmO2EICS1F"
   },
   "outputs": [],
   "source": [
    "def confidence_lvl(lower_bound, upper_bound, estimators):\n",
    "    \"\"\"\n",
    "    Calculates the percentage of estimates falling within a given confidence interval.\n",
    "\n",
    "    Parameters:\n",
    "    lower_bound (float): The lower limit of the confidence interval.\n",
    "    upper_bound (float): The upper limit of the confidence interval.\n",
    "    estimators (list[float]): A list of estimates.\n",
    "\n",
    "    Returns:\n",
    "    float: The percentage of estimates falling within the confidence interval.\n",
    "    \"\"\"\n",
    "    in_IC=0\n",
    "    for x in estimators : \n",
    "        if (x<upper_bound and x>lower_bound) : in_IC +=1\n",
    "    return (in_IC / len(estimators))*100"
   ]
  },
  {
   "cell_type": "code",
   "execution_count": 120,
   "metadata": {},
   "outputs": [],
   "source": [
    "def CI_plot(clv_values, lower, upper):\n",
    "    \"\"\"\n",
    "    Plots confidence intervals \n",
    "    \n",
    "    Args:\n",
    "        clv_values : clv values related to the confidence intervals\n",
    "        lower : The lower limit of the confidence interval.\n",
    "        upper : The upper limit of the confidence interval.\n",
    "    \"\"\"\n",
    "    \n",
    "    # Define x-axis values\n",
    "    x = range(len(clv_values))\n",
    "\n",
    "    # Set figure size\n",
    "    fig, ax = plt.subplots(figsize=(20, 6))\n",
    "\n",
    "    # Plot the data\n",
    "    ax.plot(x, clv_values, label='Computed Value', color='blue')\n",
    "    ax.fill_between(x, lower, upper, alpha=0.2, label='95% CI', color='gray')\n",
    "\n",
    "    # Add labels and legend\n",
    "    ax.set_xlabel('Sample')\n",
    "    ax.set_ylabel('CLV')\n",
    "    ax.set_title('CLV Computation Results')\n",
    "    ax.legend(loc='best')\n",
    "\n",
    "    # Add gridlines\n",
    "    ax.grid(True, alpha=0.3)\n",
    "\n",
    "    # Show the plot\n",
    "    plt.show()"
   ]
  },
  {
   "cell_type": "code",
   "execution_count": 121,
   "metadata": {
    "id": "BE5eq-5i1UcU"
   },
   "outputs": [],
   "source": [
    "def bootstrap(data1, data2): #\n",
    "    \"\"\"\n",
    "    Performs bootstrap resampling on two datasets by randomly selecting data points with replacement.\n",
    "\n",
    "    Parameters:\n",
    "    data1 (list): The first dataset to be resampled.\n",
    "    data2 (list): The second dataset to be resampled.\n",
    "\n",
    "    Returns:\n",
    "    tuple: A tuple of two lists, containing the resampled data from each dataset.\n",
    "    \"\"\"\n",
    "    # Initialize two empty lists to hold the resampled data\n",
    "    sample1 = []\n",
    "    sample2 = []\n",
    "\n",
    "    # Loop through each data point in the datasets\n",
    "    for i in range(len(data1)):\n",
    "        # Generate a random integer between 0 and the length of the dataset - 1\n",
    "        rand_int = random.randint(0, len(data1) - 1)\n",
    "        # Add the randomly selected data points to the resampled datasets\n",
    "        sample1.append(data1[rand_int])\n",
    "        sample2.append(data2[rand_int])\n",
    "\n",
    "    # Return the resampled datasets as a tuple\n",
    "    return sample1, sample2"
   ]
  },
  {
   "cell_type": "code",
   "execution_count": 122,
   "metadata": {},
   "outputs": [],
   "source": [
    "def CI_multiplot(clv, lower , upper):\n",
    "\n",
    "    # plot confidence interval\n",
    "    CI_plot(clv, lower, upper)\n",
    "\n",
    "    # plot of the distribution\n",
    "    sns.histplot(lower, kde = True).set_title(\"Distribution of IC\"),sns.histplot(upper, kde = True).set_title(\"Distribution of IC\")\n",
    "\n",
    "    # print confidence level\n",
    "    print(f\"CONFIDENCE LEVEL: {confidence_lvl(np.mean(lower), np.mean(upper), clv):.2f}%\")"
   ]
  },
  {
   "cell_type": "markdown",
   "metadata": {},
   "source": [
    "##### other functions"
   ]
  },
  {
   "cell_type": "code",
   "execution_count": 123,
   "metadata": {},
   "outputs": [],
   "source": [
    "def print_conv_plot_distribution(size, n ,mean, clv):\n",
    "    \n",
    "    # clv_avg = clv_hat that averages all the estimated values of clv\n",
    "    clv_avg = np.mean(clv)\n",
    "    \n",
    "    # standard deviation of clv\n",
    "    clv_std = np.std(clv)\n",
    "    \n",
    "    # difference between clv predicted and the actual value\n",
    "    clv_errors = np.array(clv) - mean\n",
    "    \n",
    "    # print convergence values\n",
    "    print(\"CONVERGENCE :\\n \\t size of each dataset =%d \\n \\t number of datasets =%d \\n \\t CLV thoery = %d \\n \\t CLV real = %f  \\n \\t Standard deviation CLV= %f\" % (size, n,clv_avg ,mean,clv_std))\n",
    "    \n",
    "    # plot distribution of errors\n",
    "    sns.histplot(clv_errors, kde = True).set_title(\"Distribution of CLV errors for all samples\")"
   ]
  },
  {
   "cell_type": "markdown",
   "metadata": {
    "id": "poA6eBduVP8J"
   },
   "source": [
    "# Geometric estimator (not censored)"
   ]
  },
  {
   "cell_type": "markdown",
   "metadata": {},
   "source": [
    "##### Functions "
   ]
  },
  {
   "cell_type": "code",
   "execution_count": 124,
   "metadata": {
    "id": "cug7sl0PVP8J"
   },
   "outputs": [],
   "source": [
    "def geom_clv_estimator(T):\n",
    "    \"\"\"\n",
    "    Function to calculate the geometric clv estimator\n",
    "    \n",
    "    Parameters:\n",
    "    T (list or array): list or array of numerical values\n",
    "    \n",
    "    Returns:\n",
    "    float: the geometric clv estimator of the values in T\n",
    "    \"\"\"\n",
    "    return np.sum(T)/len(T)"
   ]
  },
  {
   "cell_type": "code",
   "execution_count": 125,
   "metadata": {
    "id": "MLQed85Q9ORY"
   },
   "outputs": [],
   "source": [
    "def CI_geom_nc_clv(a,Y):\n",
    "    len_Y = len(Y)\n",
    "    lower = np.sum(Y)/(len_Y + a * np.sqrt(len_Y))\n",
    "    upper = np.sum(Y)/(len_Y + - a * np.sqrt(len_Y))\n",
    "    \n",
    "    return lower, upper"
   ]
  },
  {
   "cell_type": "markdown",
   "metadata": {},
   "source": [
    "#####  test"
   ]
  },
  {
   "cell_type": "code",
   "execution_count": 126,
   "metadata": {
    "id": "Mq0CSn1nVP8J"
   },
   "outputs": [],
   "source": [
    "clv_geom = []\n",
    "Y_n = []\n",
    "\n",
    "for i in range(n):\n",
    "    Y_i = generate_exponential_perfect(mean, size)\n",
    "    Y_n.append(Y_i)\n",
    "    clv_geom.append(geom_clv_estimator(Y_i))"
   ]
  },
  {
   "cell_type": "code",
   "execution_count": 127,
   "metadata": {
    "colab": {
     "base_uri": "https://localhost:8080/",
     "height": 469
    },
    "id": "gU8c7PLqVP8K",
    "outputId": "3dc1fd13-a36d-435d-bcc8-184005067478"
   },
   "outputs": [
    {
     "name": "stdout",
     "output_type": "stream",
     "text": [
      "CONVERGENCE :\n",
      " \t size of each dataset =10000 \n",
      " \t number of datasets =10000 \n",
      " \t CLV thoery = 9 \n",
      " \t CLV real = 10.000000  \n",
      " \t Standard deviation CLV= 0.098640\n"
     ]
    },
    {
     "data": {
      "image/png": "[encoded data removed]",
      "text/plain": [
       "<Figure size 432x288 with 1 Axes>"
      ]
     },
     "metadata": {
      "needs_background": "light"
     },
     "output_type": "display_data"
    }
   ],
   "source": [
    "print_conv_plot_distribution(size, n ,mean, clv_geom)"
   ]
  },
  {
   "cell_type": "markdown",
   "metadata": {
    "id": "uKnuN_gQVP8K"
   },
   "source": [
    "As expected the error is normally distributed. For all the samples $Y_i$ for $i\\in \\{1,...,n\\}$ the prediction error $(prediction_i - expectation_i)$ folllows a gaussian distribution with mean 0.\n"
   ]
  },
  {
   "cell_type": "code",
   "execution_count": 128,
   "metadata": {
    "id": "Cg_Djm_p9RMu"
   },
   "outputs": [],
   "source": [
    "lower_geom_nc = []\n",
    "upper_geom_nc = []\n",
    "\n",
    "for i in range(n):\n",
    "    ci = CI_geom_nc_clv(1.96, Y_n[i])\n",
    "    lower_geom_nc.append(ci[0])\n",
    "    upper_geom_nc.append(ci[1])"
   ]
  },
  {
   "cell_type": "code",
   "execution_count": 129,
   "metadata": {
    "colab": {
     "base_uri": "https://localhost:8080/",
     "height": 406
    },
    "id": "tzwCdL5u9XA5",
    "outputId": "4a60392e-b77f-40c6-8469-4173a70dfe77",
    "scrolled": false
   },
   "outputs": [
    {
     "data": {
      "image/png": "[encoded data removed]",
      "text/plain": [
       "<Figure size 1440x432 with 1 Axes>"
      ]
     },
     "metadata": {
      "needs_background": "light"
     },
     "output_type": "display_data"
    },
    {
     "name": "stdout",
     "output_type": "stream",
     "text": [
      "CONFIDENCE LEVEL: 95.28%\n"
     ]
    },
    {
     "data": {
      "image/png": "[encoded data removed]",
      "text/plain": [
       "<Figure size 432x288 with 1 Axes>"
      ]
     },
     "metadata": {
      "needs_background": "light"
     },
     "output_type": "display_data"
    }
   ],
   "source": [
    "# plot confidence interval\n",
    "CI_multiplot(clv_geom, lower_geom_nc, upper_geom_nc)"
   ]
  },
  {
   "cell_type": "markdown",
   "metadata": {},
   "source": [
    "## Geometric (censored)"
   ]
  },
  {
   "cell_type": "markdown",
   "metadata": {},
   "source": [
    "##### Functions"
   ]
  },
  {
   "cell_type": "code",
   "execution_count": 130,
   "metadata": {},
   "outputs": [],
   "source": [
    "def geom_c_clv_estimator(Y, ancient):\n",
    "    A = np.where(Y!=ancient)[0]  \n",
    "    N = np.where(Y==ancient)[0]\n",
    "    return (np.sum(Y[A]) + np.sum(ancient[N]))/len(A)"
   ]
  },
  {
   "cell_type": "markdown",
   "metadata": {},
   "source": [
    "##### tests"
   ]
  },
  {
   "cell_type": "code",
   "execution_count": null,
   "metadata": {},
   "outputs": [],
   "source": [
    "clv_geom_c = []\n",
    "\n",
    "for i in range(n):\n",
    "    Y_new, ancient_new = generate_exponential(mean, size,DureeObs )\n",
    "    clv_geom_c.append(geom_c_clv_estimator(Y_new, ancient_new))"
   ]
  },
  {
   "cell_type": "code",
   "execution_count": null,
   "metadata": {},
   "outputs": [],
   "source": [
    "print_conv_plot_distribution(size, n ,mean, clv_geom_c)"
   ]
  },
  {
   "cell_type": "markdown",
   "metadata": {
    "id": "HF3IDPKSAkSS"
   },
   "source": [
    "## Exponential (not censored)"
   ]
  },
  {
   "cell_type": "code",
   "execution_count": null,
   "metadata": {
    "scrolled": true
   },
   "outputs": [],
   "source": [
    "Y, ancient = generate_exponential(mean, size, DureeObs)\n",
    "sns.histplot(Y, kde = True)"
   ]
  },
  {
   "cell_type": "markdown",
   "metadata": {
    "id": "yhLNVOsCVP8M"
   },
   "source": [
    "## Exponential (censored)"
   ]
  },
  {
   "cell_type": "markdown",
   "metadata": {},
   "source": [
    "##### Functions"
   ]
  },
  {
   "cell_type": "code",
   "execution_count": null,
   "metadata": {
    "id": "uwPf6zDCVP8M"
   },
   "outputs": [],
   "source": [
    "def exp_clv_estimator(Y , ancient):\n",
    "    A = np.where(Y!=ancient)[0] # available data : T_i < a_i\n",
    "    return np.sum(Y) /len(A)"
   ]
  },
  {
   "cell_type": "code",
   "execution_count": null,
   "metadata": {
    "id": "Nhrcn0FZv6il"
   },
   "outputs": [],
   "source": [
    "def CI_exp_c_clv(a,Y,ancient):\n",
    "    len_A = len(np.where(Y!=ancient)[0])\n",
    "    lower = np.sum(Y)/(len_A + a * np.sqrt(len_A))\n",
    "    upper = np.sum(Y)/(len_A + - a * np.sqrt(len_A))\n",
    "    \n",
    "    return lower, upper"
   ]
  },
  {
   "cell_type": "markdown",
   "metadata": {},
   "source": [
    "##### Tests"
   ]
  },
  {
   "cell_type": "code",
   "execution_count": null,
   "metadata": {
    "id": "4nhp8pwcVP8N"
   },
   "outputs": [],
   "source": [
    "clv_exp_c = []\n",
    "lower_exp_c = []\n",
    "upper_exp_c = []\n",
    "for i in range(n):\n",
    "    Y_new, ancient_new = generate_exponential(mean, size,DureeObs )\n",
    "    clv_exp_c.append(exp_clv_estimator(Y_new, ancient_new))\n",
    "    lower_exp_c.append(CI_exp_c_clv(1.96, Y_new, ancient_new)[0])\n",
    "    upper_exp_c.append(CI_exp_c_clv(1.96, Y_new, ancient_new)[1])\n"
   ]
  },
  {
   "cell_type": "code",
   "execution_count": null,
   "metadata": {
    "colab": {
     "base_uri": "https://localhost:8080/",
     "height": 469
    },
    "id": "lFwOHfpBVP8N",
    "outputId": "7889f727-bf07-48a3-8194-5c3d6f5ff870",
    "scrolled": true
   },
   "outputs": [],
   "source": [
    "print_conv_plot_distribution(size, n ,mean, clv_exp_c)"
   ]
  },
  {
   "cell_type": "markdown",
   "metadata": {
    "id": "DIwj1tPkkzXg"
   },
   "source": [
    "The error is still normally distributed and the standart deviation is higher. \n",
    "(As censored data are normally distributed, they have no impact on the error distribution. Censored data increase the std of the error)"
   ]
  },
  {
   "cell_type": "code",
   "execution_count": null,
   "metadata": {
    "colab": {
     "base_uri": "https://localhost:8080/",
     "height": 406
    },
    "id": "Pwa4rf5IBsTU",
    "outputId": "f6d789ab-3edb-4582-ac07-1e397257297c",
    "scrolled": true
   },
   "outputs": [],
   "source": [
    "# plot confidence interval\n",
    "CI_multiplot(clv_exp, lower_exp_c, upper_exp_c)"
   ]
  },
  {
   "cell_type": "markdown",
   "metadata": {
    "id": "41ggHTgCxX1Y"
   },
   "source": [
    "The estimator is 95% in the IC interval. That confirms the theory."
   ]
  },
  {
   "cell_type": "markdown",
   "metadata": {},
   "source": [
    "###### bootstrap"
   ]
  },
  {
   "cell_type": "code",
   "execution_count": null,
   "metadata": {
    "colab": {
     "base_uri": "https://localhost:8080/",
     "height": 447
    },
    "id": "bX5w2NqN7B7n",
    "outputId": "bb7c1c3a-479a-4597-ccfb-84a440163463"
   },
   "outputs": [],
   "source": [
    "# generate data with an exponential distribution\n",
    "Y, ancient = generate_exponential(mean, size, DureeObs)\n",
    "\n",
    "# plot the data\n",
    "sns.histplot(Y, kde = True)"
   ]
  },
  {
   "cell_type": "code",
   "execution_count": null,
   "metadata": {
    "colab": {
     "background_save": true
    },
    "id": "DzkMvEJI2Fzv"
   },
   "outputs": [],
   "source": [
    "alpha=1.96\n",
    "clv_exp = []\n",
    "lower_exp_cb = []\n",
    "upper_exp_cb = []\n",
    "for i in range(n):\n",
    "    Y_new, ancient_new = bootstrap(Y, ancient)\n",
    "    clv_exp.append(exp_clv_estimator(Y_new, ancient_new))\n",
    "    lower_exp_cb.append(CI_exp_c_clv(alpha, Y_new, ancient_new)[0])\n",
    "    upper_exp_cb.append(CI_exp_c_clv(alpha, Y_new, ancient_new)[1])\n"
   ]
  },
  {
   "cell_type": "code",
   "execution_count": null,
   "metadata": {
    "colab": {
     "background_save": true
    },
    "id": "dh4lwhOz2Kvv",
    "outputId": "65c858de-4732-4055-924e-cb48f69b6284"
   },
   "outputs": [],
   "source": [
    "print_conv_plot_distribution(size, n ,mean, clv_exp)"
   ]
  },
  {
   "cell_type": "code",
   "execution_count": 114,
   "metadata": {
    "colab": {
     "base_uri": "https://localhost:8080/"
    },
    "id": "SLJv4xke2uGI",
    "outputId": "318d09ea-9c0d-4a49-9185-05a9ee939a41"
   },
   "outputs": [
    {
     "data": {
      "text/plain": [
       "0.0"
      ]
     },
     "execution_count": 114,
     "metadata": {},
     "output_type": "execute_result"
    }
   ],
   "source": [
    "confidence_lvl(np.mean(lower_exp_cb), np.mean(upper_exp_cb), clv_exp)"
   ]
  },
  {
   "cell_type": "markdown",
   "metadata": {},
   "source": [
    "# HAAAALTE ! DOIIIIIIIIIIIIIIIIIIIIIIIINE"
   ]
  },
  {
   "cell_type": "code",
   "execution_count": null,
   "metadata": {},
   "outputs": [],
   "source": []
  },
  {
   "cell_type": "code",
   "execution_count": null,
   "metadata": {},
   "outputs": [],
   "source": []
  },
  {
   "cell_type": "code",
   "execution_count": null,
   "metadata": {},
   "outputs": [],
   "source": []
  },
  {
   "cell_type": "code",
   "execution_count": null,
   "metadata": {},
   "outputs": [],
   "source": []
  },
  {
   "cell_type": "code",
   "execution_count": null,
   "metadata": {},
   "outputs": [],
   "source": []
  },
  {
   "cell_type": "code",
   "execution_count": null,
   "metadata": {},
   "outputs": [],
   "source": []
  },
  {
   "cell_type": "code",
   "execution_count": null,
   "metadata": {},
   "outputs": [],
   "source": []
  },
  {
   "cell_type": "code",
   "execution_count": null,
   "metadata": {},
   "outputs": [],
   "source": []
  },
  {
   "cell_type": "code",
   "execution_count": null,
   "metadata": {},
   "outputs": [],
   "source": []
  },
  {
   "cell_type": "markdown",
   "metadata": {
    "id": "Ox1oAdHaVP8O"
   },
   "source": [
    "##### PARETO "
   ]
  },
  {
   "cell_type": "code",
   "execution_count": null,
   "metadata": {
    "id": "hjIYGJrBVP8O"
   },
   "outputs": [],
   "source": [
    "def generate_pareto(scale, size,obs_duration,shape  ):\n",
    "    T = np.random.pareto(a=shape, size=size) * scale  # shape parameter (a) set to 1.5\n",
    "    ancient = obs_duration* np.random.rand(size)  # uniform distribution\n",
    "    Y = T * (T <= ancient) + ancient * (T > ancient)\n",
    "    return Y, ancient"
   ]
  },
  {
   "cell_type": "code",
   "execution_count": null,
   "metadata": {
    "id": "lQWe-Mh1VP8O"
   },
   "outputs": [],
   "source": [
    "scale = 1\n",
    "size= 1000\n",
    "DureeObs = 12*2\n",
    "shape = 1.5\n",
    "\n",
    "mean = (shape * scale) /(shape - 1 )\n",
    "\n",
    "Y ,ancient = generate_pareto(scale, size, DureeObs, shape)\n",
    "sns.histplot(Y, kde = True)"
   ]
  },
  {
   "cell_type": "code",
   "execution_count": null,
   "metadata": {
    "id": "4VngFxt3VP8O"
   },
   "outputs": [],
   "source": [
    "len(np.where(Y!=ancient)[0])"
   ]
  },
  {
   "cell_type": "markdown",
   "metadata": {
    "id": "fhyzEUUjBUBc"
   },
   "source": []
  },
  {
   "cell_type": "code",
   "execution_count": null,
   "metadata": {
    "id": "splx3T3cVP8O"
   },
   "outputs": [],
   "source": [
    "mean"
   ]
  },
  {
   "cell_type": "code",
   "execution_count": null,
   "metadata": {
    "id": "r3ufj3NSVP8P"
   },
   "outputs": [],
   "source": [
    "def pareto_clv_estimator(Y, ancient):\n",
    "    len_A = len(np.where(Y!=ancient)[0])\n",
    "    denom = 1- (np.sum(np.log(Y))/len_A)\n",
    "    return 1 / denom"
   ]
  },
  {
   "cell_type": "code",
   "execution_count": null,
   "metadata": {
    "id": "rIGw0DdaVP8P"
   },
   "outputs": [],
   "source": [
    "clv_pareto = pareto_clv_estimator(Y,ancient)\n",
    "epsilon = 0.1\n",
    "n = 1000\n",
    "max_size = 10000\n",
    "while (np.abs(clv_pareto-mean)>epsilon and (n <= max_size)) :\n",
    "    n +=1\n",
    "    Y_new, ancient_new = generate_pareto(mean, n, DureeObs,shape)\n",
    "    clv_pareto = pareto_clv_estimator(Y_new, ancient_new)\n"
   ]
  },
  {
   "cell_type": "code",
   "execution_count": null,
   "metadata": {
    "id": "_zgCkwsfVP8P"
   },
   "outputs": [],
   "source": [
    "print(\"CONVERGENCE WITH DIFFERENCE OF ε = %.3f :\\n \\t size of dataset =%d \\n \\t CLV real = %f \\n \\t CLV thoery = %d\" % (epsilon, n ,clv_pareto,mean))"
   ]
  },
  {
   "cell_type": "code",
   "execution_count": null,
   "metadata": {
    "id": "LbIillu716q1"
   },
   "outputs": [],
   "source": [
    "# GENERATOR WITH TWO PARETO DISTRIBUTION\n",
    "# Parameters\n",
    "n = 1000\n",
    "DureeObs = 12*4\n",
    "\n",
    "moyenne1 = 4  # Mean in the first group\n",
    "shape1 = 0.1  # Small shape: close to exponential distribution\n",
    "\n",
    "moyenne2 = 9  # Mean in the second group\n",
    "shape2 = 0.4  # Larger shape: heavy-tailed distribution\n",
    "\n",
    "ratio_classe = 0.3  # Proportion of clients in the first group in the dataset\n",
    "\n",
    "# Expectation across both groups\n",
    "CLV = ratio_classe*moyenne1+(1-ratio_classe)*moyenne2\n",
    "\n",
    "# Data generation\n",
    "location1 = 0\n",
    "scale = moyenne1*(1-shape1)-location1\n",
    "T1 = np.random.gamma(shape1, scale, n)\n",
    "\n",
    "location2 = 0\n",
    "scale = moyenne2*(1-shape2)-location2\n",
    "T2 = np.random.gamma(shape2, scale, n)\n",
    "\n",
    "ber = np.random.rand(n) > ratio_classe\n",
    "\n",
    "T = (1-ber)*T1 + ber*T2\n",
    "\n",
    "Duree_depuis_souscription = DureeObs * np.random.rand(n)\n",
    "Y = T*(T<Duree_depuis_souscription)\n",
    "#Y = np.where(T<Duree_depuis_souscription, T, np.nan)\n",
    "\n",
    "\n",
    "# The data is now (Y, Duree_depuis_souscription)"
   ]
  },
  {
   "cell_type": "code",
   "execution_count": null,
   "metadata": {
    "id": "oIDkssNMtUEZ"
   },
   "outputs": [],
   "source": [
    "# GENERATOR WITH ONLY ONE PARETO DISTRIBUTION\n",
    "\n",
    "# Parameters\n",
    "n = 1000\n",
    "DureeObs = 12*4\n",
    "\n",
    "moyenne1 = 4  # Mean in the first group\n",
    "shape1 = 0.1  # Small shape: close to exponential distribution\n",
    "\n",
    "#moyenne2 = 9  # Mean in the second group\n",
    "#shape2 = 0.4  # Larger shape: heavy-tailed distribution\n",
    "\n",
    "#ratio_classe = 0.3  # Proportion of clients in the first group in the dataset\n",
    "\n",
    "# Expectation across both groups\n",
    "CLV = moyenne1 #+(1-ratio_classe)*moyenne2\n",
    "\n",
    "# Data generation\n",
    "location1 = 0   # Que fait location et que fait shape\n",
    "scale = moyenne1*(1-shape1)-location1\n",
    "T = np.random.gamma(shape1, scale, n)\n",
    "\n",
    "\n",
    "# location2 = 0\n",
    "# scale = moyenne2*(1-shape2)-location2\n",
    "# T2 = np.random.gamma(shape2, scale, n)\n",
    "\n",
    "# ber = np.random.rand(n) > ratio_classe  \n",
    "\n",
    "# T = (1-ber)*T1 + ber*T2\n",
    "\n",
    "Duree_depuis_souscription = DureeObs * np.random.rand(n) # Q\n",
    "Y = T*(T<=Duree_depuis_souscription) +  Duree_depuis_souscription*(T>Duree_depuis_souscription)\n",
    "#Y = np.where(T<Duree_depuis_souscription, T, np.nan)\n",
    "\n",
    "# The data is now (Y, Duree_depuis_souscription)"
   ]
  },
  {
   "cell_type": "code",
   "execution_count": null,
   "metadata": {
    "id": "1FgwHndXhtmU"
   },
   "outputs": [],
   "source": [
    "df = pd.DataFrame({'Y': Y, 'DUREE_SOUSCRIPTION':Duree_depuis_souscription}, columns=['Y', 'DUREE_SOUSCRIPTION'])"
   ]
  },
  {
   "cell_type": "code",
   "execution_count": null,
   "metadata": {
    "id": "tsM867gbhW9s"
   },
   "outputs": [],
   "source": [
    "df.describe()"
   ]
  },
  {
   "cell_type": "code",
   "execution_count": null,
   "metadata": {
    "id": "xOv6BBqs3gZn"
   },
   "outputs": [],
   "source": [
    "# null values\n",
    "df.isnull().sum()"
   ]
  },
  {
   "cell_type": "code",
   "execution_count": null,
   "metadata": {
    "id": "J8fTXPig4ASm"
   },
   "outputs": [],
   "source": [
    "sns.histplot(Y, bins=10, kde = True)\n",
    "plt.xlabel('Y')\n",
    "plt.ylabel('Frequency')\n",
    "plt.title('Distribution of Y')\n",
    "plt.show()"
   ]
  },
  {
   "cell_type": "markdown",
   "metadata": {
    "id": "gc7YTXoMkq88"
   },
   "source": [
    "#### Parametric estimator"
   ]
  },
  {
   "cell_type": "code",
   "execution_count": null,
   "metadata": {
    "id": "qogPpQqu4B-x"
   },
   "outputs": [],
   "source": [
    "# Define the estimator function\n",
    "def CLV_pareto_IC(Y, DS):\n",
    "    D = len(Y[Y<Duree_depuis_souscription])\n",
    "    denom = 1- (np.sum(np.log(Y))/D)\n",
    "    return 1 / denom"
   ]
  },
  {
   "cell_type": "code",
   "execution_count": null,
   "metadata": {
    "id": "AwQ8sQgv2MGg"
   },
   "outputs": [],
   "source": [
    "print(\"CLV HAT :\",clv_pareto(Y,Duree_depuis_souscription))\n",
    "print(\"CLV :\", CLV)"
   ]
  },
  {
   "cell_type": "code",
   "execution_count": null,
   "metadata": {
    "id": "HBCWt7uckpGm"
   },
   "outputs": [],
   "source": [
    "print(\"CLV HAT :\",clv_geom(Y,Duree_depuis_souscription))\n",
    "print(\"CLV :\", CLV)"
   ]
  },
  {
   "cell_type": "markdown",
   "metadata": {
    "id": "sFvGPhr57X3-"
   },
   "source": [
    "##### Confidence interval"
   ]
  },
  {
   "cell_type": "code",
   "execution_count": null,
   "metadata": {
    "id": "tiybdFCT7WzI"
   },
   "outputs": [],
   "source": [
    "# Perform bootstrap sampling to estimate confidence interval\n",
    "B = 200  # Number of bootstrap samples\n",
    "bootstrap_samples = np.random.choice(n, size=(B, n), replace=True)\n",
    "bootstrap_estimators = np.zeros(B)\n",
    "for b in range(B):\n",
    "    Y_b = Y[bootstrap_samples[b]]\n",
    "    DS_b = Duree_depuis_souscription[bootstrap_samples[b]]\n",
    "    bootstrap_estimators[b] = clv_hat(Y_b, DS_b)\n",
    "\n",
    "# Compute confidence interval\n",
    "alpha = 0.05  # Significance level\n",
    "lower = np.percentile(bootstrap_estimators, 100*(alpha/2))\n",
    "upper = np.percentile(bootstrap_estimators, 100*(1-alpha/2))\n",
    "\n",
    "print(\"CLV hat: \", clv_hat(Y, Duree_depuis_souscription))\n",
    "print(\"95% confidence interval: [\", lower, \",\", upper, \"]\")"
   ]
  },
  {
   "cell_type": "code",
   "execution_count": null,
   "metadata": {
    "id": "FFiAGoN7F-VA"
   },
   "outputs": [],
   "source": [
    "print(\"VAR(CLV hat): \", bootstrap_estimators.std()**2)"
   ]
  },
  {
   "cell_type": "code",
   "execution_count": null,
   "metadata": {
    "id": "gKVuqMfRB84m"
   },
   "outputs": [],
   "source": [
    "import seaborn as sns\n",
    "\n",
    "# Plot the bar chart\n",
    "sns.histplot(bootstrap_estimators, bins=30, kde=True)\n",
    "\n",
    "# Show the plot\n",
    "plt.show()\n",
    "\n"
   ]
  },
  {
   "cell_type": "markdown",
   "metadata": {
    "id": "rXX7mcpXj709"
   },
   "source": [
    "#### Geometric with Nan data"
   ]
  },
  {
   "cell_type": "code",
   "execution_count": null,
   "metadata": {
    "id": "yhcm0efeVP8R"
   },
   "outputs": [],
   "source": [
    "# Define the estimator function\n",
    "#\n",
    "def clv_geom(Y, DS):\n",
    "    np.where(~np.isnan(Y))[0]  \n",
    "    N = np.where(np.isnan(Y))[0]\n",
    "    return (np.sum(Y[A]) + np.sum(DS[N]))/len(A)"
   ]
  },
  {
   "cell_type": "code",
   "execution_count": null,
   "metadata": {
    "id": "sol8lUuNj10Z"
   },
   "outputs": [],
   "source": [
    "# Parameters\n",
    "n = 1000\n",
    "DureeObs = 12*4\n",
    "\n",
    "moyenne1 = 4  # Mean in the first group\n",
    "p1 = 0.2  # Probability of success in each trial, for a geometric distribution\n",
    "\n",
    "moyenne2 = 9  # Mean in the second group\n",
    "p2 = 0.6  # Probability of success in each trial, for a geometric distribution\n",
    "\n",
    "ratio_classe = 0.3  # Proportion of clients in the first group in the dataset\n",
    "\n",
    "# Expectation across both groups\n",
    "CLV = ratio_classe*moyenne1+(1-ratio_classe)*moyenne2\n",
    "\n",
    "# Data generation\n",
    "T1 = np.random.geometric(p1, n)/p1 - 1  # Subtract 1 to shift distribution\n",
    "T1 = T1 * moyenne1/np.mean(T1)  # Rescale to match mean\n",
    "\n",
    "T2 = np.random.geometric(p2, n)/p2 - 1  # Subtract 1 to shift distribution\n",
    "T2 = T2 * moyenne2/np.mean(T2)  # Rescale to match mean\n",
    "\n",
    "ber = np.random.rand(n) > ratio_classe\n",
    "\n",
    "T = (1-ber)*T1 + ber*T2\n",
    "\n",
    "Duree_depuis_souscription = DureeObs * np.random.rand(n)\n",
    "Y = T*(T<Duree_depuis_souscription)\n",
    "#Y = np.where(T<Duree_depuis_souscription, T, np.nan)\n",
    "\n",
    "# The data is now (Y, Duree_depuis_souscription)\n"
   ]
  },
  {
   "cell_type": "code",
   "execution_count": null,
   "metadata": {
    "id": "23QVnWRtj_U7"
   },
   "outputs": [],
   "source": [
    "df2 = pd.DataFrame({'Y': Y, 'DUREE_SOUSCRIPTION':Duree_depuis_souscription}, columns=['Y', 'DUREE_SOUSCRIPTION'])"
   ]
  },
  {
   "cell_type": "code",
   "execution_count": null,
   "metadata": {
    "id": "nGU8NQ7gkFEC"
   },
   "outputs": [],
   "source": [
    "df2.describe()"
   ]
  },
  {
   "cell_type": "code",
   "execution_count": null,
   "metadata": {
    "id": "HcpIh6e4kTYN"
   },
   "outputs": [],
   "source": [
    "print(\"CLV HAT :\",clv_hat(Y,Duree_depuis_souscription))\n",
    "print(\"CLV :\", CLV)"
   ]
  },
  {
   "cell_type": "code",
   "execution_count": null,
   "metadata": {
    "id": "SnUoWDqbkazU"
   },
   "outputs": [],
   "source": [
    "# Perform bootstrap sampling to estimate confidence interval\n",
    "B = 200  # Number of bootstrap samples\n",
    "bootstrap_samples = np.random.choice(n, size=(B, n), replace=True)\n",
    "bootstrap_estimators = np.zeros(B)\n",
    "for b in range(B):\n",
    "    Y_b = Y[bootstrap_samples[b]]\n",
    "    DS_b = Duree_depuis_souscription[bootstrap_samples[b]]\n",
    "    bootstrap_estimators[b] = clv_hat(Y_b, DS_b)\n",
    "\n",
    "# Compute confidence interval\n",
    "alpha = 0.05  # Significance level\n",
    "lower = np.percentile(bootstrap_estimators, 100*(alpha/2))\n",
    "upper = np.percentile(bootstrap_estimators, 100*(1-alpha/2))\n",
    "\n",
    "print(\"CLV hat: \", clv_hat(Y, Duree_depuis_souscription))\n",
    "print(\"95% confidence interval: [\", lower, \",\", upper, \"]\")"
   ]
  },
  {
   "cell_type": "code",
   "execution_count": null,
   "metadata": {
    "id": "1GQBV018kiMr"
   },
   "outputs": [],
   "source": [
    "# Plot the bar chart\n",
    "sns.histplot(bootstrap_estimators, bins=30, kde=True)\n",
    "\n",
    "# Show the plot\n",
    "plt.show()\n"
   ]
  },
  {
   "cell_type": "markdown",
   "metadata": {
    "id": "FPhEfAO3MzGx"
   },
   "source": [
    "### Quick trial of scikit learn survival analysis package"
   ]
  },
  {
   "cell_type": "markdown",
   "metadata": {
    "id": "3DmtX4cWNM4Y"
   },
   "source": [
    "[Survival analysis](https://scikit-survival.readthedocs.io/en/stable/user_guide/00-introduction.html#What-is-Survival-Analysis?)"
   ]
  },
  {
   "cell_type": "code",
   "execution_count": null,
   "metadata": {
    "id": "LZ-XajwkGuXI"
   },
   "outputs": [],
   "source": [
    "!pip install scikit-survival  "
   ]
  },
  {
   "cell_type": "code",
   "execution_count": null,
   "metadata": {
    "id": "XZAwcSIKwLhO"
   },
   "outputs": [],
   "source": [
    "#imports\n",
    "import pandas as pd\n",
    "import numpy as np\n",
    "import matplotlib.pyplot as plt"
   ]
  },
  {
   "cell_type": "code",
   "execution_count": null,
   "metadata": {
    "id": "TEozToq8GL8Q"
   },
   "outputs": [],
   "source": [
    "from sksurv.datasets import load_aids"
   ]
  },
  {
   "cell_type": "code",
   "execution_count": null,
   "metadata": {
    "id": "nejZ5SLT862B"
   },
   "outputs": [],
   "source": [
    "# read the dataset\n",
    "# ex other type of data : bank information source kaggle : https://www.kaggle.com/datasets/sakshigoyal7/credit-card-customers?resource=download\n",
    "\n",
    "\"\"\"\n",
    "AIDS Clinical Trial dataset\n",
    "The dataset has 1,151 samples and 11 features. The dataset has 2 endpoints:\n",
    ".AIDS defining event, which occurred for 96 patients (8.3%)\n",
    ".Death, which occurred for 26 patients (2.3%)\n",
    "\"\"\"\n",
    "\n",
    "# data_x : The measurements for each patient.\n",
    "data_x, data_y = load_aids()"
   ]
  },
  {
   "cell_type": "code",
   "execution_count": null,
   "metadata": {
    "id": "bmyi5jwcHj-S"
   },
   "outputs": [],
   "source": [
    "data_x.head(3)"
   ]
  },
  {
   "cell_type": "markdown",
   "metadata": {
    "id": "SWfQ3wXTHKIj"
   },
   "source": [
    "e.tdm: boolean indicating whether the endpoint has been reached or the event time is right censored.\n",
    "\n",
    "t.tdm: time to distant metastasis (days)"
   ]
  },
  {
   "cell_type": "code",
   "execution_count": null,
   "metadata": {
    "id": "7RRSKU4gGqrr"
   },
   "outputs": [],
   "source": [
    "pd.DataFrame.from_records(data_y[[11, 5, 32, 13, 23]], index=range(1, 6))"
   ]
  },
  {
   "cell_type": "code",
   "execution_count": null,
   "metadata": {
    "id": "Rvy8rT2cHE3Q"
   },
   "outputs": [],
   "source": [
    "%matplotlib inline\n",
    "from sksurv.nonparametric import kaplan_meier_estimator\n",
    "\n",
    "time, survival_prob = kaplan_meier_estimator(data_y[\"censor\"], data_y[\"time\"])\n",
    "plt.step(time, survival_prob, where=\"post\")\n",
    "plt.ylabel(\"probability of survival $\\hat{S}(t)$\")\n",
    "plt.xlabel(\"time $t$\")"
   ]
  },
  {
   "cell_type": "code",
   "execution_count": null,
   "metadata": {
    "id": "oHKBIDnkU4mp"
   },
   "outputs": [],
   "source": [
    "survival_times = np.array([5, 3, 2, 4, 7, 6, 5, 1, 8, 4, 3, 5, 6])\n",
    "event_indicators = np.array([1, 1, 0, 1, 1, 1, 1, 0, 1, 1, 0, 1, 1])\n",
    "event_indicators_bool = [x==1 for x in event_indicators]"
   ]
  },
  {
   "cell_type": "code",
   "execution_count": null,
   "metadata": {
    "id": "YOKtnn3Lx2NR"
   },
   "outputs": [],
   "source": [
    "t , s = kaplan_meier_estimator(event_indicators_bool, survival_times )\n",
    "plt.plot(t, s)\n",
    "plt.ylabel(\"probability of survival $\\hat{S}(t)$\")\n",
    "plt.xlabel(\"time $t$\")"
   ]
  },
  {
   "cell_type": "markdown",
   "metadata": {
    "id": "1Jvxq-yDe1SO"
   },
   "source": [
    "Survival function properties:\n",
    "$$\\hat S(t) = \\prod_{t_i \\leq t} \\frac{n_i - d_i}{n_i} = \\prod_{t_i \\leq t} 1 - \\frac{d_i}{n_i} =\\prod_{t_i \\leq t} 1 - \\frac{\\text{number of events that happened at time }t_i }{\\text{number of individuals known to have survived up to time }t_i } = \\prod_{t_i \\leq t} p_{t_i} $$\n",
    "\n",
    "Another form:\n",
    "$$\\hat S(t) = \\hat S(t-1)p_t$$\n"
   ]
  },
  {
   "cell_type": "code",
   "execution_count": null,
   "metadata": {
    "id": "yh4KKbtDyWWy"
   },
   "outputs": [],
   "source": [
    "def kaplan_meier_estm(event_indicators , survival_times ):\n",
    "    \"\"\"\n",
    "    Fits the Kaplan-Meier survival curve to the input event indicators and survival times.\n",
    "\n",
    "    Parameters:\n",
    "    survival_times (np array): time from study inclusion to event (death, relapse, etc.)\n",
    "    event_indicators (binary np array): the event of interest that occurs during the follow-up time (e.g., mortality, relapse, etc.)\n",
    "\n",
    "    Returns:\n",
    "    s (np array): estimated survival probabilities at each time point\n",
    "    t (np array): unique times at which the estimated survival probabilities change.\n",
    "    \"\"\"\n",
    "\n",
    "    # length of dataset\n",
    "    n = len(survival_times)\n",
    "\n",
    "    # compute unique survival times\n",
    "    t = np.unique(survival_times)\n",
    "    m = len(t)\n",
    "\n",
    "    # array that store the survival probabilities\n",
    "    s = np.ones(m)\n",
    "\n",
    "    # array that store the number of events\n",
    "    d = np.zeros(m)\n",
    "\n",
    "    for i in range(m):\n",
    "        # Count the number of events that occur (event indicator = 1) at time i\n",
    "        d[i] = np.sum((survival_times == t[i]) & event_indicators)\n",
    "\n",
    "        # compute the survival probability at time i\n",
    "        n_i = n - sum(d[:i]) # - d\n",
    "        s[i] = s[max(0, i-1)] * (1 - d[i] / n_i)\n",
    "    return t, s\n"
   ]
  },
  {
   "cell_type": "code",
   "execution_count": null,
   "metadata": {
    "id": "xSLoDkLB1cjo"
   },
   "outputs": [],
   "source": [
    "# Example usage\n",
    "\n",
    "t_new, s_new = kaplan_meier_estm(event_indicators , survival_times)\n",
    "print(\"Difference with KME of sklearn t:\",t-t_new)\n",
    "print(\"Difference with KME of sklearn s:\",s-s_new)\n",
    "plt.plot(t_new, s_new)\n",
    "plt.xlabel(\"Time\")\n",
    "plt.ylabel(\"Survival probability\")\n",
    "plt.title(\"Kaplan-Meier Survival Curve\")\n",
    "plt.show()"
   ]
  },
  {
   "cell_type": "code",
   "execution_count": null,
   "metadata": {
    "id": "2nGIg3ZmUJjR"
   },
   "outputs": [],
   "source": [
    "#problem : difference of 0.2 on the probabilities ... choice of the formula? \n",
    "#next: fonction fit - selon un clustering ? predict - métriques? ??"
   ]
  },
  {
   "cell_type": "markdown",
   "metadata": {
    "id": "ZmGkCe1bztpk"
   },
   "source": [
    "### Dataset"
   ]
  },
  {
   "cell_type": "markdown",
   "metadata": {
    "id": "R2jUVsP-z8y9"
   },
   "source": [
    "Since there's not access to the real data, the first step to do is to find/construct a dataset where the CLV can measurable/predictable. One can need to have some features such as: \n",
    "* Personal information : occupation, salary, gender, age, marital status, Geolocalisation (Country/town ...etc)\n",
    "* Date of entry to company/study\n",
    "* Date of leaving (can be empty if the element didn't quit yet)\n",
    "* Information related to the person as a client : number & types of products , communication email/call ..."
   ]
  }
 ],
 "metadata": {
  "colab": {
   "collapsed_sections": [
    "FcV9izFdaHg-",
    "poA6eBduVP8J",
    "HF3IDPKSAkSS",
    "5pjgZ31LVP8L"
   ],
   "provenance": []
  },
  "kernelspec": {
   "display_name": "Python 3 (ipykernel)",
   "language": "python",
   "name": "python3"
  },
  "language_info": {
   "codemirror_mode": {
    "name": "ipython",
    "version": 3
   },
   "file_extension": ".py",
   "mimetype": "text/x-python",
   "name": "python",
   "nbconvert_exporter": "python",
   "pygments_lexer": "ipython3",
   "version": "3.9.12"
  }
 },
 "nbformat": 4,
 "nbformat_minor": 1
}
