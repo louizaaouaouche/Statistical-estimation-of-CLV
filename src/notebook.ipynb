{
  "cells": [
    {
      "cell_type": "code",
      "source": [
        "# imports\n",
        "import numpy as np\n",
        "import pandas as pd\n",
        "import matplotlib.pyplot as plt\n",
        "import seaborn as sns"
      ],
      "metadata": {
        "id": "PFBoUFoWaOvt"
      },
      "execution_count": 26,
      "outputs": []
    },
    {
      "cell_type": "markdown",
      "metadata": {
        "id": "Zn_e0jl7zVEN"
      },
      "source": [
        "## On boarding : "
      ]
    },
    {
      "cell_type": "markdown",
      "source": [
        "EXPONENTIELLE"
      ],
      "metadata": {
        "id": "FcV9izFdaHg-"
      }
    },
    {
      "cell_type": "code",
      "source": [
        "import numpy as np\n",
        "\n",
        "def generate_exponential(mean, size):\n",
        "    \"\"\"\n",
        "    Generates random numbers following an exponential distribution\n",
        "    with the given mean using NumPy.\n",
        "\n",
        "    Args:\n",
        "        mean (float): The mean of the distribution.\n",
        "        size (int): The number of random numbers to generate.\n",
        "\n",
        "    Returns:\n",
        "        An array of random numbers following an exponential distribution\n",
        "        with the given mean.\n",
        "    \"\"\"\n",
        "    return np.random.exponential(scale=mean, size=size)"
      ],
      "metadata": {
        "id": "KqJp6IuaaGcp"
      },
      "execution_count": 27,
      "outputs": []
    },
    {
      "cell_type": "code",
      "source": [
        "mean = 10\n",
        "size= 1000\n",
        "sns.histplot(generate_exponential(mean, size), kde = True)"
      ],
      "metadata": {
        "colab": {
          "base_uri": "https://localhost:8080/",
          "height": 448
        },
        "id": "Sd4CdH53aGZ3",
        "outputId": "2ba7a815-916f-4ff9-b9be-135509e4cd2a"
      },
      "execution_count": 31,
      "outputs": [
        {
          "output_type": "execute_result",
          "data": {
            "text/plain": [
              "<Axes: ylabel='Count'>"
            ]
          },
          "metadata": {},
          "execution_count": 31
        },
        {
          "output_type": "display_data",
          "data": {
            "text/plain": [
              "<Figure size 640x480 with 1 Axes>"
            ],
            "image/png": "[encoded data removed]"
          },
          "metadata": {}
        }
      ]
    },
    {
      "cell_type": "code",
      "source": [],
      "metadata": {
        "id": "Ft8DyJf7aGXa"
      },
      "execution_count": null,
      "outputs": []
    },
    {
      "cell_type": "markdown",
      "metadata": {
        "id": "ES1XDSLehnCW"
      },
      "source": [
        "### Data Generator"
      ]
    },
    {
      "cell_type": "markdown",
      "metadata": {
        "id": "CJ0F-1kJkycl"
      },
      "source": [
        "##### PARETO "
      ]
    },
    {
      "cell_type": "code",
      "execution_count": 15,
      "metadata": {
        "id": "LbIillu716q1"
      },
      "outputs": [],
      "source": [
        "# GENERATOR WITH TWO PARETO DISTRIBUTION\n",
        "\n",
        "# Parameters\n",
        "n = 1000\n",
        "DureeObs = 12*4\n",
        "\n",
        "moyenne1 = 4  # Mean in the first group\n",
        "shape1 = 0.1  # Small shape: close to exponential distribution\n",
        "\n",
        "moyenne2 = 9  # Mean in the second group\n",
        "shape2 = 0.4  # Larger shape: heavy-tailed distribution\n",
        "\n",
        "ratio_classe = 0.3  # Proportion of clients in the first group in the dataset\n",
        "\n",
        "# Expectation across both groups\n",
        "CLV = ratio_classe*moyenne1+(1-ratio_classe)*moyenne2\n",
        "\n",
        "# Data generation\n",
        "location1 = 0\n",
        "scale = moyenne1*(1-shape1)-location1\n",
        "T1 = np.random.gamma(shape1, scale, n)\n",
        "\n",
        "location2 = 0\n",
        "scale = moyenne2*(1-shape2)-location2\n",
        "T2 = np.random.gamma(shape2, scale, n)\n",
        "\n",
        "ber = np.random.rand(n) > ratio_classe\n",
        "\n",
        "T = (1-ber)*T1 + ber*T2\n",
        "\n",
        "Duree_depuis_souscription = DureeObs * np.random.rand(n)\n",
        "Y = T*(T<Duree_depuis_souscription)\n",
        "#Y = np.where(T<Duree_depuis_souscription, T, np.nan)\n",
        "\n",
        "\n",
        "# The data is now (Y, Duree_depuis_souscription)"
      ]
    },
    {
      "cell_type": "code",
      "execution_count": 21,
      "metadata": {
        "id": "oIDkssNMtUEZ"
      },
      "outputs": [],
      "source": [
        "# GENERATOR WITH ONLY ONE PARETO DISTRIBUTION\n",
        "\n",
        "# Parameters\n",
        "n = 1000\n",
        "DureeObs = 12*4\n",
        "\n",
        "moyenne1 = 4  # Mean in the first group\n",
        "shape1 = 0.1  # Small shape: close to exponential distribution\n",
        "\n",
        "#moyenne2 = 9  # Mean in the second group\n",
        "#shape2 = 0.4  # Larger shape: heavy-tailed distribution\n",
        "\n",
        "#ratio_classe = 0.3  # Proportion of clients in the first group in the dataset\n",
        "\n",
        "# Expectation across both groups\n",
        "CLV = moyenne1 #+(1-ratio_classe)*moyenne2\n",
        "\n",
        "# Data generation\n",
        "location1 = 0   # Que fait location et que fait shape\n",
        "scale = moyenne1*(1-shape1)-location1\n",
        "T1 = np.random.gamma(shape1, scale, n)\n",
        "\n",
        "\n",
        "# location2 = 0\n",
        "# scale = moyenne2*(1-shape2)-location2\n",
        "# T2 = np.random.gamma(shape2, scale, n)\n",
        "\n",
        "# ber = np.random.rand(n) > ratio_classe  \n",
        "\n",
        "# T = (1-ber)*T1 + ber*T2\n",
        "\n",
        "Duree_depuis_souscription = DureeObs * np.random.rand(n) # Q\n",
        "Y = T*(T<=Duree_depuis_souscription) +  Duree_depuis_souscription*(T>Duree_depuis_souscription)\n",
        "#Y = np.where(T<Duree_depuis_souscription, T, np.nan)\n",
        "\n",
        "# The data is now (Y, Duree_depuis_souscription)"
      ]
    },
    {
      "cell_type": "code",
      "execution_count": 22,
      "metadata": {
        "id": "1FgwHndXhtmU"
      },
      "outputs": [],
      "source": [
        "df = pd.DataFrame({'Y': Y, 'DUREE_SOUSCRIPTION':Duree_depuis_souscription}, columns=['Y', 'DUREE_SOUSCRIPTION'])"
      ]
    },
    {
      "cell_type": "code",
      "execution_count": 6,
      "metadata": {
        "colab": {
          "base_uri": "https://localhost:8080/",
          "height": 300
        },
        "id": "tsM867gbhW9s",
        "outputId": "405d3794-2f53-419f-d5d3-5fb2c3517498"
      },
      "outputs": [
        {
          "output_type": "execute_result",
          "data": {
            "text/plain": [
              "                  Y  DUREE_SOUSCRIPTION\n",
              "count  1.000000e+03         1000.000000\n",
              "mean   1.615666e+00           23.688893\n",
              "std    2.747478e+00           13.790997\n",
              "min    9.522746e-30            0.000393\n",
              "25%    1.729085e-02           11.809748\n",
              "50%    3.602399e-01           23.197198\n",
              "75%    2.009835e+00           35.492942\n",
              "max    1.943005e+01           47.993324"
            ],
            "text/html": [
              "\n",
              "  <div id=\"df-a5318269-744f-4440-adb5-31046b76c680\">\n",
              "    <div class=\"colab-df-container\">\n",
              "      <div>\n",
              "<style scoped>\n",
              "    .dataframe tbody tr th:only-of-type {\n",
              "        vertical-align: middle;\n",
              "    }\n",
              "\n",
              "    .dataframe tbody tr th {\n",
              "        vertical-align: top;\n",
              "    }\n",
              "\n",
              "    .dataframe thead th {\n",
              "        text-align: right;\n",
              "    }\n",
              "</style>\n",
              "<table border=\"1\" class=\"dataframe\">\n",
              "  <thead>\n",
              "    <tr style=\"text-align: right;\">\n",
              "      <th></th>\n",
              "      <th>Y</th>\n",
              "      <th>DUREE_SOUSCRIPTION</th>\n",
              "    </tr>\n",
              "  </thead>\n",
              "  <tbody>\n",
              "    <tr>\n",
              "      <th>count</th>\n",
              "      <td>1.000000e+03</td>\n",
              "      <td>1000.000000</td>\n",
              "    </tr>\n",
              "    <tr>\n",
              "      <th>mean</th>\n",
              "      <td>1.615666e+00</td>\n",
              "      <td>23.688893</td>\n",
              "    </tr>\n",
              "    <tr>\n",
              "      <th>std</th>\n",
              "      <td>2.747478e+00</td>\n",
              "      <td>13.790997</td>\n",
              "    </tr>\n",
              "    <tr>\n",
              "      <th>min</th>\n",
              "      <td>9.522746e-30</td>\n",
              "      <td>0.000393</td>\n",
              "    </tr>\n",
              "    <tr>\n",
              "      <th>25%</th>\n",
              "      <td>1.729085e-02</td>\n",
              "      <td>11.809748</td>\n",
              "    </tr>\n",
              "    <tr>\n",
              "      <th>50%</th>\n",
              "      <td>3.602399e-01</td>\n",
              "      <td>23.197198</td>\n",
              "    </tr>\n",
              "    <tr>\n",
              "      <th>75%</th>\n",
              "      <td>2.009835e+00</td>\n",
              "      <td>35.492942</td>\n",
              "    </tr>\n",
              "    <tr>\n",
              "      <th>max</th>\n",
              "      <td>1.943005e+01</td>\n",
              "      <td>47.993324</td>\n",
              "    </tr>\n",
              "  </tbody>\n",
              "</table>\n",
              "</div>\n",
              "      <button class=\"colab-df-convert\" onclick=\"convertToInteractive('df-a5318269-744f-4440-adb5-31046b76c680')\"\n",
              "              title=\"Convert this dataframe to an interactive table.\"\n",
              "              style=\"display:none;\">\n",
              "        \n",
              "  <svg xmlns=\"http://www.w3.org/2000/svg\" height=\"24px\"viewBox=\"0 0 24 24\"\n",
              "       width=\"24px\">\n",
              "    <path d=\"M0 0h24v24H0V0z\" fill=\"none\"/>\n",
              "    <path d=\"M18.56 5.44l.94 2.06.94-2.06 2.06-.94-2.06-.94-.94-2.06-.94 2.06-2.06.94zm-11 1L8.5 8.5l.94-2.06 2.06-.94-2.06-.94L8.5 2.5l-.94 2.06-2.06.94zm10 10l.94 2.06.94-2.06 2.06-.94-2.06-.94-.94-2.06-.94 2.06-2.06.94z\"/><path d=\"M17.41 7.96l-1.37-1.37c-.4-.4-.92-.59-1.43-.59-.52 0-1.04.2-1.43.59L10.3 9.45l-7.72 7.72c-.78.78-.78 2.05 0 2.83L4 21.41c.39.39.9.59 1.41.59.51 0 1.02-.2 1.41-.59l7.78-7.78 2.81-2.81c.8-.78.8-2.07 0-2.86zM5.41 20L4 18.59l7.72-7.72 1.47 1.35L5.41 20z\"/>\n",
              "  </svg>\n",
              "      </button>\n",
              "      \n",
              "  <style>\n",
              "    .colab-df-container {\n",
              "      display:flex;\n",
              "      flex-wrap:wrap;\n",
              "      gap: 12px;\n",
              "    }\n",
              "\n",
              "    .colab-df-convert {\n",
              "      background-color: #E8F0FE;\n",
              "      border: none;\n",
              "      border-radius: 50%;\n",
              "      cursor: pointer;\n",
              "      display: none;\n",
              "      fill: #1967D2;\n",
              "      height: 32px;\n",
              "      padding: 0 0 0 0;\n",
              "      width: 32px;\n",
              "    }\n",
              "\n",
              "    .colab-df-convert:hover {\n",
              "      background-color: #E2EBFA;\n",
              "      box-shadow: 0px 1px 2px rgba(60, 64, 67, 0.3), 0px 1px 3px 1px rgba(60, 64, 67, 0.15);\n",
              "      fill: #174EA6;\n",
              "    }\n",
              "\n",
              "    [theme=dark] .colab-df-convert {\n",
              "      background-color: #3B4455;\n",
              "      fill: #D2E3FC;\n",
              "    }\n",
              "\n",
              "    [theme=dark] .colab-df-convert:hover {\n",
              "      background-color: #434B5C;\n",
              "      box-shadow: 0px 1px 3px 1px rgba(0, 0, 0, 0.15);\n",
              "      filter: drop-shadow(0px 1px 2px rgba(0, 0, 0, 0.3));\n",
              "      fill: #FFFFFF;\n",
              "    }\n",
              "  </style>\n",
              "\n",
              "      <script>\n",
              "        const buttonEl =\n",
              "          document.querySelector('#df-a5318269-744f-4440-adb5-31046b76c680 button.colab-df-convert');\n",
              "        buttonEl.style.display =\n",
              "          google.colab.kernel.accessAllowed ? 'block' : 'none';\n",
              "\n",
              "        async function convertToInteractive(key) {\n",
              "          const element = document.querySelector('#df-a5318269-744f-4440-adb5-31046b76c680');\n",
              "          const dataTable =\n",
              "            await google.colab.kernel.invokeFunction('convertToInteractive',\n",
              "                                                     [key], {});\n",
              "          if (!dataTable) return;\n",
              "\n",
              "          const docLinkHtml = 'Like what you see? Visit the ' +\n",
              "            '<a target=\"_blank\" href=https://colab.research.google.com/notebooks/data_table.ipynb>data table notebook</a>'\n",
              "            + ' to learn more about interactive tables.';\n",
              "          element.innerHTML = '';\n",
              "          dataTable['output_type'] = 'display_data';\n",
              "          await google.colab.output.renderOutput(dataTable, element);\n",
              "          const docLink = document.createElement('div');\n",
              "          docLink.innerHTML = docLinkHtml;\n",
              "          element.appendChild(docLink);\n",
              "        }\n",
              "      </script>\n",
              "    </div>\n",
              "  </div>\n",
              "  "
            ]
          },
          "metadata": {},
          "execution_count": 6
        }
      ],
      "source": [
        "df.describe()"
      ]
    },
    {
      "cell_type": "code",
      "execution_count": 7,
      "metadata": {
        "colab": {
          "base_uri": "https://localhost:8080/"
        },
        "id": "xOv6BBqs3gZn",
        "outputId": "5d83bf54-5710-4ea8-e5e2-45362ad57662"
      },
      "outputs": [
        {
          "output_type": "execute_result",
          "data": {
            "text/plain": [
              "Y                     0\n",
              "DUREE_SOUSCRIPTION    0\n",
              "dtype: int64"
            ]
          },
          "metadata": {},
          "execution_count": 7
        }
      ],
      "source": [
        "# null values\n",
        "df.isnull().sum()"
      ]
    },
    {
      "cell_type": "code",
      "execution_count": 8,
      "metadata": {
        "colab": {
          "base_uri": "https://localhost:8080/",
          "height": 472
        },
        "id": "J8fTXPig4ASm",
        "outputId": "f095216c-78bc-484e-ef7b-b7800873196d"
      },
      "outputs": [
        {
          "output_type": "display_data",
          "data": {
            "text/plain": [
              "<Figure size 640x480 with 1 Axes>"
            ],
            "image/png": "[encoded data removed]"
          },
          "metadata": {}
        }
      ],
      "source": [
        "sns.histplot(Y, bins=10, kde = True)\n",
        "plt.xlabel('Y')\n",
        "plt.ylabel('Frequency')\n",
        "plt.title('Distribution of Y')\n",
        "plt.show()"
      ]
    },
    {
      "cell_type": "markdown",
      "metadata": {
        "id": "gc7YTXoMkq88"
      },
      "source": [
        "#### Parametric estimator"
      ]
    },
    {
      "cell_type": "code",
      "execution_count": 9,
      "metadata": {
        "id": "u-Wt3HoYkqL-"
      },
      "outputs": [],
      "source": [
        "# Define the estimator function\n",
        "#\n",
        "def clv_geom(Y, DS):\n",
        "    np.where(~np.isnan(Y))[0]  \n",
        "    N = np.where(np.isnan(Y))[0]\n",
        "    return (np.sum(Y[A]) + np.sum(DS[N]))/len(A)"
      ]
    },
    {
      "cell_type": "code",
      "execution_count": 10,
      "metadata": {
        "id": "3PxpFNSNrwvr"
      },
      "outputs": [],
      "source": [
        "# Define the estimator function\n",
        "def clv_pareto(Y, DS):\n",
        "    D = len(Y[Y<Duree_depuis_souscription])\n",
        "    denom = 1- (np.sum(np.log(Y))/D)\n",
        "    return 1 / denom"
      ]
    },
    {
      "cell_type": "code",
      "execution_count": 11,
      "metadata": {
        "id": "qogPpQqu4B-x"
      },
      "outputs": [],
      "source": [
        "# Define the estimator function\n",
        "def CLV_pareto_IC(Y, DS):\n",
        "    D = len(Y[Y<Duree_depuis_souscription])\n",
        "    denom = 1- (np.sum(np.log(Y))/D)\n",
        "    return 1 / denom"
      ]
    },
    {
      "cell_type": "code",
      "execution_count": 12,
      "metadata": {
        "colab": {
          "base_uri": "https://localhost:8080/"
        },
        "id": "AwQ8sQgv2MGg",
        "outputId": "3337f525-cdea-4d13-b498-e83b0b301bf6"
      },
      "outputs": [
        {
          "output_type": "stream",
          "name": "stdout",
          "text": [
            "CLV HAT : 0.2358562487018346\n",
            "CLV : 4\n"
          ]
        }
      ],
      "source": [
        "print(\"CLV HAT :\",clv_pareto(Y,Duree_depuis_souscription))\n",
        "print(\"CLV :\", CLV)"
      ]
    },
    {
      "cell_type": "code",
      "execution_count": 13,
      "metadata": {
        "colab": {
          "base_uri": "https://localhost:8080/",
          "height": 280
        },
        "id": "HBCWt7uckpGm",
        "outputId": "4d9c97e2-5ab7-4713-93a8-29e9cce8633e"
      },
      "outputs": [
        {
          "output_type": "error",
          "ename": "NameError",
          "evalue": "ignored",
          "traceback": [
            "\u001b[0;31m---------------------------------------------------------------------------\u001b[0m",
            "\u001b[0;31mNameError\u001b[0m                                 Traceback (most recent call last)",
            "\u001b[0;32m<ipython-input-13-2afcd6c6ee7e>\u001b[0m in \u001b[0;36m<cell line: 1>\u001b[0;34m()\u001b[0m\n\u001b[0;32m----> 1\u001b[0;31m \u001b[0mprint\u001b[0m\u001b[0;34m(\u001b[0m\u001b[0;34m\"CLV HAT :\"\u001b[0m\u001b[0;34m,\u001b[0m\u001b[0mclv_geom\u001b[0m\u001b[0;34m(\u001b[0m\u001b[0mY\u001b[0m\u001b[0;34m,\u001b[0m\u001b[0mDuree_depuis_souscription\u001b[0m\u001b[0;34m)\u001b[0m\u001b[0;34m)\u001b[0m\u001b[0;34m\u001b[0m\u001b[0;34m\u001b[0m\u001b[0m\n\u001b[0m\u001b[1;32m      2\u001b[0m \u001b[0mprint\u001b[0m\u001b[0;34m(\u001b[0m\u001b[0;34m\"CLV :\"\u001b[0m\u001b[0;34m,\u001b[0m \u001b[0mCLV\u001b[0m\u001b[0;34m)\u001b[0m\u001b[0;34m\u001b[0m\u001b[0;34m\u001b[0m\u001b[0m\n",
            "\u001b[0;32m<ipython-input-9-74365be628d9>\u001b[0m in \u001b[0;36mclv_geom\u001b[0;34m(Y, DS)\u001b[0m\n\u001b[1;32m      4\u001b[0m     \u001b[0mnp\u001b[0m\u001b[0;34m.\u001b[0m\u001b[0mwhere\u001b[0m\u001b[0;34m(\u001b[0m\u001b[0;34m~\u001b[0m\u001b[0mnp\u001b[0m\u001b[0;34m.\u001b[0m\u001b[0misnan\u001b[0m\u001b[0;34m(\u001b[0m\u001b[0mY\u001b[0m\u001b[0;34m)\u001b[0m\u001b[0;34m)\u001b[0m\u001b[0;34m[\u001b[0m\u001b[0;36m0\u001b[0m\u001b[0;34m]\u001b[0m\u001b[0;34m\u001b[0m\u001b[0;34m\u001b[0m\u001b[0m\n\u001b[1;32m      5\u001b[0m     \u001b[0mN\u001b[0m \u001b[0;34m=\u001b[0m \u001b[0mnp\u001b[0m\u001b[0;34m.\u001b[0m\u001b[0mwhere\u001b[0m\u001b[0;34m(\u001b[0m\u001b[0mnp\u001b[0m\u001b[0;34m.\u001b[0m\u001b[0misnan\u001b[0m\u001b[0;34m(\u001b[0m\u001b[0mY\u001b[0m\u001b[0;34m)\u001b[0m\u001b[0;34m)\u001b[0m\u001b[0;34m[\u001b[0m\u001b[0;36m0\u001b[0m\u001b[0;34m]\u001b[0m\u001b[0;34m\u001b[0m\u001b[0;34m\u001b[0m\u001b[0m\n\u001b[0;32m----> 6\u001b[0;31m     \u001b[0;32mreturn\u001b[0m \u001b[0;34m(\u001b[0m\u001b[0mnp\u001b[0m\u001b[0;34m.\u001b[0m\u001b[0msum\u001b[0m\u001b[0;34m(\u001b[0m\u001b[0mY\u001b[0m\u001b[0;34m[\u001b[0m\u001b[0mA\u001b[0m\u001b[0;34m]\u001b[0m\u001b[0;34m)\u001b[0m \u001b[0;34m+\u001b[0m \u001b[0mnp\u001b[0m\u001b[0;34m.\u001b[0m\u001b[0msum\u001b[0m\u001b[0;34m(\u001b[0m\u001b[0mDS\u001b[0m\u001b[0;34m[\u001b[0m\u001b[0mN\u001b[0m\u001b[0;34m]\u001b[0m\u001b[0;34m)\u001b[0m\u001b[0;34m)\u001b[0m\u001b[0;34m/\u001b[0m\u001b[0mlen\u001b[0m\u001b[0;34m(\u001b[0m\u001b[0mA\u001b[0m\u001b[0;34m)\u001b[0m\u001b[0;34m\u001b[0m\u001b[0;34m\u001b[0m\u001b[0m\n\u001b[0m",
            "\u001b[0;31mNameError\u001b[0m: name 'A' is not defined"
          ]
        }
      ],
      "source": [
        "print(\"CLV HAT :\",clv_geom(Y,Duree_depuis_souscription))\n",
        "print(\"CLV :\", CLV)"
      ]
    },
    {
      "cell_type": "markdown",
      "metadata": {
        "id": "sFvGPhr57X3-"
      },
      "source": [
        "##### Confidence interval"
      ]
    },
    {
      "cell_type": "code",
      "execution_count": null,
      "metadata": {
        "id": "tiybdFCT7WzI"
      },
      "outputs": [],
      "source": [
        "# Perform bootstrap sampling to estimate confidence interval\n",
        "B = 200  # Number of bootstrap samples\n",
        "bootstrap_samples = np.random.choice(n, size=(B, n), replace=True)\n",
        "bootstrap_estimators = np.zeros(B)\n",
        "for b in range(B):\n",
        "    Y_b = Y[bootstrap_samples[b]]\n",
        "    DS_b = Duree_depuis_souscription[bootstrap_samples[b]]\n",
        "    bootstrap_estimators[b] = clv_hat(Y_b, DS_b)\n",
        "\n",
        "# Compute confidence interval\n",
        "alpha = 0.05  # Significance level\n",
        "lower = np.percentile(bootstrap_estimators, 100*(alpha/2))\n",
        "upper = np.percentile(bootstrap_estimators, 100*(1-alpha/2))\n",
        "\n",
        "print(\"CLV hat: \", clv_hat(Y, Duree_depuis_souscription))\n",
        "print(\"95% confidence interval: [\", lower, \",\", upper, \"]\")"
      ]
    },
    {
      "cell_type": "code",
      "execution_count": null,
      "metadata": {
        "id": "FFiAGoN7F-VA"
      },
      "outputs": [],
      "source": [
        "print(\"VAR(CLV hat): \", bootstrap_estimators.std()**2)"
      ]
    },
    {
      "cell_type": "code",
      "execution_count": null,
      "metadata": {
        "id": "gKVuqMfRB84m"
      },
      "outputs": [],
      "source": [
        "import seaborn as sns\n",
        "\n",
        "# Plot the bar chart\n",
        "sns.histplot(bootstrap_estimators, bins=30, kde=True)\n",
        "\n",
        "# Show the plot\n",
        "plt.show()\n",
        "\n"
      ]
    },
    {
      "cell_type": "markdown",
      "metadata": {
        "id": "rXX7mcpXj709"
      },
      "source": [
        "#### Geometric"
      ]
    },
    {
      "cell_type": "code",
      "execution_count": null,
      "metadata": {
        "id": "sol8lUuNj10Z"
      },
      "outputs": [],
      "source": [
        "# Parameters\n",
        "n = 1000\n",
        "DureeObs = 12*4\n",
        "\n",
        "moyenne1 = 4  # Mean in the first group\n",
        "p1 = 0.2  # Probability of success in each trial, for a geometric distribution\n",
        "\n",
        "moyenne2 = 9  # Mean in the second group\n",
        "p2 = 0.6  # Probability of success in each trial, for a geometric distribution\n",
        "\n",
        "ratio_classe = 0.3  # Proportion of clients in the first group in the dataset\n",
        "\n",
        "# Expectation across both groups\n",
        "CLV = ratio_classe*moyenne1+(1-ratio_classe)*moyenne2\n",
        "\n",
        "# Data generation\n",
        "T1 = np.random.geometric(p1, n)/p1 - 1  # Subtract 1 to shift distribution\n",
        "T1 = T1 * moyenne1/np.mean(T1)  # Rescale to match mean\n",
        "\n",
        "T2 = np.random.geometric(p2, n)/p2 - 1  # Subtract 1 to shift distribution\n",
        "T2 = T2 * moyenne2/np.mean(T2)  # Rescale to match mean\n",
        "\n",
        "ber = np.random.rand(n) > ratio_classe\n",
        "\n",
        "T = (1-ber)*T1 + ber*T2\n",
        "\n",
        "Duree_depuis_souscription = DureeObs * np.random.rand(n)\n",
        "Y = T*(T<Duree_depuis_souscription)\n",
        "#Y = np.where(T<Duree_depuis_souscription, T, np.nan)\n",
        "\n",
        "# The data is now (Y, Duree_depuis_souscription)\n"
      ]
    },
    {
      "cell_type": "code",
      "execution_count": null,
      "metadata": {
        "id": "23QVnWRtj_U7"
      },
      "outputs": [],
      "source": [
        "df2 = pd.DataFrame({'Y': Y, 'DUREE_SOUSCRIPTION':Duree_depuis_souscription}, columns=['Y', 'DUREE_SOUSCRIPTION'])"
      ]
    },
    {
      "cell_type": "code",
      "execution_count": null,
      "metadata": {
        "id": "nGU8NQ7gkFEC"
      },
      "outputs": [],
      "source": [
        "df2.describe()"
      ]
    },
    {
      "cell_type": "code",
      "execution_count": null,
      "metadata": {
        "id": "HcpIh6e4kTYN"
      },
      "outputs": [],
      "source": [
        "print(\"CLV HAT :\",clv_hat(Y,Duree_depuis_souscription))\n",
        "print(\"CLV :\", CLV)"
      ]
    },
    {
      "cell_type": "code",
      "execution_count": null,
      "metadata": {
        "id": "SnUoWDqbkazU"
      },
      "outputs": [],
      "source": [
        "# Perform bootstrap sampling to estimate confidence interval\n",
        "B = 200  # Number of bootstrap samples\n",
        "bootstrap_samples = np.random.choice(n, size=(B, n), replace=True)\n",
        "bootstrap_estimators = np.zeros(B)\n",
        "for b in range(B):\n",
        "    Y_b = Y[bootstrap_samples[b]]\n",
        "    DS_b = Duree_depuis_souscription[bootstrap_samples[b]]\n",
        "    bootstrap_estimators[b] = clv_hat(Y_b, DS_b)\n",
        "\n",
        "# Compute confidence interval\n",
        "alpha = 0.05  # Significance level\n",
        "lower = np.percentile(bootstrap_estimators, 100*(alpha/2))\n",
        "upper = np.percentile(bootstrap_estimators, 100*(1-alpha/2))\n",
        "\n",
        "print(\"CLV hat: \", clv_hat(Y, Duree_depuis_souscription))\n",
        "print(\"95% confidence interval: [\", lower, \",\", upper, \"]\")"
      ]
    },
    {
      "cell_type": "code",
      "execution_count": null,
      "metadata": {
        "id": "1GQBV018kiMr"
      },
      "outputs": [],
      "source": [
        "# Plot the bar chart\n",
        "sns.histplot(bootstrap_estimators, bins=30, kde=True)\n",
        "\n",
        "# Show the plot\n",
        "plt.show()\n"
      ]
    },
    {
      "cell_type": "markdown",
      "metadata": {
        "id": "FPhEfAO3MzGx"
      },
      "source": [
        "### Quick trial of scikit learn survival analysis package"
      ]
    },
    {
      "cell_type": "markdown",
      "metadata": {
        "id": "3DmtX4cWNM4Y"
      },
      "source": [
        "[Survival analysis](https://scikit-survival.readthedocs.io/en/stable/user_guide/00-introduction.html#What-is-Survival-Analysis?)"
      ]
    },
    {
      "cell_type": "code",
      "execution_count": null,
      "metadata": {
        "id": "LZ-XajwkGuXI"
      },
      "outputs": [],
      "source": [
        "!pip install scikit-survival  "
      ]
    },
    {
      "cell_type": "code",
      "execution_count": null,
      "metadata": {
        "id": "XZAwcSIKwLhO"
      },
      "outputs": [],
      "source": [
        "#imports\n",
        "import pandas as pd\n",
        "import numpy as np\n",
        "import matplotlib.pyplot as plt"
      ]
    },
    {
      "cell_type": "code",
      "execution_count": null,
      "metadata": {
        "id": "TEozToq8GL8Q"
      },
      "outputs": [],
      "source": [
        "from sksurv.datasets import load_aids"
      ]
    },
    {
      "cell_type": "code",
      "execution_count": null,
      "metadata": {
        "id": "nejZ5SLT862B"
      },
      "outputs": [],
      "source": [
        "# read the dataset\n",
        "# ex other type of data : bank information source kaggle : https://www.kaggle.com/datasets/sakshigoyal7/credit-card-customers?resource=download\n",
        "\n",
        "\"\"\"\n",
        "AIDS Clinical Trial dataset\n",
        "The dataset has 1,151 samples and 11 features. The dataset has 2 endpoints:\n",
        ".AIDS defining event, which occurred for 96 patients (8.3%)\n",
        ".Death, which occurred for 26 patients (2.3%)\n",
        "\"\"\"\n",
        "\n",
        "# data_x : The measurements for each patient.\n",
        "data_x, data_y = load_aids()"
      ]
    },
    {
      "cell_type": "code",
      "execution_count": null,
      "metadata": {
        "id": "bmyi5jwcHj-S"
      },
      "outputs": [],
      "source": [
        "data_x.head(3)"
      ]
    },
    {
      "cell_type": "markdown",
      "metadata": {
        "id": "SWfQ3wXTHKIj"
      },
      "source": [
        "e.tdm: boolean indicating whether the endpoint has been reached or the event time is right censored.\n",
        "\n",
        "t.tdm: time to distant metastasis (days)"
      ]
    },
    {
      "cell_type": "code",
      "execution_count": null,
      "metadata": {
        "id": "7RRSKU4gGqrr"
      },
      "outputs": [],
      "source": [
        "pd.DataFrame.from_records(data_y[[11, 5, 32, 13, 23]], index=range(1, 6))"
      ]
    },
    {
      "cell_type": "code",
      "execution_count": null,
      "metadata": {
        "id": "Rvy8rT2cHE3Q"
      },
      "outputs": [],
      "source": [
        "%matplotlib inline\n",
        "from sksurv.nonparametric import kaplan_meier_estimator\n",
        "\n",
        "time, survival_prob = kaplan_meier_estimator(data_y[\"censor\"], data_y[\"time\"])\n",
        "plt.step(time, survival_prob, where=\"post\")\n",
        "plt.ylabel(\"probability of survival $\\hat{S}(t)$\")\n",
        "plt.xlabel(\"time $t$\")"
      ]
    },
    {
      "cell_type": "code",
      "execution_count": null,
      "metadata": {
        "id": "oHKBIDnkU4mp"
      },
      "outputs": [],
      "source": [
        "survival_times = np.array([5, 3, 2, 4, 7, 6, 5, 1, 8, 4, 3, 5, 6])\n",
        "event_indicators = np.array([1, 1, 0, 1, 1, 1, 1, 0, 1, 1, 0, 1, 1])\n",
        "event_indicators_bool = [x==1 for x in event_indicators]"
      ]
    },
    {
      "cell_type": "code",
      "execution_count": null,
      "metadata": {
        "id": "YOKtnn3Lx2NR"
      },
      "outputs": [],
      "source": [
        "t , s = kaplan_meier_estimator(event_indicators_bool, survival_times )\n",
        "plt.plot(t, s)\n",
        "plt.ylabel(\"probability of survival $\\hat{S}(t)$\")\n",
        "plt.xlabel(\"time $t$\")"
      ]
    },
    {
      "cell_type": "markdown",
      "metadata": {
        "id": "1Jvxq-yDe1SO"
      },
      "source": [
        "Survival function properties:\n",
        "$$\\hat S(t) = \\prod_{t_i \\leq t} \\frac{n_i - d_i}{n_i} = \\prod_{t_i \\leq t} 1 - \\frac{d_i}{n_i} =\\prod_{t_i \\leq t} 1 - \\frac{\\text{number of events that happened at time }t_i }{\\text{number of individuals known to have survived up to time }t_i } = \\prod_{t_i \\leq t} p_{t_i} $$\n",
        "\n",
        "Another form:\n",
        "$$\\hat S(t) = \\hat S(t-1)p_t$$\n"
      ]
    },
    {
      "cell_type": "code",
      "execution_count": null,
      "metadata": {
        "id": "yh4KKbtDyWWy"
      },
      "outputs": [],
      "source": [
        "def kaplan_meier_estm(event_indicators , survival_times ):\n",
        "    \"\"\"\n",
        "    Fits the Kaplan-Meier survival curve to the input event indicators and survival times.\n",
        "\n",
        "    Parameters:\n",
        "    survival_times (np array): time from study inclusion to event (death, relapse, etc.)\n",
        "    event_indicators (binary np array): the event of interest that occurs during the follow-up time (e.g., mortality, relapse, etc.)\n",
        "\n",
        "    Returns:\n",
        "    s (np array): estimated survival probabilities at each time point\n",
        "    t (np array): unique times at which the estimated survival probabilities change.\n",
        "    \"\"\"\n",
        "\n",
        "    # length of dataset\n",
        "    n = len(survival_times)\n",
        "\n",
        "    # compute unique survival times\n",
        "    t = np.unique(survival_times)\n",
        "    m = len(t)\n",
        "\n",
        "    # array that store the survival probabilities\n",
        "    s = np.ones(m)\n",
        "\n",
        "    # array that store the number of events\n",
        "    d = np.zeros(m)\n",
        "\n",
        "    for i in range(m):\n",
        "        # Count the number of events that occur (event indicator = 1) at time i\n",
        "        d[i] = np.sum((survival_times == t[i]) & event_indicators)\n",
        "\n",
        "        # compute the survival probability at time i\n",
        "        n_i = n - sum(d[:i]) # - d\n",
        "        s[i] = s[max(0, i-1)] * (1 - d[i] / n_i)\n",
        "    return t, s\n"
      ]
    },
    {
      "cell_type": "code",
      "execution_count": null,
      "metadata": {
        "id": "xSLoDkLB1cjo"
      },
      "outputs": [],
      "source": [
        "# Example usage\n",
        "\n",
        "t_new, s_new = kaplan_meier_estm(event_indicators , survival_times)\n",
        "print(\"Difference with KME of sklearn t:\",t-t_new)\n",
        "print(\"Difference with KME of sklearn s:\",s-s_new)\n",
        "plt.plot(t_new, s_new)\n",
        "plt.xlabel(\"Time\")\n",
        "plt.ylabel(\"Survival probability\")\n",
        "plt.title(\"Kaplan-Meier Survival Curve\")\n",
        "plt.show()"
      ]
    },
    {
      "cell_type": "code",
      "execution_count": null,
      "metadata": {
        "id": "2nGIg3ZmUJjR"
      },
      "outputs": [],
      "source": [
        "#problem : difference of 0.2 on the probabilities ... choice of the formula? \n",
        "#next: fonction fit - selon un clustering ? predict - métriques? ??"
      ]
    },
    {
      "cell_type": "markdown",
      "metadata": {
        "id": "ZmGkCe1bztpk"
      },
      "source": [
        "### Dataset"
      ]
    },
    {
      "cell_type": "markdown",
      "metadata": {
        "id": "R2jUVsP-z8y9"
      },
      "source": [
        "Since there's not access to the real data, the first step to do is to find/construct a dataset where the CLV can measurable/predictable. One can need to have some features such as: \n",
        "* Personal information : occupation, salary, gender, age, marital status, Geolocalisation (Country/town ...etc)\n",
        "* Date of entry to company/study\n",
        "* Date of leaving (can be empty if the element didn't quit yet)\n",
        "* Information related to the person as a client : number & types of products , communication email/call ..."
      ]
    }
  ],
  "metadata": {
    "colab": {
      "collapsed_sections": [
        "rXX7mcpXj709"
      ],
      "provenance": []
    },
    "kernelspec": {
      "display_name": "Python 3",
      "name": "python3"
    },
    "language_info": {
      "name": "python"
    }
  },
  "nbformat": 4,
  "nbformat_minor": 0
}